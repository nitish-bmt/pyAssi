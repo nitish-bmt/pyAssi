{
 "cells": [
  {
   "cell_type": "code",
   "execution_count": 62,
   "metadata": {},
   "outputs": [
    {
     "name": "stdout",
     "output_type": "stream",
     "text": [
      "[1, 2, 3, 4, 5, 6, 7, 8, 9, 10]\n",
      "[2, 4, 6, 8, 10]\n"
     ]
    }
   ],
   "source": [
    "# 1. Filter all even numbers from a list using filter.\n",
    "nums = [i for i in range(1,11)]\n",
    "print(nums)\n",
    "\n",
    "nums = list(filter(lambda x: x%2==0,nums))\n",
    "print(nums)"
   ]
  },
  {
   "cell_type": "code",
   "execution_count": 63,
   "metadata": {},
   "outputs": [
    {
     "name": "stdout",
     "output_type": "stream",
     "text": [
      "['banana', 'pineapple']\n"
     ]
    }
   ],
   "source": [
    "# 2. Use filter to find all strings in a list containing more than 5 characters.\n",
    "data = ['apple', 'banana', 'kiwi', 'pineapple']\n",
    "\n",
    "data = list(filter(lambda x: len(x)>5, data))\n",
    "print(data)"
   ]
  },
  {
   "cell_type": "code",
   "execution_count": 64,
   "metadata": {},
   "outputs": [
    {
     "name": "stdout",
     "output_type": "stream",
     "text": [
      "[1, 2, 3]\n"
     ]
    }
   ],
   "source": [
    "# 3. Filter out all None values from a list using filter.\n",
    "data = [1, None, 2, None, 3]\n",
    "\n",
    "data = list(filter(lambda x: x, data))\n",
    "print(data)"
   ]
  },
  {
   "cell_type": "code",
   "execution_count": 65,
   "metadata": {},
   "outputs": [
    {
     "name": "stdout",
     "output_type": "stream",
     "text": [
      "[11, 13]\n"
     ]
    }
   ],
   "source": [
    "# 4. Use filter to extract prime numbers from a list.\n",
    "nums = [10, 11, 12, 13, 14, 15]\n",
    "primes = list(filter(lambda x: x if len([i for i in range(2, x) if x%i==0])==0 else None, nums))\n",
    "print(primes)"
   ]
  },
  {
   "cell_type": "code",
   "execution_count": 66,
   "metadata": {},
   "outputs": [
    {
     "name": "stdout",
     "output_type": "stream",
     "text": [
      "['apple', 'apricot']\n"
     ]
    }
   ],
   "source": [
    "# 5. Write a function that filters words starting with a specific letter and use it with filter.\n",
    "data = ['apple', 'banana', 'apricot', 'grape']\n",
    "letter = 'a'\n",
    "\n",
    "data = list(filter(lambda x: x.startswith(letter), data))\n",
    "print(data)"
   ]
  },
  {
   "cell_type": "code",
   "execution_count": 67,
   "metadata": {},
   "outputs": [
    {
     "name": "stdout",
     "output_type": "stream",
     "text": [
      "['level', 'racecar']\n"
     ]
    }
   ],
   "source": [
    "# 6. Use filter to find all palindromic strings in a list.\n",
    "data = ['level', 'hello', 'racecar', 'world']\n",
    "\n",
    "palindromic = list(filter(lambda x: x==x[::-1], data))\n",
    "print(palindromic)"
   ]
  },
  {
   "cell_type": "code",
   "execution_count": 68,
   "metadata": {},
   "outputs": [
    {
     "name": "stdout",
     "output_type": "stream",
     "text": [
      "[2.5, 0, 4]\n"
     ]
    }
   ],
   "source": [
    "# 7. Extract all positive numbers from a mixed list of integers and floats using filter.\n",
    "data = [-1, 2.5, 0, -3.6, 4]\n",
    "\n",
    "positives = list(filter(lambda x: x>=0, data))\n",
    "print(positives)"
   ]
  },
  {
   "cell_type": "code",
   "execution_count": 69,
   "metadata": {},
   "outputs": [
    {
     "name": "stdout",
     "output_type": "stream",
     "text": [
      "[10, 15, 20, 25, 30]\n"
     ]
    }
   ],
   "source": [
    "# 8. Filter out all elements divisible by a given number using filter.\n",
    "data = [7, 10, 15, 20, 25, 30]\n",
    "divisor = 5\n",
    "\n",
    "divisible = list(filter(lambda x: x%5==0,data))\n",
    "print(divisible)"
   ]
  },
  {
   "cell_type": "code",
   "execution_count": 70,
   "metadata": {},
   "outputs": [
    {
     "name": "stdout",
     "output_type": "stream",
     "text": [
      "[{'a': 1}, {'a': 3, 'c': 4}]\n"
     ]
    }
   ],
   "source": [
    "# 9. Given a list of dictionaries, use filter to extract dictionaries where a specific key exists.\n",
    "data = [{'a': 1}, {'b': 2}, {'a': 3, 'c': 4}]\n",
    "key_to_find = 'a'\n",
    "\n",
    "data = list(filter(lambda x: x if key_to_find in x.keys() else None, data))\n",
    "print(data)"
   ]
  },
  {
   "cell_type": "code",
   "execution_count": 71,
   "metadata": {},
   "outputs": [
    {
     "name": "stdout",
     "output_type": "stream",
     "text": [
      "[10, 20, 20, 20, 30, 40, 50]\n",
      "[20, 20, 40]\n"
     ]
    }
   ],
   "source": [
    "# 10. Use filter to get all odd-indexed elements from a list.\n",
    "data = [10, 20, 20, 20, 30, 40, 50]\n",
    "print(data)\n",
    "odd_indexed = list(map(\n",
    "    lambda x: x[1], \n",
    "    filter(\n",
    "        lambda x: x[0]%2!=0, \n",
    "        enumerate(data)\n",
    "    )\n",
    "))\n",
    "print(odd_indexed)"
   ]
  },
  {
   "cell_type": "code",
   "execution_count": 72,
   "metadata": {},
   "outputs": [
    {
     "name": "stdout",
     "output_type": "stream",
     "text": [
      "30.0\n",
      "[40, 50]\n"
     ]
    }
   ],
   "source": [
    "# 11. Filter all numbers greater than the mean of the list using filter.\n",
    "data = [10, 20, 30, 40, 50]\n",
    "mean = sum(data)/len(data)\n",
    "print(mean)\n",
    "\n",
    "greater_than_mean = list(filter(lambda x: x>mean, data))\n",
    "print(greater_than_mean)"
   ]
  },
  {
   "cell_type": "code",
   "execution_count": 73,
   "metadata": {},
   "outputs": [
    {
     "name": "stdout",
     "output_type": "stream",
     "text": [
      "['hello', 'world']\n"
     ]
    }
   ],
   "source": [
    "# 12. Use filter to find strings in a list that contain only alphabets.\n",
    "data = ['abc123', 'hello', 'python3', 'world']\n",
    "\n",
    "only_alpha = list(filter(lambda x: x.isalpha(), data))\n",
    "print(only_alpha)"
   ]
  },
  {
   "cell_type": "code",
   "execution_count": 74,
   "metadata": {},
   "outputs": [
    {
     "name": "stdout",
     "output_type": "stream",
     "text": [
      "['abc123', 'python3']\n"
     ]
    }
   ],
   "source": [
    "# 13. Filter out strings containing any digit from a list using filter.\n",
    "data = ['abc123', 'hello', 'python3', 'world']\n",
    "\n",
    "includes_digit = list(filter(lambda x: x if any([i.isdigit() for i in x]) else None, data))\n",
    "print(includes_digit)"
   ]
  },
  {
   "cell_type": "code",
   "execution_count": 75,
   "metadata": {},
   "outputs": [
    {
     "name": "stdout",
     "output_type": "stream",
     "text": [
      "[('Alice', 20), ('Charlie', 25)]\n"
     ]
    }
   ],
   "source": [
    "# 14. Use filter to extract names from a list of tuples where the second element is greater than a given value.\n",
    "data = [('Alice', 20), ('Bob', 15), ('Charlie', 25)] \n",
    "threshold = 18\n",
    "\n",
    "greater_than_threshold = list(filter(lambda x: x[1]>threshold, data))\n",
    "print(greater_than_threshold)"
   ]
  },
  {
   "cell_type": "code",
   "execution_count": 76,
   "metadata": {},
   "outputs": [
    {
     "name": "stdout",
     "output_type": "stream",
     "text": [
      "[15, 30, 45]\n"
     ]
    }
   ],
   "source": [
    "# 15. Filter all numbers that are divisible by both 3 and 5 using filter.\n",
    "data = [15, 20, 30, 40, 45, 50]\n",
    "\n",
    "divisible = list(filter(lambda x: x%3==0 and x%5==0, data))\n",
    "print(divisible)"
   ]
  }
 ],
 "metadata": {
  "kernelspec": {
   "display_name": "Python 3",
   "language": "python",
   "name": "python3"
  },
  "language_info": {
   "codemirror_mode": {
    "name": "ipython",
    "version": 3
   },
   "file_extension": ".py",
   "mimetype": "text/x-python",
   "name": "python",
   "nbconvert_exporter": "python",
   "pygments_lexer": "ipython3",
   "version": "3.10.12"
  }
 },
 "nbformat": 4,
 "nbformat_minor": 2
}
