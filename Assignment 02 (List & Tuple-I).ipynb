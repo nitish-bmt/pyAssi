{
 "cells": [
  {
   "cell_type": "markdown",
   "id": "2740a28a-394b-48d5-81a4-c335f5b46427",
   "metadata": {},
   "source": [
    "#### Q1: What is a List?\n",
    "#### ANS:- \n",
    "List is a collection of heterogeneous data type elements (not necessarily unique). A list in Python is used to store the sequence of various types of data. Python lists are mutable type its mean we can modify its element after it created.\n"
   ]
  },
  {
   "cell_type": "markdown",
   "id": "0acd88ff-071d-4478-a166-5be4c5a7a8e9",
   "metadata": {},
   "source": [
    "#### Q2. What is a Tuple?\n",
    "#### ANS:\n",
    "- `tuple` is immutable data type that is collection of hetegeneous elements and seperated by comma\n",
    "- Tuples are used to store multiple items in a single variable.\n",
    "- A tuple is a collection which is ordered and unchangeable."
   ]
  },
  {
   "cell_type": "markdown",
   "id": "a18ebcf5-3fdb-4f04-96bb-d20531fc4351",
   "metadata": {},
   "source": [
    "#### Q3. What is the difference between List and Tuple?\n",
    "#### ANS: \n",
    "- List is mutable data type where as tuple is immutable data type\n",
    "- list is created by using square brackets `[]` and elements are seperated by commas `,`. where as tuple is created by using paranthesis `()` and elements are seperated by using commas `,`\n",
    "- list elements which are changable and ordered while tuple elements are unchangable and ordered.\n",
    "- list is used to store the sequence of various data types, where as tuple is used too strore multiple items in a single variable.\n"
   ]
  },
  {
   "cell_type": "markdown",
   "id": "434db330-c8a3-4301-afb8-1cfbb9916e1d",
   "metadata": {},
   "source": [
    "#### Q4. Python Program to find the largest element in the list\n"
   ]
  },
  {
   "cell_type": "code",
   "execution_count": 2,
   "id": "48edf800-abbf-4ace-a442-be49e5942edb",
   "metadata": {},
   "outputs": [
    {
     "data": {
      "text/plain": [
       "12"
      ]
     },
     "execution_count": 2,
     "metadata": {},
     "output_type": "execute_result"
    }
   ],
   "source": [
    "def largest_ele(list1):\n",
    "    list1.sort()\n",
    "    result = list1[-1]\n",
    "    return result\n",
    "\n",
    "list1 = [1,2,3,4,5,12,1,4]\n",
    "largest_ele(list1)"
   ]
  },
  {
   "cell_type": "markdown",
   "id": "b6be8f58-a155-417b-8408-574d0cfafa6d",
   "metadata": {},
   "source": [
    "#### Q5. Python program to interchange first and last elements in a list.\n"
   ]
  },
  {
   "cell_type": "code",
   "execution_count": 3,
   "id": "56e21c41-5566-4f0b-a2f4-e31c62a7adf7",
   "metadata": {},
   "outputs": [
    {
     "data": {
      "text/plain": [
       "['java', 'pune', 'python', 'velocity']"
      ]
     },
     "execution_count": 3,
     "metadata": {},
     "output_type": "execute_result"
    }
   ],
   "source": [
    "def interchange(giv_list):\n",
    "    temp=giv_list[0]\n",
    "    giv_list[0]=giv_list[-1]\n",
    "    giv_list[-1]=temp\n",
    "    return giv_list\n",
    "\n",
    "giv_list = ['velocity','pune','python','java']\n",
    "interchange(giv_list)\n"
   ]
  },
  {
   "cell_type": "markdown",
   "id": "2a8538ec-0b28-4f32-a939-4c6a1cf08120",
   "metadata": {},
   "source": [
    "#### Q6. Python program to swap two elements in a list\n"
   ]
  },
  {
   "cell_type": "code",
   "execution_count": 4,
   "id": "a0d9f41b-a77a-4b3e-adc2-3e6f5f6dcf1d",
   "metadata": {},
   "outputs": [
    {
     "name": "stdout",
     "output_type": "stream",
     "text": [
      "list before swapping:  ['Rohit', 'Gaikwad', 'from', 'Indapur']\n",
      "list after swapping elements:  ['Rohit', 'Indapur', 'from', 'Gaikwad']\n"
     ]
    }
   ],
   "source": [
    "def swapcaselist(list1):\n",
    "    print(\"list before swapping: \",given_list)\n",
    "    temp=given_list[1]\n",
    "\n",
    "    given_list[1]=given_list[3]\n",
    "    given_list[3]=temp\n",
    "    swapped = print(\"list after swapping elements: \",given_list)\n",
    "    return swapped\n",
    "\n",
    "\n",
    "given_list=[\"Rohit\",\"Gaikwad\",\"from\",\"Indapur\"]\n",
    "swapcaselist(given_list)\n",
    "\n"
   ]
  },
  {
   "cell_type": "markdown",
   "id": "ccebefed-76bf-4278-86ae-9a7c59b9f842",
   "metadata": {},
   "source": [
    "#### Q7. Python program to Reverse a List\n"
   ]
  },
  {
   "cell_type": "code",
   "execution_count": 5,
   "id": "bfda0e4e-73e7-46ae-ae87-0b0ce5e0cdd9",
   "metadata": {},
   "outputs": [
    {
     "name": "stdout",
     "output_type": "stream",
     "text": [
      "List in reversed order:\n",
      " ['Pune', 'Indapur', 'From', 'Gaikwad', 'Rohit']\n"
     ]
    }
   ],
   "source": [
    "def reverselist(list1):\n",
    "    print(\"List in reversed order:\\n\",giv_list[::-1])\n",
    "\n",
    "\n",
    "giv_list=[\"Rohit\",\"Gaikwad\",\"From\",\"Indapur\",\"Pune\"]\n",
    "reverselist(giv_list)\n"
   ]
  },
  {
   "cell_type": "markdown",
   "id": "7547d7ba-5343-463d-9d32-d2c8b340396e",
   "metadata": {},
   "source": [
    "#### Q8. Python program to count occurrences of an element in a list\n"
   ]
  },
  {
   "cell_type": "code",
   "execution_count": 6,
   "id": "258fbb23-a681-4d7f-8535-2efd0e8bf5bd",
   "metadata": {},
   "outputs": [
    {
     "name": "stdout",
     "output_type": "stream",
     "text": [
      "The count of 12 is : 3\n"
     ]
    }
   ],
   "source": [
    "def countoccurance(list1, element=\"\"):\n",
    "    \n",
    "    result = print(f\"The count of {element} is :\",list1.count(element))\n",
    "    return result \n",
    "\n",
    "list1=[12,45,12,56,125,3,125,213,14,12]\n",
    "countoccurance(list1,12)\n"
   ]
  },
  {
   "cell_type": "markdown",
   "id": "cca11407-4b28-4b8e-863d-ec496097f06a",
   "metadata": {},
   "source": [
    "#### Q9. Python program to find the sum of elements in a list\n"
   ]
  },
  {
   "cell_type": "code",
   "execution_count": 7,
   "id": "171b6493-f3a8-491b-a285-a9af6bdd7b7d",
   "metadata": {},
   "outputs": [
    {
     "name": "stdout",
     "output_type": "stream",
     "text": [
      "The sum of given list elements are:  617\n"
     ]
    }
   ],
   "source": [
    "def sumoflist(list1):\n",
    "    sum_ = 0\n",
    "    for i in list1:\n",
    "        sum_ = sum_ + i\n",
    "    result = print(f\"The sum of given list elements are: \", sum_)\n",
    "    return result\n",
    "\n",
    "list_ = [12,45,12,56,125,3,125,213,14,12]\n",
    "sumoflist(list_)"
   ]
  },
  {
   "cell_type": "markdown",
   "id": "325a7f1c-3a5a-4bec-8d31-72dd0a13a368",
   "metadata": {},
   "source": [
    "#### Q10. Python program to Multiply all numbers in the list\n"
   ]
  },
  {
   "cell_type": "code",
   "execution_count": 8,
   "id": "53f640b2-c800-4a9c-a0fa-2a07e9ff6801",
   "metadata": {},
   "outputs": [
    {
     "name": "stdout",
     "output_type": "stream",
     "text": [
      "The sum of given list elements are:  362880\n"
     ]
    }
   ],
   "source": [
    "def multoflist(list1):\n",
    "    mult_ = 1\n",
    "    for i in list1:\n",
    "        mult_ = mult_ * i\n",
    "    result = print(f\"The sum of given list elements are: \", mult_)\n",
    "    return result\n",
    "\n",
    "list_ = [12,45,12,56]\n",
    "multoflist(list_)"
   ]
  },
  {
   "cell_type": "markdown",
   "id": "84926a4a-ea51-4ae5-a38f-f57797d63e6e",
   "metadata": {},
   "source": [
    "#### Q11. What are the ways to find the length of a list\n",
    "#### ANS:\n",
    "Length of list can be find out by following methods:\n",
    "1. `Using sum()`\n",
    "2. `Using len()`\n",
    "3. `Using Naive Method`"
   ]
  },
  {
   "cell_type": "code",
   "execution_count": 9,
   "id": "d070a357-36a4-4840-aa36-cbf3dc1a5ea8",
   "metadata": {},
   "outputs": [
    {
     "name": "stdout",
     "output_type": "stream",
     "text": [
      "The list is :  [1, 2, 6, 5, 8, 9, 12]\n",
      "Length of list using sum() is :  7\n",
      "Length of list using len() is :  7\n",
      "Length of list using naive method is :  7\n"
     ]
    }
   ],
   "source": [
    "def lenoflist(inputlist):\n",
    "    print (\"The list is : \",giv_list)\n",
    "    # Method-1 Using sum()\n",
    "    list_len = sum(1 for i in giv_list)\n",
    "    method1 = print (\"Length of list using sum() is : \",list_len)\n",
    "    \n",
    "    # Method-2 Using len()\n",
    "    list_len = len(giv_list)\n",
    "    method2 = print(\"Length of list using len() is : \",list_len)\n",
    "    \n",
    "    # Method-3 Using naive method  \n",
    "    counter = 0\n",
    "    for i in giv_list:\n",
    "         counter = counter + 1\n",
    "    method3 = print(\"Length of list using naive method is : \" ,counter)\n",
    "    \n",
    "    \n",
    "    return method1\n",
    "    return method1\n",
    "    return method3\n",
    "\n",
    "giv_list = [1,2,6,5,8,9,12]\n",
    "lenoflist(giv_list)"
   ]
  },
  {
   "cell_type": "markdown",
   "id": "f292bd4a-fb6b-4d3d-840e-761186841201",
   "metadata": {},
   "source": [
    "#### Q12. Python program to find the smallest and largest number in a list (Without min-max function)\n"
   ]
  },
  {
   "cell_type": "code",
   "execution_count": 10,
   "id": "c64dbeb7-6c91-41f4-9e1d-36c34ad7dfa0",
   "metadata": {},
   "outputs": [
    {
     "name": "stdout",
     "output_type": "stream",
     "text": [
      "The smallest number in list is :  1\n",
      "The largest number in list is :  12\n"
     ]
    }
   ],
   "source": [
    "def small_large_num(inputlist):\n",
    "    inputlist.sort()\n",
    "    small = print(\"The smallest number in list is : \", inputlist[0])\n",
    "    large = print(\"The largest number in list is : \",inputlist[-1])\n",
    "    \n",
    "    \n",
    "    return small\n",
    "    return large\n",
    "\n",
    "giv_list = [1,2,6,5,8,9,12]\n",
    "small_large_num(giv_list)"
   ]
  },
  {
   "cell_type": "markdown",
   "id": "87e82cf7-b07c-4fd9-a9cf-7810f8b2151e",
   "metadata": {},
   "source": [
    "#### Q13. Python Program to find the area of a circle\n"
   ]
  },
  {
   "cell_type": "code",
   "execution_count": 11,
   "id": "2dab4448-c278-4a3e-b822-e46505c24401",
   "metadata": {},
   "outputs": [
    {
     "name": "stdout",
     "output_type": "stream",
     "text": [
      "The area of radius 4 is : 50.272\n"
     ]
    }
   ],
   "source": [
    "def areaofcircle(radius, pi = 3.142):\n",
    "    result = print(f\"The area of radius {radius} is :\", pi * radius ** 2)\n",
    "    return result\n",
    "\n",
    "radius = int(input(\"Please enter radius: \"))\n",
    "areaofcircle(radius)"
   ]
  },
  {
   "cell_type": "markdown",
   "id": "4ca946fc-3788-4ae0-8855-c0964b66e350",
   "metadata": {},
   "source": [
    "#### Q14. Take inputs from the user to make a list. Again take one input from the user and search it in the list and delete that element, if found. Iterate over a list using for loop.\n"
   ]
  },
  {
   "cell_type": "code",
   "execution_count": 12,
   "id": "98befbce-538c-4cd4-b86f-609a495b3457",
   "metadata": {},
   "outputs": [
    {
     "data": {
      "text/plain": [
       "['1']"
      ]
     },
     "execution_count": 12,
     "metadata": {},
     "output_type": "execute_result"
    }
   ],
   "source": [
    "def listoperation(inputlist, element):\n",
    "    new = inputlist.split()\n",
    "    for ele in new:\n",
    "        if ele == element:\n",
    "            new.remove(ele)\n",
    "\n",
    "    return new\n",
    "\n",
    "inputlist1 = input(\"Please enter the elements of list: \")\n",
    "element1 = input(\"Please enter element to search: \")\n",
    "listoperation(inputlist1, element1)\n"
   ]
  },
  {
   "cell_type": "markdown",
   "id": "4af000eb-7e34-49dc-883e-94cebe9e2309",
   "metadata": {},
   "source": [
    "#### Q15. You are given a list of integer elements. Make a new list that will store a square of elements of the previous list. (With and without list comprehension)\n",
    "1. Input_list = [2,5,6,12]\n",
    "2. Output_list = [4,25,36,144]\n"
   ]
  },
  {
   "cell_type": "code",
   "execution_count": 13,
   "id": "69a25a8b-635e-4299-ac59-7ac7dec97bc5",
   "metadata": {},
   "outputs": [
    {
     "data": {
      "text/plain": [
       "[4, 25, 36, 144]"
      ]
     },
     "execution_count": 13,
     "metadata": {},
     "output_type": "execute_result"
    }
   ],
   "source": [
    "# Solving problem by using list comprehension\n",
    "\n",
    "input_list = [2,5,6,12]\n",
    "[ele ** 2 for ele in input_list]"
   ]
  },
  {
   "cell_type": "code",
   "execution_count": 14,
   "id": "3515a262-d499-4792-be1c-b65e8cdb10fd",
   "metadata": {},
   "outputs": [
    {
     "name": "stdout",
     "output_type": "stream",
     "text": [
      "[4, 25, 36, 144]\n"
     ]
    }
   ],
   "source": [
    "# Solving problem without using list comprehension\n",
    "\n",
    "input_list = [2,5,6,12]\n",
    "\n",
    "output_list = []\n",
    "for ele in input_list:\n",
    "    output_list.append(ele ** 2)\n",
    "print(output_list)\n",
    "    "
   ]
  },
  {
   "cell_type": "markdown",
   "id": "a71225a7-9f30-4a05-98e0-5760bc30c42d",
   "metadata": {},
   "source": [
    "#### Q16. Write a pyhton code to create two lists, one containing all even numbers and the other containing all odd numbers between 0 to 151\n"
   ]
  },
  {
   "cell_type": "code",
   "execution_count": 15,
   "id": "65948323-e58c-463d-8ab4-49c06d0402c4",
   "metadata": {},
   "outputs": [
    {
     "name": "stdout",
     "output_type": "stream",
     "text": [
      "The list of even numbers are: \n",
      " [0, 2, 4, 6, 8, 10, 12, 14, 16, 18, 20, 22, 24, 26, 28, 30, 32, 34, 36, 38, 40, 42, 44, 46, 48, 50, 52, 54, 56, 58, 60, 62, 64, 66, 68, 70, 72, 74, 76, 78, 80, 82, 84, 86, 88, 90, 92, 94, 96, 98, 100, 102, 104, 106, 108, 110, 112, 114, 116, 118, 120, 122, 124, 126, 128, 130, 132, 134, 136, 138, 140, 142, 144, 146, 148, 150]\n",
      "\n",
      "The list of odd numbers are: \n",
      " [1, 3, 5, 7, 9, 11, 13, 15, 17, 19, 21, 23, 25, 27, 29, 31, 33, 35, 37, 39, 41, 43, 45, 47, 49, 51, 53, 55, 57, 59, 61, 63, 65, 67, 69, 71, 73, 75, 77, 79, 81, 83, 85, 87, 89, 91, 93, 95, 97, 99, 101, 103, 105, 107, 109, 111, 113, 115, 117, 119, 121, 123, 125, 127, 129, 131, 133, 135, 137, 139, 141, 143, 145, 147, 149]\n"
     ]
    }
   ],
   "source": [
    "even = []\n",
    "odd = []\n",
    "\n",
    "for num in range(0,151):\n",
    "    if num % 2 == 0:\n",
    "        even.append(num)\n",
    "    else:\n",
    "        odd.append(num)\n",
    "print(\"The list of even numbers are: \\n\",even)\n",
    "print(\"\\nThe list of odd numbers are: \\n\", odd)"
   ]
  },
  {
   "cell_type": "markdown",
   "id": "7b66664e-c38d-4aa8-a345-34c9f8f7a061",
   "metadata": {},
   "source": [
    "#### Q17. Python program to Count Even and Odd numbers in a List\n"
   ]
  },
  {
   "cell_type": "code",
   "execution_count": 16,
   "id": "851b47db-8b54-4016-a50d-01febd04200c",
   "metadata": {},
   "outputs": [
    {
     "name": "stdout",
     "output_type": "stream",
     "text": [
      "The count of even numbers are 2\n",
      "The count of odd numbers are 3\n"
     ]
    }
   ],
   "source": [
    "def evenodd_check(list1):\n",
    "    even = 0\n",
    "    odd = 0\n",
    "    for ele in list1:\n",
    "        \n",
    "        if ele % 2 == 0:\n",
    "            even = even + 1\n",
    "            \n",
    "        else:\n",
    "            odd = odd + 1\n",
    "            \n",
    "    e = print(f'The count of even numbers are {even}')\n",
    "    o = print(f'The count of odd numbers are {odd}')\n",
    "    return e\n",
    "    return o\n",
    "\n",
    "list2 = [1,2,3,4,5]\n",
    "evenodd_check(list2)"
   ]
  },
  {
   "cell_type": "markdown",
   "id": "30ea923b-80e9-45a7-9b5b-0b6c10b65583",
   "metadata": {},
   "source": [
    "#### Q18. Write a python programme to make new lists, containing only numbers which are divisible by 4, 6, 8, 10, 3, 5, 7, and 9 in separate lists for range(0,151)\n"
   ]
  },
  {
   "cell_type": "code",
   "execution_count": 17,
   "id": "6be85c55-5ffa-49f6-afbd-bc3f4df93e47",
   "metadata": {},
   "outputs": [
    {
     "name": "stdout",
     "output_type": "stream",
     "text": [
      "[0, 3, 4, 5, 6, 7, 8, 9, 10, 12, 14, 15, 16, 18, 20, 21, 24, 25, 27, 28, 30, 32, 33, 35, 36, 39, 40, 42, 44, 45, 48, 49, 50, 51, 52, 54, 55, 56, 57, 60, 63, 64, 65, 66, 68, 69, 70, 72, 75, 76, 77, 78, 80, 81, 84, 85, 87, 88, 90, 91, 92, 93, 95, 96, 98, 99, 100, 102, 104, 105, 108, 110, 111, 112, 114, 115, 116, 117, 119, 120, 123, 124, 125, 126, 128, 129, 130, 132, 133, 135, 136, 138, 140, 141, 144, 145, 147, 148, 150]\n"
     ]
    }
   ],
   "source": [
    "newlist = []\n",
    "for num in range(0,151):\n",
    "    if num % 4 == 0 or num % 6 == 0 or num % 8 == 0 or num % 10 == 0 or num % 3 == 0 or num % 5 == 0 or num % 7 == 0 or num % 9 == 0:\n",
    "        newlist.append(num)\n",
    "print(newlist)"
   ]
  },
  {
   "cell_type": "markdown",
   "id": "7bd04968-2e1f-47e0-bcb3-0f70f38e4646",
   "metadata": {},
   "source": [
    "#### Q19. From a list containing ints, strings, and floats, make three lists to store them separately.\n"
   ]
  },
  {
   "cell_type": "code",
   "execution_count": 18,
   "id": "f06ec87b-a52a-4355-a371-37964c140858",
   "metadata": {},
   "outputs": [
    {
     "name": "stdout",
     "output_type": "stream",
     "text": [
      "integer element list from given list:  [1, 2, 4]\n",
      "string element list from given list:  ['rohit', 'gaikwad']\n",
      "float element list from given list:  [1.03, 2.05]\n"
     ]
    }
   ],
   "source": [
    "ints = []\n",
    "strings = []\n",
    "floats = []\n",
    "giv_list = [\"rohit\",1,2,\"gaikwad\",1.03,4,2.05]\n",
    "\n",
    "for ele in giv_list:\n",
    "    if type(ele) == str:\n",
    "        strings.append(ele)\n",
    "    elif type(ele) == int:\n",
    "        ints.append(ele)\n",
    "    elif type(ele) == float:\n",
    "        floats.append(ele)\n",
    "print(\"integer element list from given list: \", ints)\n",
    "print(\"string element list from given list: \", strings)      \n",
    "print(\"float element list from given list: \", floats)        "
   ]
  },
  {
   "cell_type": "markdown",
   "id": "eee28a02-2b0b-4da6-850a-d730413b2c8e",
   "metadata": {},
   "source": [
    "#### Q20. What’s The Difference Between The Python append() and extend() Methods?\n"
   ]
  },
  {
   "cell_type": "markdown",
   "id": "df3f4210-cdf3-464b-8dad-669d2f7c9979",
   "metadata": {},
   "source": [
    "##### ANS:\n",
    "##### `Append Function` \n",
    "- It is funtion of list data structure and It returns the elements to exixting list at the `end of list.`\n",
    "\n",
    "##### `Extend Function`\n",
    "- It is also function of list data structure and It extend list by appending elements from the iterable i.e second list."
   ]
  },
  {
   "cell_type": "code",
   "execution_count": 19,
   "id": "3a4b8c4c-afb4-47cf-98f9-68bcde3ef7ea",
   "metadata": {},
   "outputs": [
    {
     "name": "stdout",
     "output_type": "stream",
     "text": [
      "Append Function output: [12, 13, 14, 15, 16, 17, [45, 46, 47, 48]]\n",
      "Extend Function output: [1, 2, 3, 4, 5, 6, 45, 46, 47, 48]\n"
     ]
    }
   ],
   "source": [
    "# Append Function\n",
    "list1=[12,13,14,15,16,17]\n",
    "list2=[45,46,47,48]\n",
    "list1.append(list2)\n",
    "print(\"Append Function output:\", list1)\n",
    "\n",
    "# Extend Function\n",
    "list3=[1,2,3,4,5,6]\n",
    "list4=[45,46,47,48]\n",
    "list3.extend(list4)\n",
    "print(\"Extend Function output:\",list3)"
   ]
  },
  {
   "cell_type": "markdown",
   "id": "6ed4f17b-7369-44a7-b097-9efe76b71b27",
   "metadata": {},
   "source": [
    "#### Q21. Write a Python program to append a list to the second list"
   ]
  },
  {
   "cell_type": "code",
   "execution_count": 20,
   "id": "62e8c0d3-d197-4320-9658-b01c048d2d04",
   "metadata": {},
   "outputs": [
    {
     "name": "stdout",
     "output_type": "stream",
     "text": [
      "[0, 1, 2, 3, 4, [5, 6, 7, 8, 9]]\n"
     ]
    }
   ],
   "source": [
    "list1=[5,6,7,8,9]\n",
    "list2=[0,1,2,3,4]\n",
    "\n",
    "list2.append(list1)\n",
    "print(list2)"
   ]
  },
  {
   "cell_type": "markdown",
   "id": "247d5f8c-106f-41a9-bb19-2b9f5564ea0b",
   "metadata": {},
   "source": [
    "#### Q22. Write a Python program to find the third-largest number in a list\n"
   ]
  },
  {
   "cell_type": "code",
   "execution_count": 21,
   "id": "25288672-6a0c-4a3f-a950-b9b2c13fa0f2",
   "metadata": {},
   "outputs": [
    {
     "data": {
      "text/plain": [
       "145"
      ]
     },
     "execution_count": 21,
     "metadata": {},
     "output_type": "execute_result"
    }
   ],
   "source": [
    "list1 = [1,12,41,152,123,145,145,235]\n",
    "\n",
    "list1.sort()\n",
    "\n",
    "list1[-3]"
   ]
  },
  {
   "cell_type": "markdown",
   "id": "883a0e8b-a761-4d6c-ba54-df4502e32838",
   "metadata": {},
   "source": [
    "#### Q23. Write a Python program to get the frequency of the elements in a list.\n"
   ]
  },
  {
   "cell_type": "code",
   "execution_count": 22,
   "id": "1d683bb3-833c-43e7-8ea5-77ef88d2f001",
   "metadata": {},
   "outputs": [
    {
     "name": "stdout",
     "output_type": "stream",
     "text": [
      "velocity has occurred 2 times.\n",
      "python has occurred 2 times.\n",
      "training has occurred 1 times.\n"
     ]
    }
   ],
   "source": [
    "# by using while loop\n",
    "\n",
    "giv_list = [\"velocity\", \"python\", \"training\", \"velocity\",\"python\"]\n",
    "\n",
    "visited = []\n",
    "i = 0\n",
    "size = len(giv_list)\n",
    "\n",
    "while i < size:\n",
    "    element = giv_list[i]\n",
    "    if element in visited:\n",
    "        pass\n",
    "    else:\n",
    "        visited.append(element)\n",
    "        frequency = giv_list.count(element)  \n",
    "        print(\"{element} has occurred {frequency} times.\".format(element=element, frequency=frequency))\n",
    "    i +=1"
   ]
  },
  {
   "cell_type": "code",
   "execution_count": 23,
   "id": "ddd1368c-0c82-474e-b227-24f3b16bf468",
   "metadata": {},
   "outputs": [
    {
     "name": "stdout",
     "output_type": "stream",
     "text": [
      "velocity has occurred 2 times\n",
      "python has occurred 2 times\n",
      "training has occurred 1 times\n"
     ]
    }
   ],
   "source": [
    "# By using for loop\n",
    "\n",
    "giv_list = [\"velocity\", \"python\", \"training\", \"velocity\",\"python\"]\n",
    "\n",
    "new = []\n",
    "\n",
    "for ele in giv_list:\n",
    "    if ele in new:\n",
    "        pass\n",
    "    else:\n",
    "        new.append(ele)\n",
    "        freq = giv_list.count(ele)\n",
    "        print(f\"{ele} has occurred {freq} times\")"
   ]
  },
  {
   "cell_type": "markdown",
   "id": "cd5ba760-2586-4fd7-8963-c5a58df4db58",
   "metadata": {},
   "source": [
    "#### Q24. Write a Python program to check whether a list contains a sublist\n"
   ]
  },
  {
   "cell_type": "code",
   "execution_count": 24,
   "id": "beee44e8-6774-48d8-b24e-e338b9d6c05b",
   "metadata": {},
   "outputs": [
    {
     "name": "stdout",
     "output_type": "stream",
     "text": [
      "The given list contains a sub-list\n"
     ]
    }
   ],
   "source": [
    "# Using while loop\n",
    "\n",
    "ex1 = [1, 2,['rohit','gaikwad']]\n",
    "\n",
    "len_ex1 = len(ex1)\n",
    "contains_sublist = False\n",
    "i = 0\n",
    "\n",
    "while i < len_ex1:\n",
    "    element = ex1[i]\n",
    "    \n",
    "    if type(element) == type(list()):\n",
    "        contains_sublist = True\n",
    "        \n",
    "    i += 1\n",
    "    \n",
    "if contains_sublist:\n",
    "    print(\"The given list contains a sub-list\")\n",
    "else:    \n",
    "    print(\"The given list does not contain sub-list\")"
   ]
  },
  {
   "cell_type": "code",
   "execution_count": 25,
   "id": "85e29030-be09-45fc-90a6-2680301494da",
   "metadata": {},
   "outputs": [
    {
     "name": "stdout",
     "output_type": "stream",
     "text": [
      "The given list contains a sub-list\n"
     ]
    }
   ],
   "source": [
    "# Using while loop\n",
    "\n",
    "ex1 = [1, 2,['rohit','gaikwad']]\n",
    "\n",
    "contains_sublist = False\n",
    "\n",
    "for ele in ex1:\n",
    "    if type(ele) == type(list()):\n",
    "        contains_sublist = True\n",
    "        \n",
    "if contains_sublist:\n",
    "    print(\"The given list contains a sub-list\")\n",
    "else:    \n",
    "    print(\"The given list does not contain sub-list\")"
   ]
  },
  {
   "cell_type": "markdown",
   "id": "1459f5ee-c296-4e48-8efc-858f34adfbdc",
   "metadata": {},
   "source": [
    "#### Q25. Write a Python program to generate all sublists of a list\n"
   ]
  },
  {
   "cell_type": "code",
   "execution_count": 26,
   "id": "e41f0bfd-5e13-44e8-928e-ab4bdc01d023",
   "metadata": {},
   "outputs": [
    {
     "name": "stdout",
     "output_type": "stream",
     "text": [
      "['rohit', 'gaikwad']\n",
      "[True, False]\n"
     ]
    }
   ],
   "source": [
    "ex1 = [1, 2,['rohit','gaikwad'],5,4,[True, False]]\n",
    "\n",
    "contains_sublist = False\n",
    "\n",
    "for ele in ex1:\n",
    "    if type(ele) == type(list()):\n",
    "        print(ele)"
   ]
  },
  {
   "cell_type": "markdown",
   "id": "3a0a7437-f470-4a39-804e-e74291dd423b",
   "metadata": {},
   "source": [
    "#### Q26. Write a Python program to find common items from two lists\n"
   ]
  },
  {
   "cell_type": "code",
   "execution_count": 27,
   "id": "f31ca567-b969-41f1-80be-41b184ca9483",
   "metadata": {},
   "outputs": [
    {
     "name": "stdout",
     "output_type": "stream",
     "text": [
      "[4, 5]\n"
     ]
    }
   ],
   "source": [
    "foo = [1, 2, 3, 4, 5]\n",
    "bar = [4, 5, 6, 7]\n",
    "\n",
    "new = []\n",
    "\n",
    "for ele in foo:\n",
    "    if ele in bar:\n",
    "        new.append(ele)\n",
    "print(new)\n",
    "        "
   ]
  },
  {
   "cell_type": "markdown",
   "id": "a0c14f64-ea0d-41f7-b46f-38cf25708547",
   "metadata": {},
   "source": [
    "#### Q27. How to flatten a list in python?\n"
   ]
  },
  {
   "cell_type": "code",
   "execution_count": 28,
   "id": "36e957bd-1cec-42f8-bfcb-e48d520d1f8f",
   "metadata": {},
   "outputs": [
    {
     "name": "stdout",
     "output_type": "stream",
     "text": [
      "flattened list using * operator : [1, 4, 5, 6, 5, 'two', 'three']\n",
      "flattened list using list.extend() : [1, 4, 5, 6, 5, 'two', 'three']\n",
      "flattened list using list comprehension:  [1, 4, 5, 6, 5, 3, 5, 7, 2, 5]\n",
      "flattened list using + : [1, 4, 5, 6, 5, 3, 5, 7, 2, 5]\n",
      "flattened list using naive method : [1, 4, 5, 6, 5, 3, 5, 7, 2, 5]\n"
     ]
    }
   ],
   "source": [
    "list1 = [1, 4, 5, 6, 5]\n",
    "list2 = [\"two\",\"three\"]\n",
    "\n",
    "# Method 1 : Using * operator\n",
    "\n",
    "res_list = [*list1, *list2]   # using * operator to concat  \n",
    "print (\"flattened list using * operator : \" + str(res_list)) \n",
    "\n",
    "# Method 2: Using extend()\n",
    "\n",
    "list1.extend(list2) \n",
    "\n",
    "print (\"flattened list using list.extend() : \" + str(list1)) \n",
    "                               \n",
    "# Method 3: Using list comprehension\n",
    "list3 = [1, 4, 5, 6, 5]\n",
    "list4 = [3, 5, 7, 2, 5]\n",
    "\n",
    "conc_list = [y for x in (list3, list4) for y in x]\n",
    "print (\"flattened list using list comprehension: \", conc_list)\n",
    "\n",
    "# Method 4: Using + operator\n",
    "\n",
    "list3 = list3 + list4\n",
    "print (\"flattened list using + : \"+ str(list3)) \n",
    "\n",
    "# Method 5: Using Naive Method\n",
    "\n",
    "list11 = [1, 4, 5, 6, 5]\n",
    "list22 = [3, 5, 7, 2, 5]\n",
    "\n",
    "for i in list22:\n",
    "    list11.append(i)\n",
    "print (\"flattened list using naive method : \" + str(list11))"
   ]
  },
  {
   "cell_type": "markdown",
   "id": "9517a9be-47bf-40ee-82db-3913fe14d466",
   "metadata": {},
   "source": [
    "#### Q28. How to sort a list in ascending and descending order without using the sort function?\n"
   ]
  },
  {
   "cell_type": "code",
   "execution_count": 29,
   "id": "3aea2e35-912f-46c5-82ff-8b7a8bc3da7d",
   "metadata": {},
   "outputs": [],
   "source": [
    "def accending_order(my_list):\n",
    "    print(\"The list in accending order: \")      \n",
    "    accending_list = []\n",
    "    while my_list:\n",
    "        min = my_list[0]  \n",
    "        for x in my_list: \n",
    "            if x < min:\n",
    "                min = x\n",
    "        accending_list.append(min)\n",
    "        my_list.remove(min)\n",
    "    return accending_list\n"
   ]
  },
  {
   "cell_type": "code",
   "execution_count": 30,
   "id": "9ddc5714-89eb-4bbd-92bd-9fae2c1c46df",
   "metadata": {},
   "outputs": [],
   "source": [
    "def decending_order(my_list1):\n",
    "    print(\"The list in decending order: \")\n",
    "    decending_list = []\n",
    "    while my_list1:\n",
    "        max = my_list11[0]  \n",
    "        for x in my_list1: \n",
    "            if x > max:\n",
    "                max = x\n",
    "        decending_list.append(max)\n",
    "        my_list1.remove(max)\n",
    "    return decending_list\n",
    "\n",
    " "
   ]
  },
  {
   "cell_type": "code",
   "execution_count": 31,
   "id": "7d42bb0b-907b-4b90-9975-bc7f11b3be69",
   "metadata": {},
   "outputs": [
    {
     "name": "stdout",
     "output_type": "stream",
     "text": [
      "The list in accending order: \n",
      "[-64, -26, -15, 1, 15, 23, 23, 76]\n",
      "The list in decending order: \n",
      "[76, 23, 23, 15, 1, -15, -26, -64]\n"
     ]
    }
   ],
   "source": [
    "my_list = [-15, -26, 15, 1, 23, -64, 23, 76]\n",
    "print(accending_order(my_list))\n",
    "\n",
    "my_list11 = [-15, -26, 15, 1, 23, -64, 23, 76]\n",
    "print(decending_order(my_list11))"
   ]
  },
  {
   "cell_type": "markdown",
   "id": "43acea08-a612-4896-b578-1051bb487d10",
   "metadata": {},
   "source": [
    "#### Q29. How to sort a tuple?\n"
   ]
  },
  {
   "cell_type": "code",
   "execution_count": 32,
   "id": "ac4a7303-6867-43ce-94be-b6a8aab1cd39",
   "metadata": {},
   "outputs": [
    {
     "name": "stdout",
     "output_type": "stream",
     "text": [
      "[('chahal', 5), ('virat', 10), ('dhoni', 15), ('ishan', 20), ('rohit', 24), ('hardik', 28)]\n"
     ]
    }
   ],
   "source": [
    "def Sort_Tuple(tup):\n",
    "    lst = len(tup)      # getting length of list of tuples\n",
    "    for i in range(0, lst): \n",
    "        for j in range(0, lst-i-1):\n",
    "            if (tup[j][1] > tup[j + 1][1]):\n",
    "                temp = tup[j]\n",
    "                tup[j]= tup[j + 1]\n",
    "                tup[j + 1]= temp\n",
    "    return tup\n",
    " \n",
    "tup =[('rohit', 24), ('virat', 10), ('hardik', 28),\n",
    "      ('chahal', 5), ('ishan', 20), ('dhoni', 15)]\n",
    "       \n",
    "print(Sort_Tuple(tup))"
   ]
  },
  {
   "cell_type": "markdown",
   "id": "8c67c446-516c-451e-99d3-d2d2061c98fd",
   "metadata": {},
   "source": [
    "#### Q30. Write a Python program to convert a list of multiple integers into a single integer\n",
    "list = [11, 33, 50] >>> 113350\n"
   ]
  },
  {
   "cell_type": "code",
   "execution_count": 33,
   "id": "7198858b-8b2c-4edc-b187-0d1edc3aa40b",
   "metadata": {},
   "outputs": [
    {
     "name": "stdout",
     "output_type": "stream",
     "text": [
      "113350"
     ]
    }
   ],
   "source": [
    "list1 = [11,33,50]\n",
    "\n",
    "for ele in list1:\n",
    "    print(ele, end = \"\")"
   ]
  },
  {
   "cell_type": "markdown",
   "id": "54a095e8-7aa5-4929-87cc-1b828533a4c3",
   "metadata": {},
   "source": [
    "#### Q31. Difference between del and clear?\n",
    "\n",
    "#### ANS:\n",
    "`del keyword` : del is keyword in python which removes the element in given list by index.\n",
    "\n",
    "- syntax: `del(list_name[index])`\n",
    "\n",
    "`remove function` : remove is method of list to remove element in the list by passing argument.\n",
    " - syntax: `list_name.remove(argument)`"
   ]
  },
  {
   "cell_type": "markdown",
   "id": "ce574964-6b64-4987-ba4b-548939a99858",
   "metadata": {},
   "source": [
    "#### Q32. Difference between remove and pop?\n",
    "#### ANS:\n",
    "1. `Remove Function:` The remove() function removes the first matching value from the list.\n",
    "2. `Pop Function:` The pop() function is used to return the removed element from the list."
   ]
  },
  {
   "cell_type": "markdown",
   "id": "27dbbd6d-dba1-416d-971e-89caf0e27a28",
   "metadata": {},
   "source": [
    "#### Q33. Difference between indexing and Slicing?\n",
    "#### ANS:\n",
    "`Indexing in list`\n",
    "- To retrieve an element of the list, we use the index operator `[]`\n",
    "- syntax:\n",
    "    `my-list[index]:`\n",
    "    \n",
    "`Slicing in list`\n",
    "- Slicing is indexing syntax that extracts a portion from a list. If `a` is a list, then `a[m:n]` returns the portion of a:\n",
    "    - Starting with postion m\n",
    "    - Up to but not including n\n",
    "    - Negative indexing can also be used\n",
    "- syntax:\n",
    "    `mylist[start:stop:slicing]`"
   ]
  },
  {
   "cell_type": "markdown",
   "id": "19b5e98b-2839-4f78-be6b-4af7b2ef651f",
   "metadata": {},
   "source": [
    "#### Q34. Difference between sort and sorted?\n",
    "#### ANS:\n",
    "The `sort() function` returns nothing (void) and changes the original sequence, while the `sorted() function` creates a new sequence type containing a sorted version of the given sequence.\n",
    "\n",
    "1. `sorted() function in Python`\n",
    "- It can be used to sort a list, set, and dictionary as well. It works on sequences, such as lists, tuples, or strings, as well as collections, such as a dictionary, set, or frozenset.\n",
    "- It by default sorts in ascending order but can also sort in descending using the reverse parameter, i.e., if the reverse parameter is set to true, it sorts the dictionary in descending order.\n",
    "- The specialty of the sorted function is that it does not affect the original sequence of the object, i.e., it creates a sorted copy of the object and returns it.\n",
    "- Syntax: `sorted(iterable, key, reverse = True)`\n",
    "\n",
    "2. `sort() function in python`\n",
    "- The sort() function is used to perform the sorting operation, like the Sorted Function, but is very different in terms of its uses.\n",
    "- The sort() function is a list method, i.e., it can only be used to sort a list.\n",
    "- The sort() function returns nothing, which means it makes changes to the object passed, i.e., the original sequence.\n",
    "- Syntax: `list_name.sort(key, reverse=False)`\n"
   ]
  },
  {
   "cell_type": "markdown",
   "id": "07a7c578-9c69-47a2-85f9-9aee6368d190",
   "metadata": {},
   "source": [
    "#### Q35. Difference between `reverse()` and reversed?\n",
    "#### ANS:\n",
    "`reverse()`\n",
    "- list_.reverse() does an in-place reversal and does not return a value.\n",
    "- It is the method of list.\n",
    "\n",
    "`reversed`\n",
    "- `reversed(list_)` does not change list_, but returns a reverse iterable object.\n",
    "- It is the `built in function`."
   ]
  },
  {
   "cell_type": "code",
   "execution_count": 34,
   "id": "9a527dda-be54-40c4-ac8d-cdfb48bfbe52",
   "metadata": {},
   "outputs": [
    {
     "name": "stdout",
     "output_type": "stream",
     "text": [
      "using revese method:  [6, 5, 4, 3, 2, 1]\n",
      "using reversed :  [6, 5, 4, 3, 2, 1]\n"
     ]
    }
   ],
   "source": [
    "foo = [1,2,3,4,5,6]\n",
    "foo.reverse()\n",
    "print(\"using revese method: \",foo)\n",
    "\n",
    "foo1 = [1,2,3,4,5,6]\n",
    "bar = list(reversed(foo1))\n",
    "print(\"using reversed : \",bar)"
   ]
  },
  {
   "cell_type": "markdown",
   "id": "64df18c1-f94c-4e0e-b1bc-dfac1879dcf3",
   "metadata": {},
   "source": [
    "#### Q36. Difference between deep copy and shallow copy?\n",
    "#### ANS: \n",
    "`Deep Copy`\n",
    "- A deep copy creates a new compound object before inserting copies of the items found in the original into it in a recursive manner.\n",
    "- In the case of deep copy, a copy of the object is copied into another object. It means that any changes made to a copy of the object do not reflect in the original object. \n",
    "\n",
    "`Shallow Copy`\n",
    "- A shallow copy creates a new compound object and then references the objects contained in the original within it.\n",
    "- In the case of shallow copy, a reference of an object is copied into another object. It means that any changes made to a copy of an object do reflect in the original object. In python, this is implemented using the “copy()” function. "
   ]
  },
  {
   "cell_type": "markdown",
   "id": "a8e327d8-626d-4251-a5f8-c4cdd083137c",
   "metadata": {},
   "source": [
    "#### Q37. How to check whether the list is empty or not?\n"
   ]
  },
  {
   "cell_type": "code",
   "execution_count": 35,
   "id": "7bbf041d-e848-4629-8782-c5fd12372695",
   "metadata": {},
   "outputs": [
    {
     "name": "stdout",
     "output_type": "stream",
     "text": [
      "The given list is empty\n"
     ]
    }
   ],
   "source": [
    "def empty_list(my_list):\n",
    "    if len(my_list) == 0:\n",
    "        empty = print(\"The given list is empty\")\n",
    "    else:\n",
    "        non_empty =  print(\"The given list is non empty\")\n",
    "\n",
    "giv_list = []\n",
    "empty_list(giv_list)"
   ]
  },
  {
   "cell_type": "markdown",
   "id": "a79d4e41-49d5-4d28-a1d8-38c37cbfe627",
   "metadata": {},
   "source": [
    "#### Q38. How to concatenate two lists?\n"
   ]
  },
  {
   "cell_type": "code",
   "execution_count": 36,
   "id": "0a10e89e-8d9c-461b-b547-5478ce76e68d",
   "metadata": {},
   "outputs": [
    {
     "name": "stdout",
     "output_type": "stream",
     "text": [
      "Concatenated list using * operator : [1, 4, 5, 6, 5, 'two', 'three']\n",
      "Concatenated list using list.extend() : [1, 4, 5, 6, 5, 'two', 'three']\n",
      "Concatenated list using list comprehension:  [1, 4, 5, 6, 5, 3, 5, 7, 2, 5]\n",
      "Concatenated list using + : [1, 4, 5, 6, 5, 3, 5, 7, 2, 5]\n",
      "Concatenated list using naive method : [1, 4, 5, 6, 5, 3, 5, 7, 2, 5]\n"
     ]
    }
   ],
   "source": [
    "list1 = [1, 4, 5, 6, 5]\n",
    "list2 = [\"two\",\"three\"]\n",
    "\n",
    "# Method 1 : Using * operator\n",
    "\n",
    "res_list = [*list1, *list2]   # using * operator to concat  \n",
    "print (\"Concatenated list using * operator : \" + str(res_list)) \n",
    "\n",
    "# Method 2: Using extend()\n",
    "\n",
    "list1.extend(list2) \n",
    "\n",
    "print (\"Concatenated list using list.extend() : \" + str(list1)) \n",
    "                               \n",
    "# Method 3: Using list comprehension\n",
    "list3 = [1, 4, 5, 6, 5]\n",
    "list4 = [3, 5, 7, 2, 5]\n",
    "\n",
    "conc_list = [y for x in (list3, list4) for y in x]\n",
    "print (\"Concatenated list using list comprehension: \", conc_list)\n",
    "\n",
    "# Method 4: Using + operator\n",
    "\n",
    "list3 = list3 + list4\n",
    "print (\"Concatenated list using + : \"+ str(list3)) \n",
    "\n",
    "# Method 5: Using Naive Method\n",
    "\n",
    "list11 = [1, 4, 5, 6, 5]\n",
    "list22 = [3, 5, 7, 2, 5]\n",
    "\n",
    "for i in list22:\n",
    "    list11.append(i)\n",
    "print (\"Concatenated list using naive method : \" + str(list11))"
   ]
  },
  {
   "cell_type": "markdown",
   "id": "3e7f98b7-df9f-4b14-9781-6fb561525d8c",
   "metadata": {},
   "source": [
    "#### Q39. How to find the occurrences of an element in the python list?\n"
   ]
  },
  {
   "cell_type": "code",
   "execution_count": 37,
   "id": "f4bfaec0-f75c-4128-9705-d38902270c88",
   "metadata": {},
   "outputs": [
    {
     "data": {
      "text/plain": [
       "3"
      ]
     },
     "execution_count": 37,
     "metadata": {},
     "output_type": "execute_result"
    }
   ],
   "source": [
    "#### Q39. How to find the occurrences of an element in the python list?\n",
    "employee_data =  [\"John\", \"Sally\", \"Reena\", \"John\", \"Reena\", \"John\"]\n",
    "employee_data.count(\"John\")"
   ]
  }
 ],
 "metadata": {
  "kernelspec": {
   "display_name": "Python 3",
   "language": "python",
   "name": "python3"
  },
  "language_info": {
   "codemirror_mode": {
    "name": "ipython",
    "version": 3
   },
   "file_extension": ".py",
   "mimetype": "text/x-python",
   "name": "python",
   "nbconvert_exporter": "python",
   "pygments_lexer": "ipython3",
   "version": "3.10.12"
  }
 },
 "nbformat": 4,
 "nbformat_minor": 5
}
