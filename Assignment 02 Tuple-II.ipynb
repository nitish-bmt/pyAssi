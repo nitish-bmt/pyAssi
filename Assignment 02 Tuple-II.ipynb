{
 "cells": [
  {
   "cell_type": "markdown",
   "metadata": {},
   "source": [
    "#### Q1 What is Tuple?\n",
    "- `tuple` is immutable data type that is collection of hetegeneous elements and seperated by comma\n",
    "- Tuples are used to store multiple items in a single variable.\n",
    "- A tuple is a collection which is ordered and unchangeable."
   ]
  },
  {
   "cell_type": "markdown",
   "metadata": {},
   "source": [
    "#### Q2. Write a program to do tuple packing and unpacking."
   ]
  },
  {
   "cell_type": "code",
   "execution_count": 1,
   "metadata": {},
   "outputs": [
    {
     "name": "stdout",
     "output_type": "stream",
     "text": [
      "('rohit', 'rohit@123', 'nitish', 'nitish@123')\n",
      "rohit rohit@123 nitish nitish@123\n",
      "<class 'tuple'>\n"
     ]
    }
   ],
   "source": [
    "#### Q2. Write a program to do tuple packing and unpacking.\n",
    "\n",
    "# let's assume every instance of function fun() is a separate microservice for various projects. \n",
    "# and it needs admin users to be setup at the very start it would need different admins as arguments,\n",
    "# but the no. of admins may differ per instance\n",
    "\n",
    "# unpacking\n",
    "def fun(*admins):\n",
    "    # packing\n",
    "    admins_tuple = admins\n",
    "    print(admins_tuple)\n",
    "    a,b,c,d =admins_tuple\n",
    "    print(a,b,c,d)\n",
    "    print(type(admins_tuple))\n",
    "\n",
    "fun(\"rohit\", \"rohit@123\", \"nitish\", \"nitish@123\")"
   ]
  },
  {
   "cell_type": "markdown",
   "metadata": {},
   "source": [
    "#### Q3. Write a program to swap values of 2 variables using tuple packing and unpacking."
   ]
  },
  {
   "cell_type": "code",
   "execution_count": 2,
   "metadata": {},
   "outputs": [
    {
     "name": "stdout",
     "output_type": "stream",
     "text": [
      "before swapping:\n",
      "a:2, b:3\n",
      "after swapping:\n",
      "a:3, b:2\n"
     ]
    }
   ],
   "source": [
    "#### Q3. Write a program to swap values of 2 variables using tuple packing and unpacking.\n",
    "a = 2\n",
    "b = 3\n",
    "\n",
    "print(\"before swapping:\")\n",
    "print(f\"a:{a}, b:{b}\")\n",
    "a,b = b,a\n",
    "print(\"after swapping:\")\n",
    "print(f\"a:{a}, b:{b}\")\n",
    "# Python evaluates the right-hand side of an assignment before its left-hand side. \n",
    "# So, by separating the variables with commas on the right side of the statement the variables are packed into a tuple and unpacked by placing the same number of comma-separated target variables on the left side."
   ]
  },
  {
   "cell_type": "markdown",
   "metadata": {},
   "source": [
    "#### Q4. Write a program to swap values of 2 variables without using tuple packing and unpacking (using third temporary variable) "
   ]
  },
  {
   "cell_type": "code",
   "execution_count": 3,
   "metadata": {},
   "outputs": [
    {
     "name": "stdout",
     "output_type": "stream",
     "text": [
      "before swapping:\n",
      "a:10, b:20\n",
      "after swapping:\n",
      "a:20, b:10\n"
     ]
    }
   ],
   "source": [
    "#### Q4. Write a program to swap values of 2 variables without using tuple packing and unpacking (using third temporary variable) \n",
    "a = 10\n",
    "b = 20\n",
    "\n",
    "print(\"before swapping:\")\n",
    "print(f\"a:{a}, b:{b}\")\n",
    "temp = a\n",
    "a = b\n",
    "b = temp\n",
    "print(\"after swapping:\")\n",
    "print(f\"a:{a}, b:{b}\")"
   ]
  },
  {
   "cell_type": "markdown",
   "metadata": {},
   "source": [
    "#### Q5 Try to delete an element in tuple"
   ]
  },
  {
   "cell_type": "code",
   "execution_count": 4,
   "metadata": {},
   "outputs": [
    {
     "ename": "AttributeError",
     "evalue": "'tuple' object has no attribute 'remove'",
     "output_type": "error",
     "traceback": [
      "\u001b[0;31m---------------------------------------------------------------------------\u001b[0m",
      "\u001b[0;31mAttributeError\u001b[0m                            Traceback (most recent call last)",
      "Cell \u001b[0;32mIn[4], line 3\u001b[0m\n\u001b[1;32m      1\u001b[0m \u001b[38;5;66;03m#### Q5 Try to delete an element in tuple\u001b[39;00m\n\u001b[1;32m      2\u001b[0m tup \u001b[38;5;241m=\u001b[39m (\u001b[38;5;241m1\u001b[39m, \u001b[38;5;241m2\u001b[39m, \u001b[38;5;241m4\u001b[39m, \u001b[38;5;124m\"\u001b[39m\u001b[38;5;124mLakhan\u001b[39m\u001b[38;5;124m\"\u001b[39m)\n\u001b[0;32m----> 3\u001b[0m \u001b[43mtup\u001b[49m\u001b[38;5;241;43m.\u001b[39;49m\u001b[43mremove\u001b[49m(\u001b[38;5;241m1\u001b[39m)\n\u001b[1;32m      4\u001b[0m \u001b[38;5;66;03m# tup.pop()\u001b[39;00m\n",
      "\u001b[0;31mAttributeError\u001b[0m: 'tuple' object has no attribute 'remove'"
     ]
    }
   ],
   "source": [
    "#### Q5 Try to delete an element in tuple\n",
    "tup = (1, 2, 4, \"Lakhan\")\n",
    "tup.remove(1)\n",
    "# tup.pop()"
   ]
  },
  {
   "cell_type": "markdown",
   "metadata": {},
   "source": [
    "#### Q6. Write a program to create a tuple using list as input"
   ]
  },
  {
   "cell_type": "code",
   "execution_count": 44,
   "metadata": {},
   "outputs": [
    {
     "name": "stdout",
     "output_type": "stream",
     "text": [
      "('John', 'Sally', 'Reena')\n"
     ]
    }
   ],
   "source": [
    "#### Q6. Write a program to create a tuple using list as input\n",
    "employee_data =  [\"John\", \"Sally\", \"Reena\"]\n",
    "employee_tuple = tuple(employee_data)\n",
    "print(employee_tuple)"
   ]
  },
  {
   "cell_type": "markdown",
   "metadata": {},
   "source": [
    "#### Q7. Write a program to take input from user and convert the singularized characters in the input string into tuple elements."
   ]
  },
  {
   "cell_type": "code",
   "execution_count": 45,
   "metadata": {},
   "outputs": [
    {
     "name": "stdout",
     "output_type": "stream",
     "text": [
      "('a', 'b', 'c')\n"
     ]
    }
   ],
   "source": [
    "#### Q7. Write a program to take input from user and convert the singularized characters in the input string into tuple elements.\n",
    "inp = \"abc\"\n",
    "# inp = input()\n",
    "inp_tuple = tuple(inp)\n",
    "print(inp_tuple)"
   ]
  },
  {
   "cell_type": "markdown",
   "metadata": {},
   "source": [
    "#### Q8. Create a tuple and destroy it."
   ]
  },
  {
   "cell_type": "code",
   "execution_count": 46,
   "metadata": {},
   "outputs": [
    {
     "name": "stdout",
     "output_type": "stream",
     "text": [
      "<class 'tuple'>\n"
     ]
    }
   ],
   "source": [
    "#### Q8. Create a tuple and destroy it.\n",
    "tuple = (\"a\", \"b\", 3)\n",
    "del tuple\n",
    "print(tuple)"
   ]
  }
 ],
 "metadata": {
  "kernelspec": {
   "display_name": "Python 3",
   "language": "python",
   "name": "python3"
  },
  "language_info": {
   "codemirror_mode": {
    "name": "ipython",
    "version": 3
   },
   "file_extension": ".py",
   "mimetype": "text/x-python",
   "name": "python",
   "nbconvert_exporter": "python",
   "pygments_lexer": "ipython3",
   "version": "3.10.12"
  }
 },
 "nbformat": 4,
 "nbformat_minor": 2
}
