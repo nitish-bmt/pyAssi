{
 "cells": [
  {
   "cell_type": "code",
   "execution_count": 26,
   "metadata": {},
   "outputs": [
    {
     "name": "stdout",
     "output_type": "stream",
     "text": [
      "16\n"
     ]
    }
   ],
   "source": [
    "# 1. Write a lambda function to compute the square of a number\n",
    "calc_sq = lambda x: x**2\n",
    "\n",
    "num = 4\n",
    "print(calc_sq(num))"
   ]
  },
  {
   "cell_type": "code",
   "execution_count": 27,
   "metadata": {},
   "outputs": [
    {
     "name": "stdout",
     "output_type": "stream",
     "text": [
      "7 is NOT even\n"
     ]
    }
   ],
   "source": [
    "# 2. Create a lambda function to check if a number is even.\n",
    "num = 5\n",
    "\n",
    "is_even = lambda x: x%2==0\n",
    "\n",
    "num = 7\n",
    "print([f\"{num} is NOT even\", f\"{num} is even\"][is_even(num)])"
   ]
  },
  {
   "cell_type": "code",
   "execution_count": 28,
   "metadata": {},
   "outputs": [
    {
     "name": "stdout",
     "output_type": "stream",
     "text": [
      "olleh\n"
     ]
    }
   ],
   "source": [
    "# 3. Write a lambda function to reverse a string.\n",
    "input_reverse = lambda x: x[::-1]\n",
    "\n",
    "str = 'hello'\n",
    "print(input_reverse(str))"
   ]
  },
  {
   "cell_type": "code",
   "execution_count": 29,
   "metadata": {},
   "outputs": [
    {
     "name": "stdout",
     "output_type": "stream",
     "text": [
      "[(5, 0), (3, 1), (1, 2)]\n"
     ]
    }
   ],
   "source": [
    "# 4. Use a lambda function to sort a list of tuples by the second element.\n",
    "sort_by_second_element = lambda l: l.sort(key=lambda s: s[1]) \n",
    "list_of_tuples = [(1, 2), (3, 1), (5, 0)]\n",
    "# list_of_tuples.sort\n",
    "sort_by_second_element(list_of_tuples)\n",
    "print(list_of_tuples)\n"
   ]
  },
  {
   "cell_type": "code",
   "execution_count": 30,
   "metadata": {},
   "outputs": [
    {
     "name": "stdout",
     "output_type": "stream",
     "text": [
      "radar is palindrome\n"
     ]
    }
   ],
   "source": [
    "# 5. Write a lambda function to check if a string is a palindrome.\n",
    "is_palindrome = lambda x: x==x[::-1]\n",
    "\n",
    "str = 'radar'\n",
    "print(\n",
    "    [f\"{str} is NOT palindrome\", f\"{str} is palindrome\"][is_palindrome(str)]\n",
    ")"
   ]
  },
  {
   "cell_type": "code",
   "execution_count": 31,
   "metadata": {},
   "outputs": [
    {
     "name": "stdout",
     "output_type": "stream",
     "text": [
      "3^3 = 27\n"
     ]
    }
   ],
   "source": [
    "# 6. Create a lambda function to find the cube of a number.\n",
    "calc_cube = lambda x: x**3\n",
    "\n",
    "num = 3\n",
    "print(f\"{num}^3 = {calc_cube(num)}\")"
   ]
  },
  {
   "cell_type": "code",
   "execution_count": 32,
   "metadata": {},
   "outputs": [
    {
     "name": "stdout",
     "output_type": "stream",
     "text": [
      "['hello']\n"
     ]
    }
   ],
   "source": [
    "# 7. Write a program to filter a list of strings with a specific substring using lambda.\n",
    "list_substr = lambda x, y: list(filter(lambda i: i if y in i else None, x))\n",
    "data = ['hello', 'world', 'python']\n",
    "substr = 'e'\n",
    "\n",
    "print(list_substr(data, substr))"
   ]
  },
  {
   "cell_type": "code",
   "execution_count": 33,
   "metadata": {},
   "outputs": [
    {
     "name": "stdout",
     "output_type": "stream",
     "text": [
      "3+7=10\n"
     ]
    }
   ],
   "source": [
    "# 8. Use a lambda function to find the sum of two numbers.\n",
    "sum_two = lambda x,y: x+y\n",
    "a = 3\n",
    "b = 7\n",
    "\n",
    "print(f\"{a}+{b}={sum_two(a,b)}\")"
   ]
  },
  {
   "cell_type": "code",
   "execution_count": 34,
   "metadata": {},
   "outputs": [
    {
     "name": "stdout",
     "output_type": "stream",
     "text": [
      "[{'b': -2}, {'b': -1}, {'a': 3}, {'a': 1}, {'a': 2}, {'c': 0}]\n"
     ]
    }
   ],
   "source": [
    "# 9. Sort a list of dictionaries by a specific key using a lambda function.\n",
    "sort_by_key = lambda list_of_dict, k: list_of_dict.sort(key=lambda d: d.get(k, float('inf')))\n",
    "data = [{'a': 3}, {'a': 1}, {'a': 2}, {'b': -1}, {'b':-2}, {'c':0}]\n",
    "key = 'b'\n",
    "\n",
    "sort_by_key(data, key)\n",
    "print(data)"
   ]
  },
  {
   "cell_type": "code",
   "execution_count": 35,
   "metadata": {},
   "outputs": [
    {
     "name": "stdout",
     "output_type": "stream",
     "text": [
      "5 is the greatest among 3, 5, 2\n"
     ]
    }
   ],
   "source": [
    "# 10. Write a lambda function to find the maximum of three numbers.\n",
    "greatest_among_three = lambda x,y,z: x if x>y and x>z else y if y>x and y>z else z \n",
    "a = 3\n",
    "b = 5\n",
    "c = 2\n",
    "\n",
    "print(f\"{greatest_among_three(a,b,c)} is the greatest among {a}, {b}, {c}\")"
   ]
  },
  {
   "cell_type": "code",
   "execution_count": null,
   "metadata": {},
   "outputs": [],
   "source": []
  }
 ],
 "metadata": {
  "kernelspec": {
   "display_name": "Python 3",
   "language": "python",
   "name": "python3"
  },
  "language_info": {
   "codemirror_mode": {
    "name": "ipython",
    "version": 3
   },
   "file_extension": ".py",
   "mimetype": "text/x-python",
   "name": "python",
   "nbconvert_exporter": "python",
   "pygments_lexer": "ipython3",
   "version": "3.10.12"
  }
 },
 "nbformat": 4,
 "nbformat_minor": 2
}
