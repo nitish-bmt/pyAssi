{
 "cells": [
  {
   "cell_type": "code",
   "execution_count": 1,
   "metadata": {},
   "outputs": [
    {
     "name": "stdout",
     "output_type": "stream",
     "text": [
      "[1, 2, 3, 4, 5, 6, 7, 8, 9, 10]\n",
      "55\n"
     ]
    }
   ],
   "source": [
    "# 1. Use reduce to find the sum of all numbers in a list.\n",
    "from functools import reduce\n",
    "\n",
    "nums = [i for i in range(1,11)]\n",
    "print(nums)\n",
    "\n",
    "sum = reduce(lambda x,y: x+y,nums, 0)\n",
    "print(sum)"
   ]
  },
  {
   "cell_type": "code",
   "execution_count": 2,
   "metadata": {},
   "outputs": [
    {
     "name": "stdout",
     "output_type": "stream",
     "text": [
      "[1, 2, 3, 4, 5, 6, 7, 8, 9, 10]\n",
      "3628800\n"
     ]
    }
   ],
   "source": [
    "# 2. Find the product of all numbers in a list using reduce\n",
    "from functools import reduce\n",
    "\n",
    "nums = [i for i in range(1,11)]\n",
    "print(nums)\n",
    "\n",
    "product = reduce(lambda x,y: x*y, nums, 1)\n",
    "print(product)"
   ]
  },
  {
   "cell_type": "code",
   "execution_count": 3,
   "metadata": {},
   "outputs": [
    {
     "name": "stdout",
     "output_type": "stream",
     "text": [
      "['Python', 'is', 'awesome']\n",
      " Python is awesome\n"
     ]
    }
   ],
   "source": [
    "# 3. Use reduce to concatenate all strings in a list.\n",
    "from functools import reduce\n",
    "\n",
    "words = ['Python', 'is', 'awesome']\n",
    "print(words)\n",
    "\n",
    "sentence = reduce(lambda x,y: x+\" \"+y, words, '')\n",
    "print(sentence)"
   ]
  },
  {
   "cell_type": "code",
   "execution_count": 4,
   "metadata": {},
   "outputs": [
    {
     "ename": "ImportError",
     "evalue": "cannot import name 'sys' from 'functools' (/home/nitish/.pyenv/versions/3.10.12/lib/python3.10/functools.py)",
     "output_type": "error",
     "traceback": [
      "\u001b[0;31m---------------------------------------------------------------------------\u001b[0m",
      "\u001b[0;31mImportError\u001b[0m                               Traceback (most recent call last)",
      "Cell \u001b[0;32mIn[4], line 2\u001b[0m\n\u001b[1;32m      1\u001b[0m \u001b[38;5;66;03m# 4. Compute the factorial of a number using reduce.\u001b[39;00m\n\u001b[0;32m----> 2\u001b[0m \u001b[38;5;28;01mfrom\u001b[39;00m \u001b[38;5;21;01mfunctools\u001b[39;00m \u001b[38;5;28;01mimport\u001b[39;00m sys\n\u001b[1;32m      4\u001b[0m num \u001b[38;5;241m=\u001b[39m \u001b[38;5;241m5\u001b[39m\n\u001b[1;32m      5\u001b[0m fact \u001b[38;5;241m=\u001b[39m reduce(\u001b[38;5;28;01mlambda\u001b[39;00m x,y: x\u001b[38;5;241m*\u001b[39my, [i \u001b[38;5;28;01mfor\u001b[39;00m i \u001b[38;5;129;01min\u001b[39;00m \u001b[38;5;28mrange\u001b[39m(\u001b[38;5;241m2\u001b[39m,num\u001b[38;5;241m+\u001b[39m\u001b[38;5;241m1\u001b[39m)], \u001b[38;5;241m1\u001b[39m)\n",
      "\u001b[0;31mImportError\u001b[0m: cannot import name 'sys' from 'functools' (/home/nitish/.pyenv/versions/3.10.12/lib/python3.10/functools.py)"
     ]
    }
   ],
   "source": [
    "# 4. Compute the factorial of a number using reduce.\n",
    "from functools import sys\n",
    "\n",
    "num = 5\n",
    "fact = reduce(lambda x,y: x*y, [i for i in range(2,num+1)], 1)\n",
    "print(f\"{num} factorial is: {fact}\")"
   ]
  },
  {
   "cell_type": "code",
   "execution_count": 19,
   "metadata": {},
   "outputs": [
    {
     "name": "stdout",
     "output_type": "stream",
     "text": [
      "90\n"
     ]
    }
   ],
   "source": [
    "# 5. Find the maximum element in a list using reduce.\n",
    "import sys\n",
    "from functools import sys\n",
    "\n",
    "nums = [10, 20, 90, 5, 40]\n",
    "\n",
    "largest = reduce(lambda x,y: x if x>y else y, nums, -sys.maxsize-1)\n",
    "print(largest)"
   ]
  },
  {
   "cell_type": "code",
   "execution_count": 24,
   "metadata": {},
   "outputs": [
    {
     "name": "stdout",
     "output_type": "stream",
     "text": [
      "5\n"
     ]
    }
   ],
   "source": [
    "# 6. Use reduce to find the minimum element in a list\n",
    "import sys\n",
    "from functools import reduce\n",
    "\n",
    "nums = [10, 20, 90, 5, 40]\n",
    "\n",
    "smallest = reduce(lambda x,y: x if x<y else y, nums, sys.maxsize)\n",
    "print(smallest)"
   ]
  },
  {
   "cell_type": "code",
   "execution_count": 32,
   "metadata": {},
   "outputs": [
    {
     "name": "stdout",
     "output_type": "stream",
     "text": [
      "(1, 2, 3, 4, 5, 6)\n"
     ]
    }
   ],
   "source": [
    "# 7. Given a list of tuples, use reduce to combine all the tuples into a single tuple.\n",
    "from functools import reduce\n",
    "data = [(1, 2), (3, 4), (5, 6)]\n",
    "\n",
    "\n",
    "flat_tuple = tuple(reduce(lambda x,y: x if not x.extend([i for i in y]) else [], data, []))\n",
    "print(flat_tuple)"
   ]
  },
  {
   "cell_type": "code",
   "execution_count": null,
   "metadata": {},
   "outputs": [],
   "source": [
    "# 8. Use reduce to compute the greatest common divisor (GCD) of a list of numbers.\n",
    "data = [48, 64, 16]"
   ]
  },
  {
   "cell_type": "code",
   "execution_count": 34,
   "metadata": {},
   "outputs": [
    {
     "name": "stdout",
     "output_type": "stream",
     "text": [
      "24\n"
     ]
    }
   ],
   "source": [
    "# 9. Compute the cumulative product of a list of numbers using reduce.\n",
    "from functools import reduce\n",
    "data = [1, 2, 3, 4]\n",
    "product = reduce(lambda x,y: x*y, data, 1)\n",
    "print(product)"
   ]
  },
  {
   "cell_type": "code",
   "execution_count": 35,
   "metadata": {},
   "outputs": [
    {
     "name": "stdout",
     "output_type": "stream",
     "text": [
      "{1: 10, 2: 20, 3: 30}\n"
     ]
    }
   ],
   "source": [
    "# 10. Use reduce to merge multiple dictionaries into a single dictionary.\n",
    "from functools import reduce\n",
    "multiple_dicts = [{1: 10}, {2: 20}, {3: 30}]\n",
    "\n",
    "merged_dict = reduce(lambda x,y: x if not x.update(y) else {}, multiple_dicts, {})\n",
    "print(merged_dict)"
   ]
  },
  {
   "cell_type": "code",
   "execution_count": null,
   "metadata": {},
   "outputs": [],
   "source": []
  }
 ],
 "metadata": {
  "kernelspec": {
   "display_name": "Python 3",
   "language": "python",
   "name": "python3"
  },
  "language_info": {
   "codemirror_mode": {
    "name": "ipython",
    "version": 3
   },
   "file_extension": ".py",
   "mimetype": "text/x-python",
   "name": "python",
   "nbconvert_exporter": "python",
   "pygments_lexer": "ipython3",
   "version": "3.10.12"
  }
 },
 "nbformat": 4,
 "nbformat_minor": 2
}
