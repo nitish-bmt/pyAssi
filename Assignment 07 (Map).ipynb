{
 "cells": [
  {
   "cell_type": "code",
   "execution_count": 1,
   "metadata": {},
   "outputs": [
    {
     "name": "stdout",
     "output_type": "stream",
     "text": [
      "[1, 2, 3, 4, 5, 6, 7, 8, 9, 10]\n",
      "['1', '2', '3', '4', '5', '6', '7', '8', '9', '10']\n"
     ]
    }
   ],
   "source": [
    "#### 1. Convert a list of integers into their string representations using map\n",
    "nums = [i for i in range(1,11)]\n",
    "print(nums)\n",
    "\n",
    "str_nums = list(map(lambda x: str(x), nums))\n",
    "print(str_nums)"
   ]
  },
  {
   "cell_type": "code",
   "execution_count": 2,
   "metadata": {},
   "outputs": [
    {
     "name": "stdout",
     "output_type": "stream",
     "text": [
      "[1, 2, 3, 4, 5, 6, 7, 8, 9, 10]\n",
      "[11, 12, 13, 14, 15, 16, 17, 18, 19, 20]\n"
     ]
    }
   ],
   "source": [
    "#### 2. Use map to add 10 to each element in a list of integers\n",
    "nums = [i for i in range(1,11)]\n",
    "print(nums)\n",
    "\n",
    "nums = list(map(lambda x: x+10, nums))\n",
    "print(nums)"
   ]
  },
  {
   "cell_type": "code",
   "execution_count": 3,
   "metadata": {},
   "outputs": [
    {
     "name": "stdout",
     "output_type": "stream",
     "text": [
      "[32.0, 68.0, 86.0, 104.0]\n"
     ]
    }
   ],
   "source": [
    "#### 3. Given a list of temperatures in Celsius, convert them to Fahrenheit using map.\n",
    "temp_celsius = [0, 20, 30, 40]\n",
    "temp_fahrenheit = list(map(lambda x: (x*9/5)+32, temp_celsius))\n",
    "print(temp_fahrenheit)"
   ]
  },
  {
   "cell_type": "code",
   "execution_count": 4,
   "metadata": {},
   "outputs": [
    {
     "name": "stdout",
     "output_type": "stream",
     "text": [
      "[1, 2, 3, 4, 5, 6, 7, 8, 9, 10]\n",
      "[1, 4, 9, 16, 25, 36, 49, 64, 81, 100]\n"
     ]
    }
   ],
   "source": [
    "#### 4. Use map to find the squares of the numbers in a list.\n",
    "nums = [i for i in range(1,11)]\n",
    "print(nums)\n",
    "\n",
    "sq_nums = list(map(lambda x: x**2, nums))\n",
    "print(sq_nums)"
   ]
  },
  {
   "cell_type": "code",
   "execution_count": 28,
   "metadata": {},
   "outputs": [
    {
     "name": "stdout",
     "output_type": "stream",
     "text": [
      "(1, 2, 3, 'a', 'b', 'c')\n"
     ]
    }
   ],
   "source": [
    "#### 5. Combine two lists of the same length element-wise into tuples using map.\n",
    "a = [1, 2, 3] \n",
    "b = ['a', 'b', 'c']\n",
    "\n",
    "# using unpacking\n",
    "# working like a.extend(b)\n",
    "c = tuple(map(lambda x: x, [*a, *b]))\n",
    "print(c)"
   ]
  },
  {
   "cell_type": "code",
   "execution_count": 31,
   "metadata": {},
   "outputs": [
    {
     "name": "stdout",
     "output_type": "stream",
     "text": [
      "(1, 2, 3, 'a', 'b', 'c')\n"
     ]
    }
   ],
   "source": [
    "#### 5. Combine two lists of the same length element-wise into tuples using map.\n",
    "a = [1, 2, 3] \n",
    "b = ['a', 'b', 'c']\n",
    "\n",
    "# cannot be put in map, returns None\n",
    "a.extend(b)\n",
    "c = tuple(map(lambda x: x, a))\n",
    "print(c)"
   ]
  },
  {
   "cell_type": "code",
   "execution_count": 33,
   "metadata": {},
   "outputs": [
    {
     "name": "stdout",
     "output_type": "stream",
     "text": [
      "['HELLO', 'WORLD', 'PYTHON']\n"
     ]
    }
   ],
   "source": [
    "#### 6. Given a list of strings, convert them to uppercase using map.\n",
    "a = ['hello', 'world', 'python']\n",
    "\n",
    "a = list(map(lambda x: x.upper(), a))\n",
    "print(a)"
   ]
  },
  {
   "cell_type": "code",
   "execution_count": 3,
   "metadata": {},
   "outputs": [
    {
     "name": "stdout",
     "output_type": "stream",
     "text": [
      "['apple', 'banana', 'cherry']\n",
      "[5, 6, 6]\n"
     ]
    }
   ],
   "source": [
    "#### 7. Use map to find the lengths of strings in a list.\n",
    "a = ['apple', 'banana', 'cherry']\n",
    "a_len = list(map( lambda x: len(x), a))\n",
    "print(a)\n",
    "print(a_len)"
   ]
  },
  {
   "cell_type": "code",
   "execution_count": 6,
   "metadata": {},
   "outputs": [
    {
     "name": "stdout",
     "output_type": "stream",
     "text": [
      "[3, 7, 11]\n"
     ]
    }
   ],
   "source": [
    "#### 8. Given a list of lists of integers, use map to find the sum of each sublist.\n",
    "list_of_list = [[1, 2], [3, 4], [5, 6]]\n",
    "sum_of_sublist = list(map(lambda x: sum(x), list_of_list))\n",
    "print(sum_of_sublist)"
   ]
  },
  {
   "cell_type": "code",
   "execution_count": 18,
   "metadata": {},
   "outputs": [
    {
     "name": "stdout",
     "output_type": "stream",
     "text": [
      "['2025-01-01', '2024-12-31']\n",
      "['01-01-2025', '31-12-2024']\n"
     ]
    }
   ],
   "source": [
    "# 9. Transform a list of dates in \"YYYY-MM-DD\" format into \"DD-MM-YYYY\" using map.\n",
    "dates = ['2025-01-01', '2024-12-31']\n",
    "print(dates)\n",
    "\n",
    "# cannot use list.reverse() here because it returns None\n",
    "dates = list(map(lambda x: \"-\".join(x.split(sep=\"-\")[::-1]), dates))\n",
    "print(dates)"
   ]
  },
  {
   "cell_type": "code",
   "execution_count": 20,
   "metadata": {},
   "outputs": [
    {
     "name": "stdout",
     "output_type": "stream",
     "text": [
      "[20, 40, 60]\n"
     ]
    }
   ],
   "source": [
    "# 10. Given a dictionary, use map to create a list of its values doubled.\n",
    "sample_dict = {1: 10, 2: 20, 3: 30}\n",
    "\n",
    "double_val = list(map(lambda x: sample_dict[x]*2, sample_dict))\n",
    "print(double_val)"
   ]
  },
  {
   "cell_type": "code",
   "execution_count": 22,
   "metadata": {},
   "outputs": [
    {
     "name": "stdout",
     "output_type": "stream",
     "text": [
      "['abc', 'def', 'ghi']\n",
      "['cba', 'fed', 'ihg']\n"
     ]
    }
   ],
   "source": [
    "# 11. Use map to reverse each string in a list of strings.\n",
    "strings = ['abc', 'def', 'ghi']\n",
    "print(strings)\n",
    "strings = list(map(lambda s: s[::-1], strings))\n",
    "print(strings)"
   ]
  },
  {
   "cell_type": "code",
   "execution_count": 25,
   "metadata": {},
   "outputs": [
    {
     "name": "stdout",
     "output_type": "stream",
     "text": [
      "[2.0, 3.0, 4.0, 5.0]\n"
     ]
    }
   ],
   "source": [
    "# 12. Create a list of square roots for numbers in a list using map with the math.sqrt function.\n",
    "import math\n",
    "nums = [4, 9, 16, 25]\n",
    "\n",
    "\n",
    "sq_roots = list(map(lambda x: math.sqrt(x), nums))\n",
    "print(sq_roots)"
   ]
  },
  {
   "cell_type": "code",
   "execution_count": 28,
   "metadata": {},
   "outputs": [
    {
     "name": "stdout",
     "output_type": "stream",
     "text": [
      "[4, 10, 18]\n"
     ]
    }
   ],
   "source": [
    "# 13. Given two lists, compute their dot product using map.\n",
    "l1 = [1, 2, 3]\n",
    "l2 = [4, 5, 6]\n",
    "\n",
    "dot_product = list(map(lambda x,y: x*y, l1, l2))\n",
    "print(dot_product)"
   ]
  },
  {
   "cell_type": "code",
   "execution_count": 76,
   "metadata": {},
   "outputs": [
    {
     "name": "stdout",
     "output_type": "stream",
     "text": [
      "['hello', 'world', 'python', 'map']\n"
     ]
    }
   ],
   "source": [
    "#  14. Use map to flatten a nested list of strings into a single list with all strings concatenated.\n",
    "# flat_list = list(map(lambda x: list(map(lambda i: i,x)), multidimensional_list))\n",
    "multidimensional_list = [['hello', 'world'], ['python', 'map']]\n",
    "flat_list = []\n",
    "list(map(lambda x:list(flat_list.append(i) for i in x), multidimensional_list))\n",
    "print(flat_list)"
   ]
  },
  {
   "cell_type": "code",
   "execution_count": 74,
   "metadata": {},
   "outputs": [
    {
     "name": "stdout",
     "output_type": "stream",
     "text": [
      "['hello', 'world', 'python', 'map']\n"
     ]
    }
   ],
   "source": [
    "#  14. Use map to flatten a nested list of strings into a single list with all strings concatenated.\n",
    "# alternate soln\n",
    "multidimensional_list = [['hello', 'world'], ['python', 'map']]\n",
    "flat_list = []\n",
    "list(map(lambda x: flat_list.extend(x), multidimensional_list))\n",
    "print(flat_list)"
   ]
  },
  {
   "cell_type": "code",
   "execution_count": 77,
   "metadata": {},
   "outputs": [
    {
     "name": "stdout",
     "output_type": "stream",
     "text": [
      "['hello', 'world', 'python', 'map']\n"
     ]
    }
   ],
   "source": [
    "#  14. Use map to flatten a nested list of strings into a single list with all strings concatenated.\n",
    "# alternate soln\n",
    "multidimensional_list = [['hello', 'world'], ['python', 'map']]\n",
    "flat_list = []\n",
    "l = list(map(lambda x: flat_list.extend(x), multidimensional_list))\n",
    "print(flat_list)"
   ]
  },
  {
   "cell_type": "code",
   "execution_count": 79,
   "metadata": {},
   "outputs": [
    {
     "name": "stdout",
     "output_type": "stream",
     "text": [
      "['hello', 'world', 'python', 'map']\n"
     ]
    }
   ],
   "source": [
    "#  14. Use map to flatten a nested list of strings into a single list with all strings concatenated.\n",
    "# alternate soln\n",
    "from itertools import chain\n",
    "multidimensional_list = [['hello', 'world'], ['python', 'map']]\n",
    "flat_list = list(chain.from_iterable(multidimensional_list))\n",
    "print(flat_list)"
   ]
  },
  {
   "cell_type": "code",
   "execution_count": 55,
   "metadata": {},
   "outputs": [
    {
     "name": "stdout",
     "output_type": "stream",
     "text": [
      "[1, 2, 3, 4, 5, 6, 7, 8, 9, 10]\n",
      "[3, 4, 5, 6, 7, 8, 9, 10, 11, 12]\n"
     ]
    }
   ],
   "source": [
    "# 15. Write a program to apply a user-defined function to all elements in a list using map.\n",
    "def my_func(x):\n",
    "    return x+2\n",
    "nums=[i for i in range(1, 11)]\n",
    "print(nums)\n",
    "nums = list(map(my_func, nums))\n",
    "print(nums)"
   ]
  }
 ],
 "metadata": {
  "kernelspec": {
   "display_name": "Python 3",
   "language": "python",
   "name": "python3"
  },
  "language_info": {
   "codemirror_mode": {
    "name": "ipython",
    "version": 3
   },
   "file_extension": ".py",
   "mimetype": "text/x-python",
   "name": "python",
   "nbconvert_exporter": "python",
   "pygments_lexer": "ipython3",
   "version": "3.10.12"
  }
 },
 "nbformat": 4,
 "nbformat_minor": 2
}
