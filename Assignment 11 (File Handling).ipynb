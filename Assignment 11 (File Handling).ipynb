{
 "cells": [
  {
   "cell_type": "code",
   "execution_count": 75,
   "metadata": {},
   "outputs": [
    {
     "name": "stdout",
     "output_type": "stream",
     "text": [
      "Wrote to file successfully\n"
     ]
    }
   ],
   "source": [
    "# 1. Write a program to create a file and write \"Hello, World!\" into it.\n",
    "# Sample Data: file.txt\n",
    "file_inp = \"Hwllo, World!\"\n",
    "\n",
    "filename = \"file.txt\"\n",
    "try:\n",
    "    file = open(filename, \"w\")\n",
    "    file.write(file_inp)\n",
    "    file.close()\n",
    "except FileNotFoundError:\n",
    "    print(f\"File {filename} not found\")\n",
    "except PermissionError:\n",
    "    print(f\"Error: Cannot access file {filename}\")\n",
    "except Exception as e:\n",
    "    print(f\"Unexpected error, Could not read file '{filename}':{e}\")\n",
    "else:\n",
    "    print(\"Wrote to file successfully\")"
   ]
  },
  {
   "cell_type": "code",
   "execution_count": 76,
   "metadata": {},
   "outputs": [
    {
     "name": "stdout",
     "output_type": "stream",
     "text": [
      "Hwllo, World!\n"
     ]
    }
   ],
   "source": [
    "# 2. Read the contents of a file and print them line by line.\n",
    "filename = \"file.txt\"\n",
    "try:\n",
    "    file = open(filename, \"r\")\n",
    "    file_data = file.read()\n",
    "    file.close()\n",
    "except FileNotFoundError:\n",
    "    print(f\"File {filename} not found\")\n",
    "except PermissionError:\n",
    "    print(f\"Error: Cannot access file {filename}\")\n",
    "except Exception as e:\n",
    "    print(f\"Unexpected error, Could not read file '{filename}':{e}\")\n",
    "else:\n",
    "    print(file_data)\n",
    "        "
   ]
  },
  {
   "cell_type": "code",
   "execution_count": 77,
   "metadata": {},
   "outputs": [
    {
     "name": "stdout",
     "output_type": "stream",
     "text": [
      "Hwllo, World!\n",
      "appended later\n"
     ]
    }
   ],
   "source": [
    "# 3. Write a program to append text to an existing file without overwriting it.\n",
    "# Sample Data: file.txt (Append: \"Appended text\")\n",
    "file_inp = \"\\nappended later\"\n",
    "filename = \"file.txt\"\n",
    "\n",
    "try:\n",
    "    file = open(filename, \"a\")\n",
    "    file.writelines(file_inp)\n",
    "    file.close()\n",
    "except FileNotFoundError as e:\n",
    "    print(\"File Does not exist!\")\n",
    "except PermissionError:\n",
    "    print(f\"Error: Cannot access file {filename}\")\n",
    "except Exception as e:\n",
    "    print(f\"Unexpected error, Could not write to file!, {e}\")\n",
    "else:\n",
    "    try:\n",
    "        file = open(filename, \"r\")\n",
    "        file_data = file.read()\n",
    "        file.close()\n",
    "    except FileNotFoundError as e:\n",
    "        print(\"File Does not exist!\")\n",
    "    except Exception as e:\n",
    "        print(f\"Unexpected error, could not read file!, {e}\")\n",
    "    else:\n",
    "        print(file_data)\n",
    "        "
   ]
  },
  {
   "cell_type": "code",
   "execution_count": 78,
   "metadata": {},
   "outputs": [
    {
     "name": "stdout",
     "output_type": "stream",
     "text": [
      "Hwllo, World!\n",
      "appended later\n",
      "characters = 28\n",
      "words = 4\n",
      "lines = 2\n"
     ]
    }
   ],
   "source": [
    "# 4. Count the number of lines, words, and characters in a file\n",
    "filename = \"file.txt\"\n",
    "# file = None\n",
    "try:\n",
    "    file = open(filename, \"r\")\n",
    "    file_data = file.read()\n",
    "    file.close()\n",
    "except FileNotFoundError as e:\n",
    "    print(\"File Does not exist!\")\n",
    "except PermissionError:\n",
    "    print(f\"Error: Cannot access file {filename}\")\n",
    "except Exception as e:\n",
    "    print(f\"Unexpected error, could not read file!, {e}\")\n",
    "else:\n",
    "    characters = len(file_data)\n",
    "    '''\n",
    "        .split() VS .split(\" \")\n",
    "        .split() automatically considers words that occur at new line start\n",
    "        .split(\" \") does not consider it, would have to handle it logically\n",
    "    '''\n",
    "    words = len(\n",
    "        file_data.translate(\n",
    "            str.maketrans({\n",
    "                \",\": \"\",\n",
    "                \"\\n\": \" \"\n",
    "            })\n",
    "        ).split(\" \")\n",
    "    )\n",
    "    print(file_data)\n",
    "    lines = len(file_data.split(\"\\n\"))\n",
    "    print(f\"characters = {characters}\\nwords = {words}\\nlines = {lines}\")"
   ]
  },
  {
   "cell_type": "code",
   "execution_count": 79,
   "metadata": {},
   "outputs": [
    {
     "name": "stdout",
     "output_type": "stream",
     "text": [
      "Hwllo, World!\n",
      "appended later\n",
      "characters = 28\n",
      "words = 4\n",
      "lines = 2\n"
     ]
    }
   ],
   "source": [
    "# 4. Count the number of lines, words, and characters in a file\n",
    "filename = \"file.txt\"\n",
    "# file = None\n",
    "try:\n",
    "    file = open(filename, \"r\")\n",
    "    file_data = file.read()\n",
    "    file.close()\n",
    "except FileNotFoundError as e:\n",
    "    print(\"File Does not exist!\")\n",
    "except PermissionError:\n",
    "    print(f\"Error: Cannot access file {filename}\")\n",
    "except Exception as e:\n",
    "    print(f\"Unexpected error, could not read file!, {e}\")\n",
    "else:\n",
    "    characters = len(file_data)\n",
    "    words = len(\n",
    "        file_data.split()\n",
    "    )\n",
    "    print(file_data)\n",
    "    lines = len(file_data.split(\"\\n\"))\n",
    "    print(f\"characters = {characters}\\nwords = {words}\\nlines = {lines}\")"
   ]
  },
  {
   "cell_type": "code",
   "execution_count": 80,
   "metadata": {},
   "outputs": [
    {
     "name": "stdout",
     "output_type": "stream",
     "text": [
      "Given file 'non_existent_file.txt' NOT found\n"
     ]
    }
   ],
   "source": [
    "# 5. Write a program to handle the FileNotFoundError when trying to read a non-existent file.\n",
    "# Sample Data: non_existent_file.txt\n",
    "filename = \"non_existent_file.txt\"\n",
    "\n",
    "try:\n",
    "    file = open(filename)\n",
    "except FileNotFoundError:\n",
    "    print(f\"Given file '{filename}' NOT found\")\n",
    "except PermissionError:\n",
    "    print(f\"Error: Cannot access file {filename}\")\n",
    "except Exception as e:\n",
    "    print(f\"Unexpected error: {e}\")\n",
    "else:\n",
    "    file_data = file.read()\n",
    "    file.close()\n",
    "    print(file_data)"
   ]
  },
  {
   "cell_type": "code",
   "execution_count": 81,
   "metadata": {},
   "outputs": [
    {
     "name": "stdout",
     "output_type": "stream",
     "text": [
      "Wrote from source.txt to destination.txt successfully\n"
     ]
    }
   ],
   "source": [
    "# 6. Write a program to copy the contents of one file to another.\n",
    "# Sample Data: source.txt -> destination.txt\n",
    "\n",
    "source_loc = \"source.txt\"\n",
    "dest_loc = \"destination.txt\"\n",
    "\n",
    "# reading from source\n",
    "try:\n",
    "    source_file =  open(source_loc, \"r\")\n",
    "    source_file_data = source_file.read()\n",
    "    source_file.close()\n",
    "except FileNotFoundError:\n",
    "    print(f\"Given file '{source_loc}' NOT found\")\n",
    "except PermissionError:\n",
    "    print(f\"Error: Cannot access file {source_loc}\")\n",
    "except Exception as e:\n",
    "    print(f\"Unexpected error: {e}\")\n",
    "except Exception as e:\n",
    "    print(f\"could not read file: '{source_loc}'\")\n",
    "\n",
    "# del source, dest\n",
    "# writing to destination\n",
    "try:\n",
    "    dest_file =  open(dest_loc, \"w+\")\n",
    "    dest_file.write(source_file_data)\n",
    "    dest_file.close()\n",
    "except PermissionError:\n",
    "    print(f\"Error: Cannot access file {dest_loc}\")\n",
    "except Exception as e:\n",
    "    print(f\"Could not write to file: '{dest_loc}': {e}\")\n",
    "else:\n",
    "    print(f\"Wrote from {source_loc} to {dest_loc} successfully\")"
   ]
  },
  {
   "cell_type": "code",
   "execution_count": 82,
   "metadata": {},
   "outputs": [
    {
     "name": "stdout",
     "output_type": "stream",
     "text": [
      "[\n",
      "    {\n",
      "        \"name\": \"Alice\",\n",
      "        \"age\": \"25\"\n",
      "    },\n",
      "    {\n",
      "        \"name\": \"Bob\",\n",
      "        \"age\": \"30\"\n",
      "    },\n",
      "    {\n",
      "        \"name\": \"Baba\",\n",
      "        \"age\": \" 29\"\n",
      "    },\n",
      "    {\n",
      "        \"name\": \"Yash\",\n",
      "        \"age\": \" 22\"\n",
      "    },\n",
      "    {\n",
      "        \"name\": \"Riteish\",\n",
      "        \"age\": \" 21\"\n",
      "    }\n",
      "]\n"
     ]
    }
   ],
   "source": [
    "# 7. Read a CSV file and print its content as a list of dictionaries.\n",
    "# Sample Data: data.csv (Content: \"name,age\\nAlice,25\\nBob,30\")\n",
    "import json\n",
    "import csv\n",
    "filename = \"sample.csv\"\n",
    "try:\n",
    "    with open(filename) as file:\n",
    "        # dict reader handles the key-value mapping itself\n",
    "        reader = csv.DictReader(file)\n",
    "        data = [dict(row) for row in reader]\n",
    "        print(json.dumps(data, indent=4))\n",
    "except FileNotFoundError:\n",
    "    print(f\"Given file {filename} not found\")\n",
    "except PermissionError:\n",
    "    print(f\"Error: Cannot access file {filename}\")\n",
    "except Exception as e:\n",
    "    print(f\"Unexpected error: {e}\")\n",
    "  ###########\n",
    " # Under the hood, when you use a with statement, Python calls special methods on the file object:\n",
    "##########\n",
    "# __enter__(): This method is called when entering the context (the code block). It opens the file.\n",
    "# __exit__(): This method is called when exiting the context (when the code block ends, whether normally or due to an exception). It closes the file.\n",
    "# By relying on these methods, the with statement ensures that your files are always properly managed without needing to explicitly close them.\n",
    "\n",
    "# The error Unexpected error: 'dict' object is not callable occurs when you accidentally overwrite Python's built-in dict type by using dict as a variable name in your code.\n",
    "# This makes dict refer to your variable instead of the built-in dictionary constructor.\n",
    "# del dict  # Deletes the variable named 'dict'\n"
   ]
  },
  {
   "cell_type": "code",
   "execution_count": 83,
   "metadata": {},
   "outputs": [
    {
     "name": "stdout",
     "output_type": "stream",
     "text": [
      "[\n",
      "    {\n",
      "        \"name\": \"Alice\",\n",
      "        \"age\": \"25\"\n",
      "    },\n",
      "    {\n",
      "        \"name\": \"Bob\",\n",
      "        \"age\": \"30\"\n",
      "    },\n",
      "    {\n",
      "        \"name\": \"Baba\",\n",
      "        \"age\": \" 29\"\n",
      "    },\n",
      "    {\n",
      "        \"name\": \"Yash\",\n",
      "        \"age\": \" 22\"\n",
      "    },\n",
      "    {\n",
      "        \"name\": \"Riteish\",\n",
      "        \"age\": \" 21\"\n",
      "    }\n",
      "]\n"
     ]
    }
   ],
   "source": [
    "# 7. Read a CSV file and print its content as a list of dictionaries.\n",
    "# Sample Data: data.csv (Content: \"name,age\\nAlice,25\\nBob,30\")\n",
    "import json\n",
    "import csv\n",
    "filename = \"sample.csv\"\n",
    "try:\n",
    "    with open(filename) as file:\n",
    "        reader = csv.reader(file)\n",
    "        data = []\n",
    "        # handling the dict without dict reader\n",
    "        keys = next(reader)\n",
    "        for row in reader:\n",
    "            if(len(keys), len(row)):\n",
    "                temp_dict = dict.fromkeys(keys, \"\")\n",
    "                for i in range(len(keys)):\n",
    "                    temp_dict[keys[i]] = row[i]\n",
    "                data.append(temp_dict)\n",
    "        print(json.dumps(data, indent=4))\n",
    "except FileNotFoundError:\n",
    "    print(f\"Given file {filename} not found\")\n",
    "except PermissionError:\n",
    "    print(f\"Error: Cannot access file {filename}\")\n",
    "except Exception as e:\n",
    "    print(f\"Unexpected error: {e}\")"
   ]
  },
  {
   "cell_type": "code",
   "execution_count": 84,
   "metadata": {},
   "outputs": [
    {
     "name": "stdout",
     "output_type": "stream",
     "text": [
      "Original file: Hwllo, World!\n",
      "appended later\n",
      "\n",
      "Updated file: Hello, World!\n",
      "appended later\n"
     ]
    }
   ],
   "source": [
    "# 8. Write a program to find and replace a specific word in a file.\n",
    "# Sample Data: file.txt (Find: \"old\", Replace: \"new\")\n",
    "filename = \"file.txt\"\n",
    "old = \"Hwllo\"\n",
    "new = \"Hello\"\n",
    "\n",
    "try:\n",
    "    with open(filename, \"r+\") as file:\n",
    "        file_data = file.read()\n",
    "        print(f\"Original file: {file_data}\")\n",
    "        file_data = file_data.replace(old, new)\n",
    "        # moving seek to end to truncate\n",
    "        file.seek(0)\n",
    "        file.write(file_data)\n",
    "        print(f\"\\nUpdated file: {file_data}\")\n",
    "except FileNotFoundError:\n",
    "    print(f\"File '{filename}' not found\")\n",
    "except PermissionError:\n",
    "    print(f\"Cannot acces file {filename}\")\n",
    "except Exception as e:\n",
    "    print(f\"Unexpected error occured: {e}\")"
   ]
  },
  {
   "cell_type": "code",
   "execution_count": 85,
   "metadata": {},
   "outputs": [],
   "source": [
    "# 9. Create a program that reads a binary file and displays its content in hexadecimal format.\n",
    "# Sample Data: binary_file.bin\n",
    "# writing to file\n",
    "filename = \"sample.bin\"\n",
    "\n",
    "# Write binary data to a file\n",
    "with open(filename, \"wb\") as file:\n",
    "    # Writing binary data (bytes)\n",
    "    file.write(b\"This is a binary file.\\n\")\n",
    "    file.write(b\"\\x00\\x01\\x02\\x03\\x04\\x05\")  # Writing raw bytes\n",
    "    file.write(b\"\\nEnd of file.\")\n"
   ]
  },
  {
   "cell_type": "code",
   "execution_count": 86,
   "metadata": {},
   "outputs": [
    {
     "name": "stdout",
     "output_type": "stream",
     "text": [
      "5468697320697320612062696e6172792066696c652e0a0001020304050a456e64206f662066696c652e\n"
     ]
    }
   ],
   "source": [
    "# 9. Create a program that reads a binary file and displays its content in hexadecimal format.\n",
    "# Sample Data: binary_file.bin\n",
    "filename = \"sample.bin\"\n",
    "\n",
    "try:\n",
    "    # Reading binary data from a file\n",
    "    with open(filename, \"rb\") as file:\n",
    "        # Writing binary data (bytes)\n",
    "        binary_data = file.read()\n",
    "        file_data = binary_data.hex()\n",
    "        print(file_data)\n",
    "except FileNotFoundError:\n",
    "    print(f\"File '{filename}' not found\")\n",
    "except PermissionError:\n",
    "    print(f\"Cannot acces file {filename}\")\n",
    "except Exception as e:\n",
    "    print(f\"Unexpected error occured: {e}\")"
   ]
  },
  {
   "cell_type": "code",
   "execution_count": 87,
   "metadata": {},
   "outputs": [
    {
     "name": "stdout",
     "output_type": "stream",
     "text": [
      "Third file data:\n",
      "Hello, World!\n",
      "appended laterThis is source for the data\n"
     ]
    }
   ],
   "source": [
    "# 10. Write a program to merge the contents of two files into a single file.\n",
    "# Sample Data: file1.txt and file2.txt\n",
    "file1 = \"file.txt\"\n",
    "file2 = \"source.txt\"\n",
    "file3 = \"output.txt\"\n",
    "\n",
    "try:\n",
    "    with open(file1, \"r\") as file:\n",
    "        file1_data = file.read()\n",
    "    with open(file2, \"r\") as file:\n",
    "        file2_data = file.read()\n",
    "    with open(file3, \"w+\") as file:\n",
    "        file.write(file1_data+file2_data)\n",
    "\n",
    "        file.seek(0)\n",
    "        file3_data = file.read()\n",
    "        print(f\"Third file data:\\n{file3_data}\")\n",
    "except FileNotFoundError as e:\n",
    "    print(f\"File not found: {e}\")\n",
    "except PermissionError as e:\n",
    "    print(f\"Cannot access file: {e}\")\n",
    "except Exception as e:\n",
    "    print(f\"Unexpected error occured: {e}\")"
   ]
  },
  {
   "cell_type": "code",
   "execution_count": null,
   "metadata": {},
   "outputs": [],
   "source": []
  }
 ],
 "metadata": {
  "kernelspec": {
   "display_name": "Python 3",
   "language": "python",
   "name": "python3"
  },
  "language_info": {
   "codemirror_mode": {
    "name": "ipython",
    "version": 3
   },
   "file_extension": ".py",
   "mimetype": "text/x-python",
   "name": "python",
   "nbconvert_exporter": "python",
   "pygments_lexer": "ipython3",
   "version": "3.9.20"
  }
 },
 "nbformat": 4,
 "nbformat_minor": 2
}
