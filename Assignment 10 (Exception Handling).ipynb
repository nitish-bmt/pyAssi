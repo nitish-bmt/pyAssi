{
 "cells": [
  {
   "cell_type": "code",
   "execution_count": 4,
   "metadata": {},
   "outputs": [
    {
     "name": "stdout",
     "output_type": "stream",
     "text": [
      "Cannot divide by zero!! reference: 10/0\n"
     ]
    }
   ],
   "source": [
    "# 1. Write a program to handle division by zero\n",
    "a = 10\n",
    "b = 0\n",
    "\n",
    "try:\n",
    "    c = a/b\n",
    "    print(f\"{a}/{b} = {a/b}\")\n",
    "except ZeroDivisionError:\n",
    "    print(f\"Cannot divide by zero!! reference: {a}/{b}\")"
   ]
  },
  {
   "cell_type": "code",
   "execution_count": 5,
   "metadata": {},
   "outputs": [
    {
     "name": "stdout",
     "output_type": "stream",
     "text": [
      "user has input negative number\n"
     ]
    }
   ],
   "source": [
    "# 2. Create a custom exception class NegativeNumberError to raise an exception when a negative number is encountered.\n",
    "try:\n",
    "    a = int(input(\"Enter a positive number: \"))\n",
    "    if(a<0):\n",
    "        raise ValueError\n",
    "    print(f\"got {a}\")\n",
    "except ValueError:\n",
    "    print(f\"user has input negative number\")"
   ]
  },
  {
   "cell_type": "code",
   "execution_count": 21,
   "metadata": {},
   "outputs": [
    {
     "name": "stdout",
     "output_type": "stream",
     "text": [
      "The input must be a positive number\n"
     ]
    }
   ],
   "source": [
    "# 3. Handle multiple exceptions: ValueError and TypeError, while taking user input for arithmetic operations.\n",
    "try:\n",
    "    a = int(input(\"Enter a positive number\"))\n",
    "    if(a<0):\n",
    "        raise ValueError\n",
    "    b = int(input(\"Enter aother positive number\"))\n",
    "    if(b<0):\n",
    "        raise ValueError\n",
    "except TypeError as e:\n",
    "    print(\"The input must be a valid number\")\n",
    "except ValueError as e:\n",
    "    print(\"The input must be a positive number\")\n",
    "\n"
   ]
  },
  {
   "cell_type": "code",
   "execution_count": 17,
   "metadata": {},
   "outputs": [
    {
     "name": "stdout",
     "output_type": "stream",
     "text": [
      "<class 'KeyError'>\n",
      "Required key 'address' is missing in {'name': 'Alice', 'age': 25}\n"
     ]
    }
   ],
   "source": [
    "# 4. Write a function that raises a KeyError if a specific key is not present in a dictionary.\n",
    "\n",
    "# explicit\n",
    "sample_dict = {'name': 'Alice', 'age': 25}\n",
    "key = 'address'\n",
    "\n",
    "try:\n",
    "    addr = sample_dict.get(key, None)\n",
    "    if(not addr):\n",
    "        # explicitly raising KeyError\n",
    "        raise KeyError\n",
    "    print(f\"address = {addr}\")\n",
    "# handles KeyError error\n",
    "except KeyError as e:\n",
    "    print(type(e))\n",
    "    print(f\"Required key '{key}' is missing in {sample_dict}\")\n",
    "# handles general errors\n",
    "except Exception as e:\n",
    "    print(f\"Unexpected error occured of type: {type(e)}\")"
   ]
  },
  {
   "cell_type": "code",
   "execution_count": 18,
   "metadata": {},
   "outputs": [
    {
     "name": "stdout",
     "output_type": "stream",
     "text": [
      "<class 'KeyError'>\n",
      "Required key 'address' is missing in {'name': 'Alice', 'age': 25}\n"
     ]
    }
   ],
   "source": [
    "# 4. Write a function that raises a KeyError if a specific key is not present in a dictionary.\n",
    "\n",
    "# implicit\n",
    "sample_dict = {'name': 'Alice', 'age': 25}\n",
    "key = 'address'\n",
    "\n",
    "try:\n",
    "    # python implicitly raises KeyError\n",
    "    addr = sample_dict[key]\n",
    "    print(f\"address = {addr}\")\n",
    "# handles KeyError error\n",
    "except KeyError as e:\n",
    "    print(type(e))\n",
    "    print(f\"Required key '{key}' is missing in {sample_dict}\")\n",
    "# handles general errors\n",
    "except Exception as e:\n",
    "    print(f\"Unexpected error occured of type: {type(e)}\")"
   ]
  },
  {
   "cell_type": "code",
   "execution_count": 40,
   "metadata": {},
   "outputs": [
    {
     "name": "stdout",
     "output_type": "stream",
     "text": [
      "[0, 1, 2, 3, 4, 5, 6, 7, 8, 9]\n",
      "index1 = 2,\n",
      "index2 = 3\n",
      "2/3=0.6666666666666666\n"
     ]
    }
   ],
   "source": [
    "# 5. Implement nested try-except blocks to handle exceptions at different levels of a program.\n",
    "# Example: Divide two numbers and access an index in a list.\n",
    "import random\n",
    "l = [i for i in range(0,10)]\n",
    "\n",
    "try:\n",
    "    ind = random.randrange(0,10)\n",
    "    ind2 = ind+1\n",
    "\n",
    "    print(f\"{l}\")\n",
    "    print(f\"index1 = {ind},\\nindex2 = {ind2}\")\n",
    "    # might raise IndexError\n",
    "    a = l[ind]\n",
    "    b = l[ind2]\n",
    "\n",
    "    try:\n",
    "        c = a/b\n",
    "        print(f\"{a}/{b}={c}\")\n",
    "    except ZeroDivisionError:\n",
    "        print(\"Cannot divide by zero!\")\n",
    "# handles IndexError\n",
    "except IndexError:\n",
    "    print(\"index out of bound\")\n",
    "except Exception as e:\n",
    "    print(f\"Unexpected error occured: {e}\")\n"
   ]
  },
  {
   "cell_type": "code",
   "execution_count": 47,
   "metadata": {},
   "outputs": [
    {
     "name": "stdout",
     "output_type": "stream",
     "text": [
      "Age cannot be negative: \n"
     ]
    }
   ],
   "source": [
    "# 6. Write a program that uses else with try-except to execute a block if no exceptions occur.\n",
    "\n",
    "try:\n",
    "    age = int(input(\"Enter your age\"))\n",
    "    if(age<0):\n",
    "        raise ValueError(\"Age cannot be negative\")\n",
    "except ValueError as e:\n",
    "    print(e)\n",
    "except Exception as e:\n",
    "    print(f\"error: {e}\")\n",
    "else:\n",
    "    if(age>17):\n",
    "        print(\"You can cast vote\")\n",
    "    else:\n",
    "        print(\"You cannot cast vote\")"
   ]
  },
  {
   "cell_type": "code",
   "execution_count": 50,
   "metadata": {},
   "outputs": [
    {
     "name": "stdout",
     "output_type": "stream",
     "text": [
      "Enter a valid 10 digit phone number\n"
     ]
    }
   ],
   "source": [
    "# 7. Create a custom exception class to handle invalid phone number in user input.\n",
    "try:\n",
    "    phone = input(\"Enter 10 digit phone number\")\n",
    "    if len(phone)!=10:\n",
    "        raise ValueError(\"Enter a valid 10 digit phone number\")\n",
    "    if not all([x.isdigit() for x in phone]):\n",
    "        raise ValueError(\"Enter a valid phone number\")\n",
    "except ValueError as e:\n",
    "    print(e)"
   ]
  },
  {
   "cell_type": "code",
   "execution_count": null,
   "metadata": {},
   "outputs": [],
   "source": []
  }
 ],
 "metadata": {
  "kernelspec": {
   "display_name": "Python 3",
   "language": "python",
   "name": "python3"
  },
  "language_info": {
   "codemirror_mode": {
    "name": "ipython",
    "version": 3
   },
   "file_extension": ".py",
   "mimetype": "text/x-python",
   "name": "python",
   "nbconvert_exporter": "python",
   "pygments_lexer": "ipython3",
   "version": "3.10.12"
  }
 },
 "nbformat": 4,
 "nbformat_minor": 2
}
