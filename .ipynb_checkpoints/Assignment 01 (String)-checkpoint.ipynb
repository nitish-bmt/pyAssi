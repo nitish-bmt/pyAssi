{
 "cells": [
  {
   "cell_type": "markdown",
   "id": "0ba51828-1885-4b21-934e-59ce7d3b4299",
   "metadata": {
    "tags": []
   },
   "source": [
    "#### Q1. What are the key features of Python?"
   ]
  },
  {
   "cell_type": "markdown",
   "id": "23bde847-6257-45ac-b892-024bc85dee50",
   "metadata": {},
   "source": [
    "#### Q2. What are the Data Types in Python?"
   ]
  },
  {
   "cell_type": "markdown",
   "id": "c5a9620d-a5b1-4784-af52-d7cc973d44b0",
   "metadata": {},
   "source": [
    "#### Q3. How do you write comments in python? And Why Comments are important? \n",
    "#single line comment\n",
    "\n",
    "'''\n",
    "multiline \n",
    "comment\n",
    "'''"
   ]
  },
  {
   "cell_type": "markdown",
   "id": "f59a18b4-89f9-441b-963a-393df669ed0e",
   "metadata": {},
   "source": [
    "#### Q4. Write a program to find the length of the string \"machine learning\" using len() function?"
   ]
  },
  {
   "cell_type": "markdown",
   "id": "2d7ba765-5f1e-4a4b-b91d-8eba4cb8d47b",
   "metadata": {},
   "source": [
    "Q4. Write a program to find the length of the string without using len() function?\n",
    "str = \"hello from nitish\"\n",
    "print(str)"
   ]
  },
  {
   "cell_type": "markdown",
   "id": "5a018a3b-4441-4e6e-a3e7-205296432827",
   "metadata": {},
   "source": [
    "#### Q5. Write a program to check if the word 'orange' is present in the \"This is orange juice\"?"
   ]
  },
  {
   "cell_type": "markdown",
   "id": "645dad9c-bf3f-4fe8-94d8-a2857e53f9a8",
   "metadata": {},
   "source": [
    "#### Q6. Write a program to find the number of vowels, consonants, digits, and white space characters in a string?"
   ]
  },
  {
   "cell_type": "markdown",
   "id": "7d4e56f2-398a-4489-87d6-5b5cd7fea35f",
   "metadata": {},
   "source": [
    "#### Q7. Write a Python program to count Uppercase, Lowercase, special character,and numeric values in a given string?\n"
   ]
  },
  {
   "cell_type": "markdown",
   "id": "da675171-ab64-4e67-9280-096480bc0e2e",
   "metadata": {},
   "source": [
    "#### 8. Write a program to make a new string with all the consonants deleted from the string \"Hello, have a good day\"?\n"
   ]
  },
  {
   "cell_type": "markdown",
   "id": "cf3c996d-b8dc-44ba-8a28-d6193556c637",
   "metadata": {},
   "source": [
    "#### Q9. Write a Python program to remove the nth index character from a non-empty string?"
   ]
  },
  {
   "cell_type": "markdown",
   "id": "80a2cab1-0b7d-4c83-8ff1-550cefa18b64",
   "metadata": {},
   "source": [
    "#### Q10. Write a Python program to change a given string to a new string where the first and last characters have been exchanged?"
   ]
  },
  {
   "cell_type": "markdown",
   "id": "2db71841-2ac0-49ad-a58f-8b58726fae59",
   "metadata": {},
   "source": [
    "#### Q11. Write a Python program to count the occurrences of each word in a given sentence?"
   ]
  },
  {
   "cell_type": "markdown",
   "id": "b80dbee2-ff0a-4dd5-ade7-af2f4db23479",
   "metadata": {},
   "source": [
    "#### Q12. How do you count the occurrence of a given character in a string?"
   ]
  },
  {
   "cell_type": "markdown",
   "id": "e6dbf36c-0e96-4696-b366-65a85b1268eb",
   "metadata": {},
   "source": [
    "#### Q13. Write a program to find last 10 characters of a string?"
   ]
  },
  {
   "cell_type": "markdown",
   "id": "b1ca488c-b28e-4ed1-a967-8328eca81868",
   "metadata": {},
   "source": [
    "#### Q14. Write a program to convert a given string to all uppercase if it contains at least 2 uppercase characters in the first 4 characters?"
   ]
  },
  {
   "cell_type": "markdown",
   "id": "f7721be5-37fb-49e6-aafa-47a561e970f4",
   "metadata": {},
   "source": [
    "#### Q15. Write a Python program to remove a newline in Python?"
   ]
  },
  {
   "cell_type": "markdown",
   "id": "9cad800e-03bb-4cdd-9932-957c69937930",
   "metadata": {},
   "source": [
    "#### Q16. Write a Python program to swap commas and dots in a string o Sample string: \"32.054,23\" Expected Output: \"32,054.23\"?"
   ]
  },
  {
   "cell_type": "markdown",
   "id": "e656f73c-c214-4bb0-8150-cfadbac96d44",
   "metadata": {},
   "source": [
    "#### Q17. Write a Python program to find the first repeated character in a given string?\n"
   ]
  },
  {
   "cell_type": "markdown",
   "id": "572f941a-47f6-417a-ac50-18675da000d2",
   "metadata": {},
   "source": [
    "#### Q18. Write a Python program to find the second most repeated word in a given string?\n"
   ]
  },
  {
   "cell_type": "markdown",
   "id": "8478d3cc-53cf-4db3-ba50-fa5f48e2fa04",
   "metadata": {},
   "source": [
    "#### Q20. How do you remove a given character/word from String?"
   ]
  },
  {
   "cell_type": "markdown",
   "id": "68aae462-ae80-4c3b-b680-77f7af8f6f00",
   "metadata": {},
   "source": [
    "#### Q21. Write a Python program to print the characters which have odd index values of a given string? \n"
   ]
  },
  {
   "cell_type": "markdown",
   "id": "5f8caa94-d3f6-4347-8541-a4d3d4db5c8e",
   "metadata": {},
   "source": [
    "#### Q22. Write a Python function to reverse a string if its length is a multiple of 5?\n"
   ]
  },
  {
   "cell_type": "markdown",
   "id": "84892ecf-8c3c-4be1-84e0-698797d3e986",
   "metadata": {},
   "source": [
    "#### Q23. Python Program to find simple interest and compound interest?"
   ]
  },
  {
   "cell_type": "markdown",
   "id": "f1106762-71f6-4ccf-a650-be689f705b58",
   "metadata": {},
   "source": [
    "#### Q24. Write a Python program to format a number with a percentage(0.05 >>5%)?\n"
   ]
  },
  {
   "cell_type": "markdown",
   "id": "d51aecaf-3064-45b5-b9c0-eb3054305df4",
   "metadata": {},
   "source": [
    "#### Q25. Write a Python program to reverse words in a string?\n",
    "\n"
   ]
  },
  {
   "cell_type": "markdown",
   "id": "b4c2db67-d213-4944-af1e-7b833163b634",
   "metadata": {},
   "source": [
    "#### Q26. Write a Python program to swap cases of a given string?\n"
   ]
  },
  {
   "cell_type": "markdown",
   "id": "db8c2f96-4c16-4a77-9a46-0e3d173006ad",
   "metadata": {},
   "source": [
    "#### Q27. Write a Python program to remove spaces from a given string?"
   ]
  },
  {
   "cell_type": "markdown",
   "id": "4c456543-1e9a-41ba-a7be-77b6dda8cd6b",
   "metadata": {},
   "source": [
    "#### Q28. Write a Python Program to find the area of a circle?"
   ]
  }
 ],
 "metadata": {
  "kernelspec": {
   "display_name": "Python 3 (ipykernel)",
   "language": "python",
   "name": "python3"
  },
  "language_info": {
   "codemirror_mode": {
    "name": "ipython",
    "version": 3
   },
   "file_extension": ".py",
   "mimetype": "text/x-python",
   "name": "python",
   "nbconvert_exporter": "python",
   "pygments_lexer": "ipython3",
   "version": "3.9.20"
  }
 },
 "nbformat": 4,
 "nbformat_minor": 5
}
