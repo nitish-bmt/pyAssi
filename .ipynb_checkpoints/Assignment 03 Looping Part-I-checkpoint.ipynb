{
 "cells": [
  {
   "cell_type": "markdown",
   "id": "ca7bd788-27c3-422e-9624-8ef7497860d0",
   "metadata": {},
   "source": [
    "#### Q1. Write a program find get total score by Indian cricket team. (HINT- sum of all the values in a dictionary)\n",
    "```\n",
    "batter_n_scores = {\"virat\": 100, \"rohit\": 200, \"hardik\": 50, \"surya\": 0}\n",
    "```"
   ]
  },
  {
   "cell_type": "markdown",
   "id": "76397a5d-54fd-4762-b972-072fd1b75730",
   "metadata": {},
   "source": [
    "#### Q2: Write a program to merge batters and ballers. Calculate total score of team.\n",
    "```\n",
    "batters = {\"virat\": 100, \"rohit\": 200, \"hardik\": 50, \"surya\": 0}\n",
    "ballers = {\"chahal\": 10, \"arshdeep\": 5, \"bumrah\": 1}\n",
    "```"
   ]
  },
  {
   "cell_type": "markdown",
   "id": "9dbf28cb-645c-4ee3-a113-bd15298882a1",
   "metadata": {},
   "source": [
    "#### Q3:Write a program to calculate grade of players based on their collective performance in a 3 different cricket series. Remove players who have scored less than 50.\n",
    "\n",
    "- Rules:\n",
    "    - A grade : one who scores more than 300 runs\n",
    "    - B grade : one who scores between 200 and 300 runs\n",
    "    - C grade : one who scores between 100 and 200 runs\n",
    "    - D grade : one who scores less than 100\n",
    "    \n",
    "```\n",
    "performances = {\n",
    "                \"asia-cup\": {\n",
    "                            \"virat\": 100,\n",
    "                            \"rohit\": 200,\n",
    "                            \"hardik\": 50,\n",
    "                            \"surya\": 0,\n",
    "                            \"chahal\": 10,\n",
    "                            \"arshdeep\": 5,\n",
    "                            \"bumrah\": 1\n",
    "                            },\n",
    "                \"aus-series\": {\n",
    "                            \"virat\": 5,\n",
    "                            \"rohit\": 39,\n",
    "                            \"hardik\": 47,\n",
    "                            \"surya\": 128,\n",
    "                            \"chahal\": 0,\n",
    "                            \"arshdeep\": 90,\n",
    "                            \"bumrah\": 4\n",
    "                            },\n",
    "                \"world-cup\": {\n",
    "                            \"virat\": 95,\n",
    "                            \"rohit\": 339,\n",
    "                            \"hardik\": 137,\n",
    "                            \"surya\": 196,\n",
    "                            \"chahal\": 91,\n",
    "                            \"arshdeep\": 89,\n",
    "                            \"bumrah\": 40\n",
    "                            }\n",
    "                }\n",
    "```"
   ]
  },
  {
   "cell_type": "markdown",
   "id": "3e99c4fe-54b1-4e1a-af4b-135dd6ebc899",
   "metadata": {},
   "source": [
    "#### Q4: Create a game of sticks as discussed in the class and protect it with a secret password. Set max attempts to enter password to 3. Number of sticks should be 26. Other rules will be same as discussed in the class."
   ]
  },
  {
   "cell_type": "markdown",
   "id": "ee37712d-15ce-4227-bfe2-26da855fe6a8",
   "metadata": {},
   "source": [
    "#### Q5: Produce a Fibonacci series of 20 elements using while loop."
   ]
  },
  {
   "cell_type": "markdown",
   "id": "49d7edc6-d5a5-46dc-a4fe-c7db268af1d4",
   "metadata": {},
   "source": [
    "#### Q6: Produce a Fibonacci series of 15 elements using for loop."
   ]
  },
  {
   "cell_type": "markdown",
   "id": "34fd896e-f2d5-4322-bfc9-8ff8c42d10cf",
   "metadata": {},
   "source": [
    "#### Q7: Write a program to check if number is prime or not."
   ]
  },
  {
   "cell_type": "markdown",
   "id": "81627c90-359b-4cb4-9919-3130f4f370a6",
   "metadata": {},
   "source": [
    "#### Q8: Write a program to find cube of first 12 natural numbers using for loop."
   ]
  },
  {
   "cell_type": "markdown",
   "id": "c0bea9b0-2782-4bd5-b111-fb00784b3515",
   "metadata": {},
   "source": [
    "#### Q9: Write a program to create a list of cube of first 12 natural numbers using list comprehension."
   ]
  },
  {
   "cell_type": "markdown",
   "id": "2eb4cf64-e164-48c7-ad75-951bb695566a",
   "metadata": {},
   "source": [
    "#### Q10: Write a program to calculate count of characters in a given string. Show the count in dict representation such as \n",
    "\n",
    "    ``` \n",
    "    { \"<char>\": \" <count>\",...}\n",
    "    ```"
   ]
  },
  {
   "cell_type": "markdown",
   "id": "9aaed19e-a110-414e-b9ae-52119d7db0e0",
   "metadata": {},
   "source": [
    "#### Q11: Use for loop to iterate from 0 to 100 and print the sum of all numbers."
   ]
  },
  {
   "cell_type": "markdown",
   "id": "1c45bc34-bcf0-47bf-a256-1a4640618119",
   "metadata": {},
   "source": [
    "#### Q12: Use for loop to iterate from 0 to 100 and print the sum of all evens and the sum of all odds."
   ]
  },
  {
   "cell_type": "markdown",
   "id": "ca44aa4a-4609-469e-883a-fa3f2206994b",
   "metadata": {},
   "source": [
    "#### Q13: Print the name of employees who have python as skill in the form first_name last_name\n",
    "```\n",
    "employees=[\n",
    "            {\n",
    "            'first_name': 'Asabeneh',\n",
    "            'last_name': 'Yetayeh',\n",
    "            'age': 23,\n",
    "            'country': 'India',\n",
    "            'is_marred': True,\n",
    "            'skills': [\n",
    "                        'JavaScript',\n",
    "                        'golang',\n",
    "                        'Node'\n",
    "                      ],\n",
    "            'address': {\n",
    "                        'street': 'Space street',\n",
    "                        'zipcode': '02210'\n",
    "                        }\n",
    "            },\n",
    "            {\n",
    "            'first_name': 'Rahul',\n",
    "            'last_name': 'Dravid',\n",
    "            'age': 56,\n",
    "            'country': 'Pakistan',\n",
    "            'is_marred': False,\n",
    "            'skills': [\n",
    "                        'C#',\n",
    "                        'React',\n",
    "                        'Angular',\n",
    "                        'MongoDB',\n",
    "                        'Python'\n",
    "                        ],\n",
    "            'address': {\n",
    "                        'street': 'Space street',\n",
    "                        'zipcode': '02210'\n",
    "                        }\n",
    "            },\n",
    "            {\n",
    "            'first_name': 'Virat',\n",
    "            'last_name': 'Kohli',\n",
    "            'age': 67,\n",
    "            'country': 'Finland',\n",
    "            'is_marred': True,\n",
    "            'skills': [\n",
    "                        'JavaScript',\n",
    "                        'React',\n",
    "                        'Node',\n",
    "                        'MongoDB',\n",
    "                        'Python'\n",
    "                        ],\n",
    "            'address': {\n",
    "                        'street': 'Space street',\n",
    "                        'zipcode': '02210'\n",
    "                        }\n",
    "            },\n",
    "            {\n",
    "            'first_name': 'Hardik',\n",
    "            'last_name': 'Pandya',\n",
    "            'age': 43,\n",
    "            'country': 'USA',\n",
    "            'is_marred': True,\n",
    "            'skills': [\n",
    "                        'JavaScript',\n",
    "                        'Azure',\n",
    "                        'Snowflake',\n",
    "                        'MongoDB'\n",
    "                        ],\n",
    "            'address': {\n",
    "                        'street': 'Space street',\n",
    "                        'zipcode': '02210'\n",
    "                        }\n",
    "            },\n",
    "            {\n",
    "            'first_name': 'Mohammad',\n",
    "            'last_name': 'Shami',\n",
    "            'age': 31,\n",
    "            'country': 'England',\n",
    "            'is_marred': False,\n",
    "            'skills': [\n",
    "                        'AWS',\n",
    "                        'GCP',\n",
    "                        'Node',\n",
    "                        'MongoDB',\n",
    "                        'Python'\n",
    "                        ],\n",
    "            'address': {\n",
    "                        'street': 'Space street',\n",
    "                        'zipcode': '02210'\n",
    "                        }\n",
    "            }\n",
    "            ]\n",
    "            \n",
    "```"
   ]
  },
  {
   "cell_type": "markdown",
   "id": "76d0338e-7158-4e9f-8baf-20361319fc63",
   "metadata": {},
   "source": [
    "#### Q14: Fire (remove) the employees who do not have python as skill and produce new dict,Print a dict output such as - { : ,....}"
   ]
  },
  {
   "cell_type": "markdown",
   "id": "95ceb79d-3662-44a9-9f44-8c46a7deb4a0",
   "metadata": {},
   "source": [
    "#### Q16: Fire (remove) all the employees who are above 30 year age and unmarried. "
   ]
  },
  {
   "cell_type": "markdown",
   "id": "e66ff821-6dbf-4527-af4e-bd9ef3517f22",
   "metadata": {},
   "source": [
    "#### Q17: Add a new key for each employee called salary based on following rules\n",
    "- if skill is Python, salary is 250000 USD\n",
    "- If skill is Python and age is less than 40 then 250000 USD\n",
    "- If skill is Python and unmarried then 200000 USD\n"
   ]
  },
  {
   "cell_type": "markdown",
   "id": "03e82ced-71f3-4752-9d95-7937a21a2e82",
   "metadata": {},
   "source": [
    "#### Q18: Create a multiplication table (arithmetic table) of 10 using for loop under while loop. Also do vice versa."
   ]
  }
 ],
 "metadata": {
  "kernelspec": {
   "display_name": "Python 3 (ipykernel)",
   "language": "python",
   "name": "python3"
  },
  "language_info": {
   "codemirror_mode": {
    "name": "ipython",
    "version": 3
   },
   "file_extension": ".py",
   "mimetype": "text/x-python",
   "name": "python",
   "nbconvert_exporter": "python",
   "pygments_lexer": "ipython3",
   "version": "3.12.2"
  }
 },
 "nbformat": 4,
 "nbformat_minor": 5
}
