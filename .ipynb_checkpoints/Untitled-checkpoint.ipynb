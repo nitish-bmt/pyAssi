{
 "cells": [
  {
   "cell_type": "code",
   "execution_count": 17,
   "id": "b3daa11b-4fee-40dc-a004-dff3ad64bd5b",
   "metadata": {},
   "outputs": [
    {
     "name": "stdout",
     "output_type": "stream",
     "text": [
      "17\n"
     ]
    }
   ],
   "source": [
    "#### Q4. Write a program to find the length of the string without using len() function?\n",
    "\n",
    "str = \"hello from nitish\"\n",
    "length = 0\n",
    "for ch in str:\n",
    "    length += 1\n",
    "print(length)"
   ]
  },
  {
   "cell_type": "code",
   "execution_count": 18,
   "id": "372e9f16-f897-4bbf-8200-de1672210bb7",
   "metadata": {},
   "outputs": [
    {
     "name": "stdout",
     "output_type": "stream",
     "text": [
      "item: 'oranges' does NOT exists in string: 'This is orange juice'\n"
     ]
    }
   ],
   "source": [
    "#### Q5. Write a program to check if the word 'orange' is present in the \"This is orange juice\"?\n",
    "\n",
    "str = \"This is orange juice\"\n",
    "item = 'oranges'\n",
    "if(str.find(item)!=-1):\n",
    "    print(f\"item: '{item}' exists in string: '{str}'\")\n",
    "else:\n",
    "    print(f\"item: '{item}' does NOT exists in string: '{str}'\")"
   ]
  },
  {
   "cell_type": "code",
   "execution_count": 14,
   "id": "c2848796-f035-4916-b738-3622b1171cdf",
   "metadata": {},
   "outputs": [
    {
     "name": "stdout",
     "output_type": "stream",
     "text": [
      "vowels:8\n",
      "consonants:9\n",
      "whitespaces:3\n",
      "digits:0\n"
     ]
    }
   ],
   "source": [
    "#### Q6. Write a program to find the number of vowels, consonants, digits, and white space characters in a string?\n",
    "\n",
    "str = \"This is orange juice\"\n",
    "\n",
    "vowels = 0\n",
    "consonants = 0\n",
    "whitespaces = 0\n",
    "digits = 0\n",
    "\n",
    "for ch in str:\n",
    "    if ch.isalpha():\n",
    "        is_vowel = False\n",
    "        if ch.casefold() in ['a','e','i','o','u']:\n",
    "            vowels+=1\n",
    "        else:\n",
    "            consonants+=1\n",
    "    elif ch.isspace():\n",
    "        whitespaces+=1\n",
    "    elif ch.isdigit():\n",
    "        digits+=1    \n",
    "\n",
    "print(f\"vowels:{vowels}\")\n",
    "print(f\"consonants:{consonants}\")\n",
    "print(f\"whitespaces:{whitespaces}\")\n",
    "print(f\"digits:{digits}\")\n",
    "    "
   ]
  },
  {
   "cell_type": "code",
   "execution_count": 34,
   "id": "33b3aa7c-5d28-4f2d-8d72-32a96819b3d6",
   "metadata": {},
   "outputs": [
    {
     "name": "stdout",
     "output_type": "stream",
     "text": [
      "uppercase:1\n",
      "lowercase:16\n",
      "digits:0\n",
      "special:0\n"
     ]
    }
   ],
   "source": [
    "#### Q7. Write a Python program to count Uppercase, Lowercase, special character,and numeric values in a given string?\n",
    "str = \"This is orange juice\"\n",
    "\n",
    "uppercase = 0\n",
    "lowercase = 0\n",
    "special = 0\n",
    "digits = 0\n",
    "\n",
    "for ch in str:\n",
    "    if ch.isalpha():\n",
    "        if ch.isupper():\n",
    "            uppercase+=1\n",
    "        else:\n",
    "            lowercase+=1\n",
    "    elif ch.isdigit():\n",
    "        digits+=1  \n",
    "    elif ch.isspace():\n",
    "        # skip\n",
    "        pass\n",
    "    else:\n",
    "        special+=1\n",
    "\n",
    "print(f\"uppercase:{uppercase}\")\n",
    "print(f\"lowercase:{lowercase}\")\n",
    "print(f\"digits:{digits}\")\n",
    "print(f\"special:{special}\")"
   ]
  },
  {
   "cell_type": "code",
   "execution_count": 17,
   "id": "81bdc59b-d9c1-4719-9855-fd403cadd1d6",
   "metadata": {},
   "outputs": [
    {
     "name": "stdout",
     "output_type": "stream",
     "text": [
      "string after removing consonants: 'eo, ae a oo a'\n"
     ]
    }
   ],
   "source": [
    "#### 8. Write a program to make a new string with all the consonants deleted from the string \"Hello, have a good day\"?\n",
    "\n",
    "str = \"Hello, have a good day\"\n",
    "for ch in str:\n",
    "    if ch.isalpha():\n",
    "        if ch.casefold() in ['a','e','i','o','u']:\n",
    "            pass\n",
    "        else:\n",
    "            str = str.replace(ch,'')\n",
    "print(f\"string after removing consonants: '{str}'\")"
   ]
  },
  {
   "cell_type": "code",
   "execution_count": 18,
   "id": "1c092a94-2266-404b-a637-eceb72e50559",
   "metadata": {},
   "outputs": [
    {
     "name": "stdout",
     "output_type": "stream",
     "text": [
      "Hell, have a good day\n"
     ]
    }
   ],
   "source": [
    "#### Q9. Write a Python program to remove the nth index character from a non-empty string?\n",
    "str = \"Hello, have a good day\"\n",
    "n = 4\n",
    "str = str[:n] + str[n+1:]\n",
    "print(str)"
   ]
  },
  {
   "cell_type": "code",
   "execution_count": 19,
   "id": "d6cce68c-7f0f-427c-905c-dadfad4c4948",
   "metadata": {},
   "outputs": [
    {
     "name": "stdout",
     "output_type": "stream",
     "text": [
      "yello, have a good daH\n"
     ]
    }
   ],
   "source": [
    "#### Q10. Write a Python program to change a given string to a new string where the first and last characters have been exchanged?\n",
    "str = \"Hello, have a good day\"\n",
    "temp = str[0]\n",
    "str = str[-1] + str[1:-1] + str[0]\n",
    "print(str)"
   ]
  },
  {
   "cell_type": "code",
   "execution_count": 20,
   "id": "86e5b3cd-e76b-4686-9733-9e602ffefff0",
   "metadata": {},
   "outputs": [
    {
     "name": "stdout",
     "output_type": "stream",
     "text": [
      "['Hello,', 'have', 'a', 'good', 'day']\n",
      "{'Hello,': 1, 'have': 1, 'a': 1, 'good': 1, 'day': 1}\n"
     ]
    }
   ],
   "source": [
    "#### Q11. Write a Python program to count the occurrences of each word in a given sentence?\n",
    "str = \"Hello, have a good day\"\n",
    "words = str.split()\n",
    "occurrences = dict.fromkeys(words, 0)\n",
    "print(words)\n",
    "for word in words:\n",
    "    occurrences[word] += 1\n",
    "print(occurrences)\n",
    "# ocurrences = str.count(word)"
   ]
  },
  {
   "cell_type": "code",
   "execution_count": 21,
   "id": "9dcb1006-7e32-4e28-9f52-f142cff38870",
   "metadata": {},
   "outputs": [
    {
     "name": "stdout",
     "output_type": "stream",
     "text": [
      "a good day\n"
     ]
    }
   ],
   "source": [
    "#### Q13. Write a program to find last 10 characters of a string?\n",
    "str = \"Hello, have a good day\"\n",
    "str = str[-10:]\n",
    "print(str)"
   ]
  },
  {
   "cell_type": "code",
   "execution_count": 22,
   "id": "8cbc1f1b-d35a-4637-9fc8-ebfa963f769d",
   "metadata": {},
   "outputs": [
    {
     "name": "stdout",
     "output_type": "stream",
     "text": [
      "Hello, have a good day\n"
     ]
    }
   ],
   "source": [
    "#### Q14. Write a program to convert a given string to all uppercase if it contains at least 2 uppercase characters in the first 4 characters?\n",
    "str = \"Hello, have a good day\"\n",
    "upper_count = 0\n",
    "for i in range(0, 4):\n",
    "    if str[i].isupper():\n",
    "        upper_count+=1\n",
    "if(upper_count > 1):\n",
    "    str = str.upper()\n",
    "print(str)"
   ]
  },
  {
   "cell_type": "code",
   "execution_count": 27,
   "id": "472056db-5a02-4cb2-ad86-d25985732f6d",
   "metadata": {},
   "outputs": [
    {
     "name": "stdout",
     "output_type": "stream",
     "text": [
      "Hello, have agood day\n"
     ]
    }
   ],
   "source": [
    "#### Q15. Write a Python program to remove a newline in Python?\n",
    "str = \"\"\"\n",
    "Hello, \n",
    "have a \n",
    "good day\n",
    "\"\"\"\n",
    "str = str.replace(\"\\n\", \"\")\n",
    "print(str)"
   ]
  },
  {
   "cell_type": "code",
   "execution_count": 93,
   "id": "b322dc8b-9a33-41a1-9944-fb19c609ee27",
   "metadata": {},
   "outputs": [
    {
     "name": "stdout",
     "output_type": "stream",
     "text": [
      "32,054.23\n"
     ]
    }
   ],
   "source": [
    "#### Q16. Write a Python program to swap commas and dots in a string o Sample string: \"32.054,23\" Expected Output: \"32,054.23\"?\n",
    "str = \"32.054,23\"\n",
    "dots = str.split(sep=\",\")\n",
    "dots_ = []\n",
    "for dot in dots:\n",
    "    dot_ = dot.replace(\".\",\",\")\n",
    "    dots_.append(dot_)\n",
    "str = (\".\").join(dots_)\n",
    "print(str)"
   ]
  },
  {
   "cell_type": "code",
   "execution_count": 6,
   "id": "beab105e-8ebf-4bcb-9cb1-08a38252c346",
   "metadata": {},
   "outputs": [
    {
     "name": "stdout",
     "output_type": "stream",
     "text": [
      "l\n"
     ]
    }
   ],
   "source": [
    "#### Q17. Write a Python program to find the first repeated character in a given string?\n",
    "str = \"Hello, have a good day\"\n",
    "first_repeated_index = len(str)\n",
    "\n",
    "i = 0\n",
    "j = len(str)-1\n",
    "while i < j:\n",
    "    local_minima = str.find(str[i], i+1, j+1)\n",
    "    if local_minima>0 and local_minima < first_repeated_index:\n",
    "        first_repeated_index = local_minima\n",
    "        j = local_minima\n",
    "    i+=1\n",
    "if(first_repeated_index == len(str)):\n",
    "    print(\"no repetition\")\n",
    "else:\n",
    "    print(str[first_repeated_index])\n",
    "    "
   ]
  },
  {
   "cell_type": "code",
   "execution_count": 7,
   "id": "408ee7bd-24b3-4dff-80bb-f1744811365b",
   "metadata": {},
   "outputs": [
    {
     "name": "stdout",
     "output_type": "stream",
     "text": [
      "['Hello,', 'have', 'a', 'good', 'day']\n",
      "dict_values([1, 1, 1, 1, 1])\n"
     ]
    }
   ],
   "source": [
    "#### Q18. Write a Python program to find the second most repeated word in a given string?\n",
    "str = \"Hello, have a good day\"\n",
    "words = str.split()\n",
    "occurrences = dict.fromkeys(words, 0)\n",
    "print(words)\n",
    "for word in words:\n",
    "    occurrences[word] += 1\n",
    "print(occurrences.values())\n",
    "# ocurrences = str.count(word)"
   ]
  },
  {
   "cell_type": "code",
   "execution_count": 11,
   "id": "008ebb26-f2a1-4671-bb6a-2c08ac3d4b78",
   "metadata": {},
   "outputs": [
    {
     "name": "stdout",
     "output_type": "stream",
     "text": [
      "Hello,  a good day\n"
     ]
    }
   ],
   "source": [
    "#### Q20. How do you remove a given character/word from String?\n",
    "str = \"Hello, have a good day\"\n",
    "to_remove = \"have\"\n",
    "str = str.replace(to_remove, \"\")\n",
    "print(str)"
   ]
  },
  {
   "cell_type": "code",
   "execution_count": null,
   "id": "aac094a2-1389-436e-968b-57326edb7c34",
   "metadata": {},
   "outputs": [],
   "source": [
    "#### Q21. Write a Python program to print the characters which have odd index values of a given string? \n",
    "str = \"Hello, have a good day\"\n",
    "for i in range(0, len(str)):\n",
    "    "
   ]
  }
 ],
 "metadata": {
  "kernelspec": {
   "display_name": "Python 3 (ipykernel)",
   "language": "python",
   "name": "python3"
  },
  "language_info": {
   "codemirror_mode": {
    "name": "ipython",
    "version": 3
   },
   "file_extension": ".py",
   "mimetype": "text/x-python",
   "name": "python",
   "nbconvert_exporter": "python",
   "pygments_lexer": "ipython3",
   "version": "3.9.20"
  }
 },
 "nbformat": 4,
 "nbformat_minor": 5
}
