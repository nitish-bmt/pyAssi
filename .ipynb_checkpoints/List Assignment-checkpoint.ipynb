{
 "cells": [
  {
   "cell_type": "markdown",
   "id": "e9be3f4f-648a-44e6-a8e5-7ec47a91756c",
   "metadata": {
    "jp-MarkdownHeadingCollapsed": true,
    "tags": []
   },
   "source": [
    "#### Q1. What is list? and what are features of list?\n"
   ]
  },
  {
   "cell_type": "markdown",
   "id": "252ce98b-f8c6-48b9-af69-92ef7b1337bb",
   "metadata": {},
   "source": [
    "#### Q2. Write a Python program to find largest element in the list."
   ]
  },
  {
   "cell_type": "markdown",
   "id": "e105c91b-1f29-4414-89e7-76710e53f3cb",
   "metadata": {},
   "source": [
    "#### Q3. Write a Python program to interchange first and last element in the list."
   ]
  },
  {
   "cell_type": "markdown",
   "id": "8821102f-c1e9-4c4e-beb7-809c883f4d2f",
   "metadata": {},
   "source": [
    "#### Q4. Write a Python program to swap elements in the list."
   ]
  },
  {
   "cell_type": "markdown",
   "id": "8628e27e-b9ae-4ea5-8077-8d53fe6f54b5",
   "metadata": {},
   "source": [
    "#### Q5. Write a Python program to reverse elements of the list."
   ]
  },
  {
   "cell_type": "markdown",
   "id": "b393ae74-0304-4662-ae69-48c6b4762c31",
   "metadata": {},
   "source": [
    "#### Q6. Write a Python program to count occurrences of an element in the list."
   ]
  },
  {
   "cell_type": "markdown",
   "id": "08da9988-f60f-434e-a619-1fc5a09d93be",
   "metadata": {},
   "source": [
    "#### Q7. Write a Python program to find sum of elements in the list."
   ]
  },
  {
   "cell_type": "markdown",
   "id": "f85434c0-bf22-4c3e-b6a9-cb5569e9770c",
   "metadata": {},
   "source": [
    "#### Q8. What are the ways to find length of a list.\n"
   ]
  },
  {
   "cell_type": "markdown",
   "id": "b1422beb-5ded-4e1f-b6cd-14eef2ebb734",
   "metadata": {},
   "source": [
    "#### Q9. Write a Python program to take input from user and make a list. Again take second input(element2) from user and find index of the element2 in the created list."
   ]
  },
  {
   "cell_type": "markdown",
   "id": "0476d6d8-54a6-4c8f-aec6-7b46680b3b31",
   "metadata": {},
   "source": [
    "#### Q10. What is the difference between append() function and extend() function"
   ]
  },
  {
   "cell_type": "markdown",
   "id": "e4eb07ba-5fbf-46a3-85ab-decc78909241",
   "metadata": {},
   "source": [
    "#### Q11. Write a Python program to append a list to the second list."
   ]
  },
  {
   "cell_type": "markdown",
   "id": "63ad2566-3f9b-4c69-a6fa-d51721864cd2",
   "metadata": {},
   "source": [
    "#### Q12. Write a Python program to find third largest element in the list (only use indexing / slicing)."
   ]
  },
  {
   "cell_type": "markdown",
   "id": "d85f62d0-9529-4c67-b5b9-a55ff4a428fc",
   "metadata": {},
   "source": [
    "#### Q13. Write a Python program to find forth smallest number in the list (only use indexing/ slicing."
   ]
  },
  {
   "cell_type": "markdown",
   "id": "53e6c862-2c53-471c-abbd-5fec6529d63a",
   "metadata": {},
   "source": [
    "#### Q14. Write a Python program to take 2 inputs from user to create 2 list objects. Insert list1 into list2 at certain index position (call it index1 ). Accessing element in thesub-list based on 3rd input (to be used as index) from the user."
   ]
  },
  {
   "cell_type": "markdown",
   "id": "96551ef9-ded4-4d9b-80ba-24ee6f83a2bd",
   "metadata": {},
   "source": [
    "#### Q15. Write a program to find frequency of an element in the given list"
   ]
  },
  {
   "cell_type": "markdown",
   "id": "234cdaad-0f0a-40c9-90f3-6f2406d10afa",
   "metadata": {},
   "source": [
    "#### Q16. Write a program to check whether a list contains a sub-list"
   ]
  },
  {
   "cell_type": "markdown",
   "id": "26510ec4-605d-467a-a91f-68c5175fc523",
   "metadata": {},
   "source": [
    "#### Q17. Write a Python program to find common items between 2 lists"
   ]
  },
  {
   "cell_type": "markdown",
   "id": "bf6afb31-743c-4d1e-b305-6d8306d26a9a",
   "metadata": {},
   "source": [
    "#### Q18. Write a program to remove duplicate items from a given list."
   ]
  },
  {
   "cell_type": "markdown",
   "id": "151936a7-6c0a-4c3a-bac4-f5034a779196",
   "metadata": {},
   "source": [
    "#### Q19. Write a program to remove an element from a list using del and remove"
   ]
  },
  {
   "cell_type": "markdown",
   "id": "89dfee8c-4b15-420e-871e-04cdd364c18e",
   "metadata": {},
   "source": [
    "#### Q20. State the difference between del and remove\n"
   ]
  },
  {
   "cell_type": "markdown",
   "id": "9782cbf4-a00b-44b0-9327-d7c596a6f27d",
   "metadata": {},
   "source": [
    "#### Q21. How to sort list using in built function?\n"
   ]
  },
  {
   "cell_type": "markdown",
   "id": "15584f9d-0fa8-418b-bfcf-191651546820",
   "metadata": {},
   "source": [
    "#### Q22. How to sort list using list function?"
   ]
  },
  {
   "cell_type": "markdown",
   "id": "12179ac9-9586-4692-83dc-e484626b8ec9",
   "metadata": {},
   "source": [
    "#### Q23. Write down difference between sort and sorted.\n",
    "\n"
   ]
  },
  {
   "cell_type": "markdown",
   "id": "9186a599-85dc-4b8a-a4ed-e04d78d61631",
   "metadata": {},
   "source": [
    "#### Q24. Difference between pop and remove function\n"
   ]
  },
  {
   "cell_type": "markdown",
   "id": "c6738fa7-0983-44bf-897f-fd2326e64e7f",
   "metadata": {},
   "source": [
    "#### Q25. How to check list is empty or not?"
   ]
  },
  {
   "cell_type": "markdown",
   "id": "45d8a244-3fca-4570-8844-e1f920b20274",
   "metadata": {},
   "source": [
    "#### Q26. how to concatenate 2 lists?"
   ]
  },
  {
   "cell_type": "markdown",
   "id": "13627609-5078-40dc-a2e7-d5d7e5eb8fca",
   "metadata": {},
   "source": [
    "#### Q27. Write a program to create a string from list of characters."
   ]
  },
  {
   "cell_type": "markdown",
   "id": "e37e39ca-f8dd-498c-b498-09d21eacd8ed",
   "metadata": {},
   "source": [
    "#### Q28. How to create a list of characters using string?"
   ]
  }
 ],
 "metadata": {
  "kernelspec": {
   "display_name": "Python 3 (ipykernel)",
   "language": "python",
   "name": "python3"
  },
  "language_info": {
   "codemirror_mode": {
    "name": "ipython",
    "version": 3
   },
   "file_extension": ".py",
   "mimetype": "text/x-python",
   "name": "python",
   "nbconvert_exporter": "python",
   "pygments_lexer": "ipython3",
   "version": "3.12.2"
  }
 },
 "nbformat": 4,
 "nbformat_minor": 5
}
