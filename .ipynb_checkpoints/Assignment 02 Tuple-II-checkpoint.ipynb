{
 "cells": [
  {
   "cell_type": "markdown",
   "id": "59ecacbf-388d-4a57-985f-c2e951c8e4b7",
   "metadata": {},
   "source": [
    "#### Q1 What is Tuple?\n"
   ]
  },
  {
   "cell_type": "markdown",
   "id": "7b777ae7-a1d4-4b13-905b-9e192d2c982a",
   "metadata": {},
   "source": [
    "#### Q2. Write a program to do tuple packing and unpacking."
   ]
  },
  {
   "cell_type": "markdown",
   "id": "33fc9c04-1145-4dfd-97c8-d697849af51d",
   "metadata": {},
   "source": [
    "#### Q3. Write a program to swap values of 2 variables using tuple packing and unpacking."
   ]
  },
  {
   "cell_type": "markdown",
   "id": "a627054c-52e6-4b72-a77d-01a0347bcdbd",
   "metadata": {},
   "source": [
    "#### Q4. Write a program to swap values of 2 variables without using tuple packing and unpacking (using third temporary variable) "
   ]
  },
  {
   "cell_type": "markdown",
   "id": "3e0f5a4a-895e-4e08-bba1-3edd6762bfaf",
   "metadata": {},
   "source": [
    "#### Q5 Try to delete an element in tuple"
   ]
  },
  {
   "cell_type": "markdown",
   "id": "920574e6-4449-4531-9783-1dfca3290cfe",
   "metadata": {},
   "source": [
    "#### Q6. Write a program to create a tuple using list as input"
   ]
  },
  {
   "cell_type": "markdown",
   "id": "1157c92e-2aca-4028-995a-798351841855",
   "metadata": {},
   "source": [
    "#### Q7. Write a program to take input from user and convert the singularized characters in the input string into tuple elements."
   ]
  },
  {
   "cell_type": "markdown",
   "id": "2b23bd1c-3a99-4865-8425-de12fff0d54b",
   "metadata": {},
   "source": [
    "#### Q8. Create a tuple and destroy it."
   ]
  }
 ],
 "metadata": {
  "kernelspec": {
   "display_name": "Python 3 (ipykernel)",
   "language": "python",
   "name": "python3"
  },
  "language_info": {
   "codemirror_mode": {
    "name": "ipython",
    "version": 3
   },
   "file_extension": ".py",
   "mimetype": "text/x-python",
   "name": "python",
   "nbconvert_exporter": "python",
   "pygments_lexer": "ipython3",
   "version": "3.12.2"
  }
 },
 "nbformat": 4,
 "nbformat_minor": 5
}
