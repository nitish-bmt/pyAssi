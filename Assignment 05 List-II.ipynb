{
 "cells": [
  {
   "cell_type": "markdown",
   "id": "e9be3f4f-648a-44e6-a8e5-7ec47a91756c",
   "metadata": {
    "jp-MarkdownHeadingCollapsed": true,
    "tags": []
   },
   "source": [
    "#### Q1. What is list? and what are features of list?\n",
    "\n",
    "- A list is an ordered collection of items in Python.\n",
    "- Defined using square brackets `[]`.\n",
    "- Can hold items of different data types, including other lists.\n",
    "\n",
    "**Features of Lists**\n",
    "- **Mutable**: Lists can be modified after creation. You can add, remove, or change items.\n",
    "\n",
    "- **Dynamic Sizing**: Lists can grow or shrink in size as needed. You can append items or remove them without needing to define a fixed size.\n",
    "\n",
    "- **Indexed**: Each item in a list has a unique index, starting from 0. You can access items using their index.\n",
    "\n",
    "- **Supports Various Methods**: Lists come with built-in methods such as:\n",
    "  - `append()`: Adds an item to the end of the list.\n",
    "  - `remove()`: Removes the first occurrence of a specified item.\n",
    "  - `pop()`: Removes and returns an item at a specified index.\n",
    "  - `sort()`: Sorts the items in the list.\n",
    "\n",
    "- **Slicing**: You can access a subset of the list using slicing syntax, allowing you to retrieve parts of the list easily.\n",
    "\n",
    "**Example of a List in Python**\n",
    "```python\n",
    "my_list = [1, 'apple', 3.14, [2, 4, 6]]\n",
    "my_list.append('banana')  # Adds 'banana' to the end\n",
    "print(my_list[1])  # Outputs: apple"
   ]
  },
  {
   "cell_type": "markdown",
   "id": "252ce98b-f8c6-48b9-af69-92ef7b1337bb",
   "metadata": {},
   "source": [
    "#### Q2. Write a Python program to find largest element in the list."
   ]
  },
  {
   "cell_type": "code",
   "execution_count": 63,
   "id": "878f9da3",
   "metadata": {},
   "outputs": [
    {
     "name": "stdout",
     "output_type": "stream",
     "text": [
      "102\n"
     ]
    }
   ],
   "source": [
    "#### Q2. Write a Python program to find largest element in the list.\n",
    "import sys\n",
    "l = [1,2,3,4,55,6,77,99,102,43,2,3]\n",
    "l.sort()\n",
    "largest_elem = l[-1]\n",
    "print(largest_elem)"
   ]
  },
  {
   "cell_type": "markdown",
   "id": "e105c91b-1f29-4414-89e7-76710e53f3cb",
   "metadata": {},
   "source": [
    "#### Q3. Write a Python program to interchange first and last element in the list."
   ]
  },
  {
   "cell_type": "code",
   "execution_count": 64,
   "id": "cfc5f2c3",
   "metadata": {},
   "outputs": [
    {
     "name": "stdout",
     "output_type": "stream",
     "text": [
      "[3, 2, 3, 4, 55, 6, 77, 99, 102, 43, 2, 1]\n"
     ]
    }
   ],
   "source": [
    "#### Q3. Write a Python program to interchange first and last element in the list.\n",
    "l = [1,2,3,4,55,6,77,99,102,43,2,3]\n",
    "l[0], l[-1] = l[-1],l[0]\n",
    "print(l)"
   ]
  },
  {
   "cell_type": "markdown",
   "id": "8821102f-c1e9-4c4e-beb7-809c883f4d2f",
   "metadata": {},
   "source": [
    "#### Q4. Write a Python program to swap elements in the list."
   ]
  },
  {
   "cell_type": "code",
   "execution_count": 65,
   "id": "79bd953e",
   "metadata": {},
   "outputs": [
    {
     "name": "stdout",
     "output_type": "stream",
     "text": [
      "[55, 2, 3, 4, 1, 6, 77, 99, 102, 43, 2, 3]\n"
     ]
    }
   ],
   "source": [
    "#### Q4. Write a Python program to swap elements in the list.\n",
    "l = [1,2,3,4,55,6,77,99,102,43,2,3]\n",
    "a = 55\n",
    "b = 1\n",
    "l[l.index(a)], l[l.index(b)] = l[l.index(b)], l[l.index(a)]\n",
    "print(l)"
   ]
  },
  {
   "cell_type": "markdown",
   "id": "8628e27e-b9ae-4ea5-8077-8d53fe6f54b5",
   "metadata": {},
   "source": [
    "#### Q5. Write a Python program to reverse elements of the list."
   ]
  },
  {
   "cell_type": "code",
   "execution_count": 66,
   "id": "0f37ddb3",
   "metadata": {},
   "outputs": [
    {
     "name": "stdout",
     "output_type": "stream",
     "text": [
      "[3, 2, 43, 102, 99, 77, 6, 55, 4, 3, 2, 1]\n"
     ]
    }
   ],
   "source": [
    "#### Q5. Write a Python program to reverse elements of the list.\n",
    "l = [1,2,3,4,55,6,77,99,102,43,2,3]\n",
    "l.reverse()\n",
    "print(l)"
   ]
  },
  {
   "cell_type": "markdown",
   "id": "b393ae74-0304-4662-ae69-48c6b4762c31",
   "metadata": {},
   "source": [
    "#### Q6. Write a Python program to count occurrences of an element in the list."
   ]
  },
  {
   "cell_type": "code",
   "execution_count": 67,
   "id": "b9ddb2eb",
   "metadata": {},
   "outputs": [
    {
     "name": "stdout",
     "output_type": "stream",
     "text": [
      "The element 3 occurs 4 times in the list\n"
     ]
    }
   ],
   "source": [
    "#### Q6. Write a Python program to count occurrences of an element in the list.\n",
    "l = [1,2,3,4,55,6,77,99,102,43,2,3,3,3]\n",
    "elem = 3\n",
    "\n",
    "print(f\"The element {elem} occurs {l.count(elem)} times in the list\")"
   ]
  },
  {
   "cell_type": "markdown",
   "id": "08da9988-f60f-434e-a619-1fc5a09d93be",
   "metadata": {},
   "source": [
    "#### Q7. Write a Python program to find sum of elements in the list."
   ]
  },
  {
   "cell_type": "code",
   "execution_count": 68,
   "id": "6c4d2577",
   "metadata": {},
   "outputs": [
    {
     "name": "stdout",
     "output_type": "stream",
     "text": [
      "403\n"
     ]
    }
   ],
   "source": [
    "#### Q7. Write a Python program to find sum of elements in the list.\n",
    "l = [1,2,3,4,55,6,77,99,102,43,2,3,3,3]\n",
    "sum_of_list = sum(l)\n",
    "print(sum_of_list)"
   ]
  },
  {
   "cell_type": "markdown",
   "id": "f85434c0-bf22-4c3e-b6a9-cb5569e9770c",
   "metadata": {},
   "source": [
    "#### Q8. What are the ways to find length of a list.\n"
   ]
  },
  {
   "cell_type": "code",
   "execution_count": 69,
   "id": "b5553798",
   "metadata": {},
   "outputs": [
    {
     "name": "stdout",
     "output_type": "stream",
     "text": [
      "14\n"
     ]
    }
   ],
   "source": [
    "#### Q8. What are the ways to find length of a list.\n",
    "l = [1,2,3,4,55,6,77,99,102,43,2,3,3,3]\n",
    "print(len(l))\n"
   ]
  },
  {
   "cell_type": "markdown",
   "id": "b1422beb-5ded-4e1f-b6cd-14eef2ebb734",
   "metadata": {},
   "source": [
    "#### Q9. Write a Python program to take input from user and make a list. Again take second input(element2) from user and find index of the element2 in the created list."
   ]
  },
  {
   "cell_type": "code",
   "execution_count": 70,
   "id": "b607711d",
   "metadata": {},
   "outputs": [
    {
     "name": "stdout",
     "output_type": "stream",
     "text": [
      "15 is present at 2st/nd/th in [5, 10, 15, 20, 25, 30, 35, 40, 45, 50]\n"
     ]
    }
   ],
   "source": [
    "#### Q9. Write a Python program to take input from user and make a list. Again take second input(element2) from user and find index of the element2 in the created list.\n",
    "inp1 = 5\n",
    "inp2 = 15\n",
    "# inp1 = int(input(\"Enter a number: \"))\n",
    "# inp2 = int(input(\"Enter another number: \"))\n",
    "l = [inp1*i for i in range(1,11)]\n",
    "print(f\"{inp2} is present at {l.index(inp2)}st/nd/th in {l}\")\n"
   ]
  },
  {
   "cell_type": "markdown",
   "id": "0476d6d8-54a6-4c8f-aec6-7b46680b3b31",
   "metadata": {},
   "source": [
    "#### Q10. What is the difference between append() function and extend() function"
   ]
  },
  {
   "cell_type": "code",
   "execution_count": 71,
   "id": "88e9bef3",
   "metadata": {},
   "outputs": [
    {
     "name": "stdout",
     "output_type": "stream",
     "text": [
      "l1: [1, 2, 3], l2:[4, 5], l3:[6, 7]\n",
      "[1, 2, 3] appends [4, 5]\n",
      "[1, 2, 3, [4, 5]]\n",
      "[1, 2, 3, [4, 5]] extends [6, 7]\n",
      "[1, 2, 3, [4, 5], 6, 7]\n"
     ]
    }
   ],
   "source": [
    "#### Q10. What is the difference between append() function and extend() function\n",
    "l1 = [1, 2, 3]\n",
    "l2 = [4, 5]\n",
    "l3 = [6, 7]\n",
    "print(f\"l1: {l1}, l2:{l2}, l3:{l3}\")\n",
    "print(f\"{l1} appends {l2}\")\n",
    "l1.append(l2)\n",
    "print(l1)\n",
    "\n",
    "print(f\"{l1} extends {l3}\")\n",
    "l1.extend(l3)\n",
    "print(l1)"
   ]
  },
  {
   "cell_type": "markdown",
   "id": "e4eb07ba-5fbf-46a3-85ab-decc78909241",
   "metadata": {},
   "source": [
    "#### Q11. Write a Python program to append a list to the second list."
   ]
  },
  {
   "cell_type": "code",
   "execution_count": 72,
   "id": "5206b14e",
   "metadata": {},
   "outputs": [
    {
     "name": "stdout",
     "output_type": "stream",
     "text": [
      "[1, 2, 3, [4, 5]]\n"
     ]
    }
   ],
   "source": [
    "#### Q11. Write a Python program to append a list to the second list.\n",
    "l1 = [1,2,3]\n",
    "l2 = [4,5]\n",
    "\n",
    "l1.append(l2)\n",
    "print(l1)"
   ]
  },
  {
   "cell_type": "markdown",
   "id": "63ad2566-3f9b-4c69-a6fa-d51721864cd2",
   "metadata": {},
   "source": [
    "#### Q12. Write a Python program to find third largest element in the list (only use indexing / slicing)."
   ]
  },
  {
   "cell_type": "code",
   "execution_count": 73,
   "id": "4e6735b8",
   "metadata": {},
   "outputs": [
    {
     "name": "stdout",
     "output_type": "stream",
     "text": [
      "'3' largest element in [1, 2, 3, 4, 6, 55, 43, 2, 3, 3, 3, 77, 99, 102] is 77\n"
     ]
    }
   ],
   "source": [
    "#### Q12. Write a Python program to find third largest element in the list (only use indexing / slicing).\n",
    "l = [1,2,3,4,55,6,77,99,102,43,2,3,3,3]\n",
    "# the third largest\n",
    "r_pos = 3\n",
    "for i in range(1,r_pos+1):\n",
    "    for j in range(0, len(l)-i):\n",
    "        if l[j]>l[j+1]:\n",
    "            l[j],l[j+1] = l[j+1],l[j]\n",
    "\n",
    "print(f\"'{r_pos}' largest element in {l} is {l[-r_pos]}\")"
   ]
  },
  {
   "cell_type": "markdown",
   "id": "d85f62d0-9529-4c67-b5b9-a55ff4a428fc",
   "metadata": {},
   "source": [
    "#### Q13. Write a Python program to find forth smallest number in the list (only use indexing/ slicing."
   ]
  },
  {
   "cell_type": "code",
   "execution_count": 74,
   "id": "e433d95b",
   "metadata": {},
   "outputs": [
    {
     "name": "stdout",
     "output_type": "stream",
     "text": [
      "'4' smallest element in [1, 2, 3, 4, 55, 6, 77, 99, 102, 43, 2, 3, 3, 3] is 4\n"
     ]
    }
   ],
   "source": [
    "#### Q13. Write a Python program to find forth smallest number in the list (only use indexing/ slicing.\n",
    "l = [1,2,3,4,55,6,77,99,102,43,2,3,3,3]\n",
    "# the fourth smallest\n",
    "l_pos = 4\n",
    "for i in range(1,l_pos+1):\n",
    "    for j in range(len(l)-1, -1+l_pos):\n",
    "        if l[j]>l[j-1]:\n",
    "            l[j],l[j-1] = l[j-1],l[j]\n",
    "\n",
    "print(f\"'{l_pos}' smallest element in {l} is {l[l_pos-1]}\")"
   ]
  },
  {
   "cell_type": "markdown",
   "id": "53e6c862-2c53-471c-abbd-5fec6529d63a",
   "metadata": {},
   "source": [
    "#### Q14. Write a Python program to take 2 inputs from user to create 2 list objects. Insert list1 into list2 at certain index position (call it index1 ). Accessing element in thesub-list based on 3rd input (to be used as index) from the user."
   ]
  },
  {
   "cell_type": "code",
   "execution_count": 75,
   "id": "e10aa0d2",
   "metadata": {},
   "outputs": [
    {
     "name": "stdout",
     "output_type": "stream",
     "text": [
      "[1, 2, 3, [7, 8, 9], 4, 5, 6]\n",
      "value at 1 index from list within list is 8\n"
     ]
    }
   ],
   "source": [
    "#### Q14. Write a Python program to take 2 inputs from user to create 2 list objects. Insert list1 into list2 at certain index position (call it index1 ). Accessing element in thesub-list based on 3rd input (to be used as index) from the user.\n",
    "inp1 = [1,2,3,4,5,6]\n",
    "inp2 = [7,8,9]\n",
    "\n",
    "index1 = 3\n",
    "inp1.insert(index1, inp2)\n",
    "\n",
    "print(inp1)\n",
    "inp3 = 1\n",
    "print(f\"value at {inp3} index from list within list is {inp1[index1][inp3]}\")"
   ]
  },
  {
   "cell_type": "markdown",
   "id": "96551ef9-ded4-4d9b-80ba-24ee6f83a2bd",
   "metadata": {},
   "source": [
    "#### Q15. Write a program to find frequency of an element in the given list"
   ]
  },
  {
   "cell_type": "code",
   "execution_count": 76,
   "id": "434b1664",
   "metadata": {},
   "outputs": [
    {
     "name": "stdout",
     "output_type": "stream",
     "text": [
      "element '3' occurs 4 times in [1, 2, 3, 4, 55, 6, 77, 99, 102, 43, 2, 3, 3, 3]\n"
     ]
    }
   ],
   "source": [
    "#### Q15. Write a program to find frequency of an element in the given list\n",
    "l = [1,2,3,4,55,6,77,99,102,43,2,3,3,3]\n",
    "elem = 3\n",
    "\n",
    "print(f\"element '{elem}' occurs {l.count(elem)} times in {l}\")\n"
   ]
  },
  {
   "cell_type": "markdown",
   "id": "234cdaad-0f0a-40c9-90f3-6f2406d10afa",
   "metadata": {},
   "source": [
    "#### Q16. Write a program to check whether a list contains a sub-list"
   ]
  },
  {
   "cell_type": "code",
   "execution_count": 77,
   "id": "d3a653b0",
   "metadata": {},
   "outputs": [
    {
     "name": "stdout",
     "output_type": "stream",
     "text": [
      "[1, 2, 3, 4, 55, 6, 77, 99, 102, 43, 2, 3, 3, 3] contains sublist [4, 55, 6, 77]\n"
     ]
    }
   ],
   "source": [
    "#### Q16. Write a program to check whether a list contains a sub-list\n",
    "l = [1,2,3,4,55,6,77,99,102,43,2,3,3,3]\n",
    "sub_list = [4,55,6,77]\n",
    "\n",
    "if(\n",
    "    all(\n",
    "            [True if elem in l else False for elem in sub_list]\n",
    "        )):\n",
    "    print(f\"{l} contains sublist {sub_list}\")\n",
    "else:\n",
    "    print(f\"{l} does NOT contain sublist {sub_list}\")"
   ]
  },
  {
   "cell_type": "markdown",
   "id": "26510ec4-605d-467a-a91f-68c5175fc523",
   "metadata": {},
   "source": [
    "#### Q17. Write a Python program to find common items between 2 lists"
   ]
  },
  {
   "cell_type": "code",
   "execution_count": 78,
   "id": "9e9175e4",
   "metadata": {},
   "outputs": [
    {
     "name": "stdout",
     "output_type": "stream",
     "text": [
      "[55, 6, 77] are common between [1, 2, 3, 4, 55, 6, 77, 99, 102, 43, 2, 3, 3, 3] and [487, 69, 404, 55, 40, 6, 77]\n"
     ]
    }
   ],
   "source": [
    "l1 = [1,2,3,4,55,6,77,99,102,43,2,3,3,3]\n",
    "l2 = [487,69,404,55,40,6,77]\n",
    "\n",
    "common = []\n",
    "for elem in l1:\n",
    "    if elem in l2:\n",
    "        common.append(elem)\n",
    "print(f\"{common} are common between {l1} and {l2}\")"
   ]
  },
  {
   "cell_type": "markdown",
   "id": "bf6afb31-743c-4d1e-b305-6d8306d26a9a",
   "metadata": {},
   "source": [
    "#### Q18. Write a program to remove duplicate items from a given list."
   ]
  },
  {
   "cell_type": "code",
   "execution_count": 79,
   "id": "151936a7-6c0a-4c3a-bac4-f5034a779196",
   "metadata": {},
   "outputs": [
    {
     "name": "stdout",
     "output_type": "stream",
     "text": [
      "[1, 2, 3, 4, 55, 6, 77, 99, 102, 43]\n"
     ]
    }
   ],
   "source": [
    "#### Q18. Write a program to remove duplicate items from a given list.w\n",
    "l = [1,2,3,4,55,6,77,99,102,43,2,3,3,3]\n",
    "\n",
    "i=0\n",
    "while i<len(l):\n",
    "    # print(f\"i={i}\")\n",
    "    # print(l)\n",
    "    try:\n",
    "        # print(l[i+1:])\n",
    "        # print(l[i+1:].index(l[i]))\n",
    "        while l[i+1:].index(l[i])!=-1:\n",
    "            del l[l[i+1:].index(l[i])+i+1]\n",
    "    except ValueError as e:\n",
    "        pass\n",
    "    i+=1\n",
    "print(l)\n",
    "\n"
   ]
  },
  {
   "cell_type": "code",
   "execution_count": 80,
   "id": "6803577b",
   "metadata": {},
   "outputs": [
    {
     "name": "stdout",
     "output_type": "stream",
     "text": [
      "[1, 2, 3, 4, 99, 6, 102, 43, 77, 55]\n"
     ]
    }
   ],
   "source": [
    "#### Q18. Write a program to remove duplicate items from a given list.w\n",
    "l = [1,2,3,4,55,6,77,99,102,43,2,3,3,3]\n",
    "l = list(set(l))\n",
    "print(l)"
   ]
  },
  {
   "cell_type": "markdown",
   "id": "1ae1bbc4",
   "metadata": {},
   "source": [
    "#### Q19. Write a program to remove an element from a list using del and remove"
   ]
  },
  {
   "cell_type": "code",
   "execution_count": 81,
   "id": "1ba2735d",
   "metadata": {},
   "outputs": [
    {
     "name": "stdout",
     "output_type": "stream",
     "text": [
      "[1, 2, 3, 4, 55, 6, 77, 102, 43, 2, 3, 3, 3]\n"
     ]
    }
   ],
   "source": [
    "#### Q19. Write a program to remove an element from a list using del and remove\n",
    "l = [1,2,3,4,55,6,77,99,102,43,2,3,3,3]\n",
    "elem = 99\n",
    "\n",
    "try:\n",
    "    del l[l.index(elem)]\n",
    "except ValueError as e:\n",
    "    print(f\"element {elem} doest NOT exist in {l}\")\n",
    "print(l)"
   ]
  },
  {
   "cell_type": "code",
   "execution_count": 82,
   "id": "02786e77",
   "metadata": {},
   "outputs": [
    {
     "name": "stdout",
     "output_type": "stream",
     "text": [
      "[1, 2, 3, 4, 55, 6, 77, 102, 43, 2, 3, 3, 3]\n"
     ]
    }
   ],
   "source": [
    "#### Q19. Write a program to remove an element from a list using del and remove\n",
    "l = [1,2,3,4,55,6,77,99,102,43,2,3,3,3]\n",
    "elem = 99\n",
    "\n",
    "try:\n",
    "    l.remove(elem)\n",
    "except ValueError as e:\n",
    "    print(f\"element {elem} doest NOT exist in {l}\")\n",
    "print(l)"
   ]
  },
  {
   "cell_type": "markdown",
   "id": "89dfee8c-4b15-420e-871e-04cdd364c18e",
   "metadata": {},
   "source": [
    "#### Q20. State the difference between del and remove\n",
    "\n",
    "**remove**\n",
    "- remove is a list function\n",
    "- takes the value to be removed from the list as argument\n",
    "- raises ValueError if value is not found\n",
    "- remove returns None\n",
    "- modifies the list\n",
    "\n",
    "**del**\n",
    "- del is a builtin function\n",
    "- del returns the resulting list\n",
    "- takes list element as <list>[<index>]\n",
    "- does not modify the list"
   ]
  },
  {
   "cell_type": "markdown",
   "id": "9782cbf4-a00b-44b0-9327-d7c596a6f27d",
   "metadata": {},
   "source": [
    "#### Q21. How to sort list using in built function?\n"
   ]
  },
  {
   "cell_type": "code",
   "execution_count": 83,
   "id": "253b722e",
   "metadata": {},
   "outputs": [
    {
     "name": "stdout",
     "output_type": "stream",
     "text": [
      "[1, 2, 3, 4, 55, 6, 77, 99, 102, 43, 2, 3, 3, 3]\n",
      "[1, 2, 2, 3, 3, 3, 3, 4, 6, 43, 55, 77, 99, 102]\n",
      "[1, 2, 3, 4, 55, 6, 77, 99, 102, 43, 2, 3, 3, 3]\n",
      "[102, 99, 77, 55, 43, 6, 4, 3, 3, 3, 3, 2, 2, 1]\n",
      "[1, 2, 3, 4, 55, 6, 77, 99, 102, 43, 2, 3, 3, 3]\n"
     ]
    }
   ],
   "source": [
    "#### Q21. How to sort list using in built function?\n",
    "l = [1,2,3,4,55,6,77,99,102,43,2,3,3,3]\n",
    "print(l)\n",
    "\n",
    "print(sorted(l))\n",
    "print(l)\n",
    "\n",
    "print(sorted(l, reverse=True))\n",
    "print(l)"
   ]
  },
  {
   "cell_type": "markdown",
   "id": "15584f9d-0fa8-418b-bfcf-191651546820",
   "metadata": {},
   "source": [
    "#### Q22. How to sort list using list function?"
   ]
  },
  {
   "cell_type": "code",
   "execution_count": 84,
   "id": "c263eb65",
   "metadata": {},
   "outputs": [
    {
     "name": "stdout",
     "output_type": "stream",
     "text": [
      "[1, 2, 2, 3, 3, 3, 3, 4, 6, 43, 55, 77, 99, 102]\n",
      "[102, 99, 77, 55, 43, 6, 4, 3, 3, 3, 3, 2, 2, 1]\n"
     ]
    }
   ],
   "source": [
    "#### Q22. How to sort list using list function?\n",
    "l = [1,2,3,4,55,6,77,99,102,43,2,3,3,3]\n",
    "\n",
    "l.sort()\n",
    "print(l)\n",
    "\n",
    "l.sort(reverse=True)\n",
    "print(l)"
   ]
  },
  {
   "cell_type": "markdown",
   "id": "12179ac9-9586-4692-83dc-e484626b8ec9",
   "metadata": {},
   "source": [
    "#### Q23. Write down difference between sort and sorted.\n",
    "\n",
    "**sort**\n",
    "- sort is a list function\n",
    "- sort returns None\n",
    "- modifies the list\n",
    "\n",
    "**sorted**\n",
    "- sorted is a builtin function\n",
    "- sorted returns the resulting list\n",
    "- does not modify the list\n"
   ]
  },
  {
   "cell_type": "markdown",
   "id": "9186a599-85dc-4b8a-a4ed-e04d78d61631",
   "metadata": {},
   "source": [
    "#### Q24. Difference between pop and remove function"
   ]
  },
  {
   "cell_type": "code",
   "execution_count": 85,
   "id": "040c2dad",
   "metadata": {},
   "outputs": [
    {
     "name": "stdout",
     "output_type": "stream",
     "text": [
      "[1, 2, 3, 4, 5, 6, 4]\n",
      "[1, 2, 3, 5, 6, 4]\n",
      "[1, 2, 3, 5, 6]\n"
     ]
    }
   ],
   "source": [
    "#### Q24. Difference between pop and remove function\n",
    "l = [1,2,3,4,5,6,4]\n",
    "print(l)\n",
    "\n",
    "# remove the first occurence of given item\n",
    "item = 4\n",
    "l.remove(item)\n",
    "print(l)\n",
    "\n",
    "# removes the last element\n",
    "l.pop()\n",
    "print(l)"
   ]
  },
  {
   "cell_type": "markdown",
   "id": "c6738fa7-0983-44bf-897f-fd2326e64e7f",
   "metadata": {},
   "source": [
    "#### Q25. How to check list is empty or not?"
   ]
  },
  {
   "cell_type": "code",
   "execution_count": 86,
   "id": "1262f8c7",
   "metadata": {},
   "outputs": [
    {
     "name": "stdout",
     "output_type": "stream",
     "text": [
      "[1, 2, 3] is NOT empty\n",
      "[] is empty\n"
     ]
    }
   ],
   "source": [
    "#### Q25. How to check list is empty or not?\n",
    "def is_empty(l):\n",
    "    return len(l)!=0\n",
    "\n",
    "def print_res(l, t):\n",
    "    print(\n",
    "        [f\"{l} is empty\", f\"{l} is NOT empty\"][t]\n",
    "    )\n",
    "\n",
    "l1 = [1,2,3]\n",
    "l2 = []\n",
    "print_res(l1, is_empty(l1))\n",
    "print_res(l2, is_empty(l2))"
   ]
  },
  {
   "cell_type": "markdown",
   "id": "45d8a244-3fca-4570-8844-e1f920b20274",
   "metadata": {},
   "source": [
    "#### Q26. how to concatenate 2 lists?"
   ]
  },
  {
   "cell_type": "code",
   "execution_count": 87,
   "id": "72b59c0b",
   "metadata": {},
   "outputs": [
    {
     "name": "stdout",
     "output_type": "stream",
     "text": [
      "[1, 2, 3, 4, 5, 6]\n"
     ]
    }
   ],
   "source": [
    "#### Q26. how to concatenate 2 lists?\n",
    "l1 = [1,2,3]\n",
    "l2 = [4,5,6]\n",
    "\n",
    "l3 = []\n",
    "l3.extend(l1)\n",
    "l3.extend(l2)\n",
    "print(l3)"
   ]
  },
  {
   "cell_type": "markdown",
   "id": "13627609-5078-40dc-a2e7-d5d7e5eb8fca",
   "metadata": {},
   "source": [
    "#### Q27. Write a program to create a string from list of characters."
   ]
  },
  {
   "cell_type": "code",
   "execution_count": 88,
   "id": "cdd62b18",
   "metadata": {},
   "outputs": [
    {
     "name": "stdout",
     "output_type": "stream",
     "text": [
      "hello\n"
     ]
    }
   ],
   "source": [
    "#### Q27. Write a program to create a string from list of characters.\n",
    "from functools import reduce\n",
    "list_of_chars = ['h', 'e', 'l', 'l', 'o']\n",
    "str_from_list = reduce(lambda x,y: x+y, list_of_chars, \"\")\n",
    "print(str_from_list)"
   ]
  },
  {
   "cell_type": "markdown",
   "id": "e37e39ca-f8dd-498c-b498-09d21eacd8ed",
   "metadata": {},
   "source": [
    "#### Q28. How to create a list of characters using string?"
   ]
  },
  {
   "cell_type": "code",
   "execution_count": 89,
   "id": "70eb6f38",
   "metadata": {},
   "outputs": [
    {
     "name": "stdout",
     "output_type": "stream",
     "text": [
      "['h', 'e', 'l', 'l', 'o']\n"
     ]
    }
   ],
   "source": [
    "#### Q28. How to create a list of characters using string?\n",
    "my_str = \"hello\"\n",
    "list_of_chars = list(map(lambda x: x, my_str))\n",
    "print(list_of_chars)"
   ]
  }
 ],
 "metadata": {
  "kernelspec": {
   "display_name": "Python 3",
   "language": "python",
   "name": "python3"
  },
  "language_info": {
   "codemirror_mode": {
    "name": "ipython",
    "version": 3
   },
   "file_extension": ".py",
   "mimetype": "text/x-python",
   "name": "python",
   "nbconvert_exporter": "python",
   "pygments_lexer": "ipython3",
   "version": "3.10.12"
  }
 },
 "nbformat": 4,
 "nbformat_minor": 5
}
