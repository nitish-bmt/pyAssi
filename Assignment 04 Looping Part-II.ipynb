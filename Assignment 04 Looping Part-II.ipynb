{
 "cells": [
  {
   "cell_type": "markdown",
   "metadata": {},
   "source": [
    "#### Q1: Create a list of strings based on a list of numbers\n",
    "- The rules:\n",
    "    - If the number is a multiple of five and odd, the string should be 'five odd'\n",
    "    - If the number is a multiple of five and even, the string should be 'five even'\n",
    "    - If the number is odd, the string is 'odd'\n",
    "    - If the number is even, the string is 'even'"
   ]
  },
  {
   "cell_type": "code",
   "execution_count": 3,
   "metadata": {},
   "outputs": [
    {
     "name": "stdout",
     "output_type": "stream",
     "text": [
      "['odd', 'odd', 'even', 'even', 'odd', 'five even', 'five even', 'five odd']\n"
     ]
    }
   ],
   "source": [
    "#### Q1: Create a list of strings based on a list of numbers\n",
    "'''\n",
    "- The rules:\n",
    "    - If the number is a multiple of five and odd, the string should be 'five odd'\n",
    "    - If the number is a multiple of five and even, the string should be 'five even'\n",
    "    - If the number is odd, the string is 'odd'\n",
    "    - If the number is even, the string is 'even'\n",
    "'''\n",
    "numbers = [1, 3, 4, 6, 81, 80, 100, 95]\n",
    "num_string = []\n",
    "for num in numbers:\n",
    "    num_string.append([\"\", \"five \"][num%5==0] + [\"odd\", \"even\"][num%2==0])\n",
    "print(num_string)"
   ]
  },
  {
   "cell_type": "markdown",
   "metadata": {},
   "source": [
    "#### Q2:Calculate the sum of dict values"
   ]
  },
  {
   "cell_type": "code",
   "execution_count": 4,
   "metadata": {},
   "outputs": [
    {
     "ename": "TypeError",
     "evalue": "unsupported operand type(s) for +: 'int' and 'str'",
     "output_type": "error",
     "traceback": [
      "\u001b[0;31m---------------------------------------------------------------------------\u001b[0m",
      "\u001b[0;31mTypeError\u001b[0m                                 Traceback (most recent call last)",
      "Cell \u001b[0;32mIn[4], line 3\u001b[0m\n\u001b[1;32m      1\u001b[0m \u001b[38;5;66;03m#### Q2:Calculate the sum of dict values\u001b[39;00m\n\u001b[1;32m      2\u001b[0m magic_dict \u001b[38;5;241m=\u001b[39m \u001b[38;5;28mdict\u001b[39m(val1\u001b[38;5;241m=\u001b[39m\u001b[38;5;241m44\u001b[39m, val2\u001b[38;5;241m=\u001b[39m\u001b[38;5;124m'\u001b[39m\u001b[38;5;124msecret value\u001b[39m\u001b[38;5;124m'\u001b[39m, val3\u001b[38;5;241m=\u001b[39m\u001b[38;5;241m55.0\u001b[39m, val4\u001b[38;5;241m=\u001b[39m\u001b[38;5;241m1\u001b[39m)\n\u001b[0;32m----> 3\u001b[0m \u001b[38;5;28mprint\u001b[39m(\u001b[38;5;28;43msum\u001b[39;49m\u001b[43m(\u001b[49m\u001b[43mmagic_dict\u001b[49m\u001b[38;5;241;43m.\u001b[39;49m\u001b[43mvalues\u001b[49m\u001b[43m(\u001b[49m\u001b[43m)\u001b[49m\u001b[43m)\u001b[49m)\n",
      "\u001b[0;31mTypeError\u001b[0m: unsupported operand type(s) for +: 'int' and 'str'"
     ]
    }
   ],
   "source": [
    "#### Q2:Calculate the sum of dict values\n",
    "magic_dict = dict(val1=44, val2='secret value', val3=55.0, val4=1)\n",
    "print(sum(magic_dict.values()))"
   ]
  },
  {
   "cell_type": "markdown",
   "metadata": {},
   "source": [
    "#### Q3: Write a for loop the prints out all the element between -5 and 5 using the range function."
   ]
  },
  {
   "cell_type": "code",
   "execution_count": 6,
   "metadata": {},
   "outputs": [
    {
     "name": "stdout",
     "output_type": "stream",
     "text": [
      "-5\n",
      "-4\n",
      "-3\n",
      "-2\n",
      "-1\n",
      "0\n",
      "1\n",
      "2\n",
      "3\n",
      "4\n",
      "5\n"
     ]
    }
   ],
   "source": [
    "#### Q3: Write a for loop the prints out all the element between -5 and 5 using the range function.\n",
    "init=-5\n",
    "end=5\n",
    "\n",
    "for i in range(init, end+1):\n",
    "    print(i)"
   ]
  },
  {
   "cell_type": "markdown",
   "metadata": {},
   "source": [
    "#### Q4: Write a while loop to copy the strings 'orange' of the list squares to the list new_squares .Stop and exit the loop if the value on the list is not 'orange’"
   ]
  },
  {
   "cell_type": "code",
   "execution_count": 7,
   "metadata": {},
   "outputs": [
    {
     "name": "stdout",
     "output_type": "stream",
     "text": [
      "['orange', 'orange']\n"
     ]
    }
   ],
   "source": [
    "#### Q4: Write a while loop to copy the strings 'orange' of the list squares to the list new_squares .Stop and exit the loop if the value on the list is not 'orange’\n",
    "squares = ['orange', 'orange', 'purple', 'blue ', 'orange']\n",
    "new_squares = []\n",
    "\n",
    "i = 0\n",
    "while(squares[i]=='orange' and i<len(squares)):\n",
    "    new_squares.append(squares[i])\n",
    "    i+=1\n",
    "print(new_squares)\n"
   ]
  },
  {
   "cell_type": "markdown",
   "metadata": {},
   "source": [
    "#### Q5: Write a while loop to display the values of the Rating of an album playlist stored in the list PlayListRatings. If the score is less than 6, exit the loop. "
   ]
  },
  {
   "cell_type": "code",
   "execution_count": 8,
   "metadata": {},
   "outputs": [
    {
     "name": "stdout",
     "output_type": "stream",
     "text": [
      "10\n",
      "9.5\n",
      "10\n",
      "8\n",
      "7.5\n"
     ]
    }
   ],
   "source": [
    "#### Q5: Write a while loop to display the values of the Rating of an album playlist stored in the list PlayListRatings. If the score is less than 6, exit the loop. \n",
    "PlayListRatings = [10, 9.5, 10, 8, 7.5, 5, 10, 10]\n",
    "i = 0\n",
    "while i<len(PlayListRatings) and PlayListRatings[i]>=6:\n",
    "    print(PlayListRatings[i])\n",
    "    i+=1"
   ]
  },
  {
   "cell_type": "markdown",
   "metadata": {},
   "source": [
    "#### Q6: If we list all the natural numbers below 10 that are multiples of 3 or 5, we get 3,5, 6 and 9. The sum of these multiples is 23. Find the sum of all the multiples of 3 or 5 below 1000."
   ]
  },
  {
   "cell_type": "code",
   "execution_count": 9,
   "metadata": {},
   "outputs": [
    {
     "name": "stdout",
     "output_type": "stream",
     "text": [
      "233168\n"
     ]
    }
   ],
   "source": [
    "#### Q6: If we list all the natural numbers below 10 that are multiples of 3 or 5, we get 3,5, 6 and 9. The sum of these multiples is 23. Find the sum of all the multiples of 3 or 5 below 1000.\n",
    "limit = 1000\n",
    "result = 0\n",
    "for i in range(1,limit):\n",
    "    if i%5==0 or i%3==0:\n",
    "        result+=i\n",
    "print(result)"
   ]
  },
  {
   "cell_type": "code",
   "execution_count": 2,
   "metadata": {},
   "outputs": [
    {
     "name": "stdout",
     "output_type": "stream",
     "text": [
      "233168\n"
     ]
    }
   ],
   "source": [
    "#### Q6: If we list all the natural numbers below 10 that are multiples of 3 or 5, we get 3,5, 6 and 9. The sum of these multiples is 23. Find the sum of all the multiples of 3 or 5 below 1000.\n",
    "# alternate soln\n",
    "limit = 1000\n",
    "nums = [x for x in range(1,limit) if x%5==0 or x%3==0]\n",
    "# print(nums)\n",
    "result = sum(nums)\n",
    "print(result)"
   ]
  },
  {
   "cell_type": "markdown",
   "metadata": {},
   "source": [
    "#### Q7: Each new term in the Fibonacci sequence is generated by adding the previous two terms. By starting with 1 and 2, the first 10 terms will be: 1, 2, 3, 5, 8, 13, 21, 34, 55, 89, ... By considering the terms in the Fibonacci sequence whose values do not exceed four million, find the sum of the even-valued terms."
   ]
  },
  {
   "cell_type": "code",
   "execution_count": 11,
   "metadata": {},
   "outputs": [
    {
     "name": "stdout",
     "output_type": "stream",
     "text": [
      "4613732\n"
     ]
    }
   ],
   "source": [
    "#### Q7: Each new term in the Fibonacci sequence is generated by adding the previous two terms. By starting with 1 and 2, the first 10 terms will be: 1, 2, 3, 5, 8, 13, 21, 34, 55, 89, ... By considering the terms in the Fibonacci sequence whose values do not exceed four million, find the sum of the even-valued terms.\n",
    "a = 1\n",
    "b = 2\n",
    "fib_sum = 0\n",
    "while(a<=4000000):\n",
    "    if(a%2==0):\n",
    "        fib_sum+=a\n",
    "    a,b = b, a+b\n",
    "print(fib_sum)"
   ]
  },
  {
   "cell_type": "markdown",
   "metadata": {},
   "source": [
    "#### Q8: The prime factors of 13195 are 5, 7, 13 and 29. What is the largest prime factor of the number 600851475143 ?"
   ]
  },
  {
   "cell_type": "code",
   "execution_count": 12,
   "metadata": {},
   "outputs": [
    {
     "name": "stdout",
     "output_type": "stream",
     "text": [
      "[71, 839, 1471, 6857]\n"
     ]
    }
   ],
   "source": [
    "#### Q8: The prime factors of 13195 are 5, 7, 13 and 29. What is the largest prime factor of the number 600851475143 ?\n",
    "import math\n",
    "\n",
    "def is_prime(num):\n",
    "    return False\n",
    "\n",
    "# num = 13195\n",
    "num = 600851475143\n",
    "prime_factors = [i \n",
    "                    for i in range(2, math.ceil(math.sqrt(num))+1) \n",
    "                        if num%i==0 \n",
    "                        and \n",
    "                        len(\n",
    "                            [j for j in range(2, math.ceil(math.sqrt(i))+1) if i%j==0]\n",
    "                        )==0\n",
    "                ]\n",
    "print(prime_factors)"
   ]
  },
  {
   "cell_type": "markdown",
   "metadata": {},
   "source": [
    "#### Q9: A palindromic number reads the same both ways. The largest palindrome made from the product of two 2-digit numbers is 9009 = 91 × 99. Find the largest palindrome made from the product of two 3-digit numbers."
   ]
  },
  {
   "cell_type": "code",
   "execution_count": 18,
   "metadata": {},
   "outputs": [
    {
     "name": "stdout",
     "output_type": "stream",
     "text": [
      "no such number exists\n"
     ]
    }
   ],
   "source": [
    "#### Q9: A palindromic number reads the same both ways. The largest palindrome made from the product of two 2-digit numbers is 9009 = 91 × 99. Find the largest palindrome made from the product of two 3-digit numbers.\n",
    "local_maxima = -1\n",
    "a = 999\n",
    "b = 999\n",
    "while(a>99):\n",
    "    while(b>99):\n",
    "        c = a*b\n",
    "        # print(f\"{str(c)}, {str(c)[::-1]}\")\n",
    "        if(str(c)==str(c)[::-1] and local_maxima<c):\n",
    "            # print(f\"local_maxima:{local_maxima}, c:{c}\")\n",
    "            local_maxima=c\n",
    "            break\n",
    "        b-=1\n",
    "    a-=1\n",
    "if(local_maxima<0):\n",
    "    print(\"no such number exists\")\n",
    "else:\n",
    "    print(f\"local_maxima: {local_maxima}\")"
   ]
  },
  {
   "cell_type": "markdown",
   "metadata": {},
   "source": [
    "#### Q10: 2520 is the smallest number that can be divided by each of the numbers from 1 to 10 without any remainder. What is the smallest positive number that is evenly divisible by all of the numbers from 1 to 20?"
   ]
  },
  {
   "cell_type": "code",
   "execution_count": 14,
   "metadata": {},
   "outputs": [
    {
     "name": "stdout",
     "output_type": "stream",
     "text": [
      "{}\n"
     ]
    }
   ],
   "source": [
    "#### Q10: 2520 is the smallest number that can be divided by each of the numbers from 1 to 10 without any remainder. What is the smallest positive number that is evenly divisible by all of the numbers from 1 to 20?\n",
    "import math\n",
    "\n",
    "num = 10\n",
    "\n",
    "combined_factors = {}\n",
    "\n",
    "init = 2\n",
    "limit = num\n",
    "for i in range(init, limit+1):\n",
    "    factors = {}\n",
    "    for j in (2, math.ceil(math.sqrt(i))+1):\n",
    "        if(i%j==0):\n",
    "            factors.update({j: factors})\n",
    "print(combined_factors)"
   ]
  },
  {
   "cell_type": "markdown",
   "metadata": {},
   "source": [
    "#### Q11: The sum of the squares of the first ten natural numbers is, 12+22+...+102=385 The square of the sum of the first ten natural numbers is, (1+2+...+10)2=552=3025 Hence the difference between the sum of the squares of the first ten natural numbers and the square of the sum is 3025−385=2640. Find the difference between the sum of the squares of the first one hundred natural numbers and the square of the sum."
   ]
  },
  {
   "cell_type": "code",
   "execution_count": 15,
   "metadata": {},
   "outputs": [
    {
     "name": "stdout",
     "output_type": "stream",
     "text": [
      "25164150\n"
     ]
    }
   ],
   "source": [
    "#### Q11: The sum of the squares of the first ten natural numbers is, 12+22+...+102=385 The square of the sum of the first ten natural numbers is, (1+2+...+10)2=552=3025 Hence the difference between the sum of the squares of the first ten natural numbers and the square of the sum is 3025−385=2640. Find the difference between the sum of the squares of the first one hundred natural numbers and the square of the sum.\n",
    "init = 1\n",
    "limit = 100\n",
    "nums = [i for i in range(init, limit+1)]\n",
    "\n",
    "square_of_sums = sum(nums)**2\n",
    "sum_of_squares = sum(\n",
    "    list(map(\n",
    "        lambda x: x**2,\n",
    "        nums\n",
    "        )))\n",
    "difference =  square_of_sums - sum_of_squares\n",
    "print(difference)"
   ]
  },
  {
   "cell_type": "markdown",
   "metadata": {},
   "source": [
    "#### Q12: By listing the first six prime numbers: 2, 3, 5, 7, 11, and 13, we can see that the 6th prime is 13. What is the 10001st prime number?"
   ]
  },
  {
   "cell_type": "code",
   "execution_count": 16,
   "metadata": {},
   "outputs": [
    {
     "name": "stdout",
     "output_type": "stream",
     "text": [
      "10001st/th prime number: 104743\n"
     ]
    }
   ],
   "source": [
    "#### Q12: By listing the first six prime numbers: 2, 3, 5, 7, 11, and 13, we can see that the 6th prime is 13. What is the 10001st prime number?\n",
    "import math\n",
    "n = 10001\n",
    "count = 0\n",
    "res = -1\n",
    "i = 2\n",
    "while count<n:\n",
    "    # print(f\"i: {i}, count: {count}\")\n",
    "    is_prime = True\n",
    "    for j in range(2, math.ceil(math.sqrt(i)+1)):\n",
    "        # print(f\"j: {j}\")\n",
    "        if(i%j == 0 and i!=j):\n",
    "            is_prime = False\n",
    "            break\n",
    "    if(is_prime):\n",
    "        res = i\n",
    "        count+=1\n",
    "    i+=1\n",
    "print(f\"{n}st/th prime number: {res}\")"
   ]
  }
 ],
 "metadata": {
  "kernelspec": {
   "display_name": "Python 3",
   "language": "python",
   "name": "python3"
  },
  "language_info": {
   "codemirror_mode": {
    "name": "ipython",
    "version": 3
   },
   "file_extension": ".py",
   "mimetype": "text/x-python",
   "name": "python",
   "nbconvert_exporter": "python",
   "pygments_lexer": "ipython3",
   "version": "3.10.12"
  }
 },
 "nbformat": 4,
 "nbformat_minor": 2
}
