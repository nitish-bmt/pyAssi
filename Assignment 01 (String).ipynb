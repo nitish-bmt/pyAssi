{
 "cells": [
  {
   "cell_type": "markdown",
   "id": "38e176bb",
   "metadata": {},
   "source": [
    "#### Q1. What are the key features of Python?\n",
    "\n",
    "Python is a versatile and widely-used programming language known for its simplicity and readability. Here are some key features of Python:\n",
    "\n",
    "1. **Easy to Learn and Use**: \n",
    "   - Python has a simple syntax that is easy to read and write, making it an excellent choice for beginners.\n",
    "\n",
    "2. **Interpreted Language**: \n",
    "   - Python is an interpreted language, which means that code is executed line by line, making debugging easier.\n",
    "\n",
    "3. **Dynamically Typed**: \n",
    "   - In Python, you don’t need to declare the type of a variable when you create one. The type is determined at runtime, which adds flexibility.\n",
    "\n",
    "4. **Extensive Standard Library**: \n",
    "   - Python comes with a large standard library that provides modules and functions for various tasks, such as file I/O, system calls, and even web development.\n",
    "\n",
    "5. **Object-Oriented**: \n",
    "   - Python supports object-oriented programming (OOP) principles, allowing for the creation of classes and objects, encapsulation, inheritance, and polymorphism.\n",
    "\n",
    "6. **Cross-Platform Compatibility**: \n",
    "   - Python can run on various operating systems, including Windows, macOS, and Linux, making it highly portable.\n",
    "\n",
    "7. **Community Support**: \n",
    "   - Python has a large and active community, which means there are plenty of resources, libraries, and frameworks available for developers.\n",
    "\n",
    "8. **Rich Ecosystem of Libraries and Frameworks**: \n",
    "   - Python has a vast ecosystem of third-party libraries and frameworks, such as NumPy, Pandas, Flask, Django, and TensorFlow, which facilitate various applications from web development to data science and machine learning.\n",
    "\n",
    "9. **Support for Multiple Programming Paradigms**: \n",
    "   - Python supports procedural, object-oriented, and functional programming paradigms, allowing developers to choose the best approach for their projects.\n",
    "\n",
    "10. **Strong Integration Capabilities**: \n",
    "    - Python can easily integrate with other languages (like C, C++, and Java) and technologies, making it suitable for a wide range of applications.\n",
    "\n",
    "11. **High-Level Language**: \n",
    "    - Python abstracts many complex details of the computer's operation, allowing developers to focus on programming rather than low-level details.\n",
    "\n",
    "12. **Automatic Memory Management**: \n",
    "    - Python has built-in garbage collection, which automatically manages memory allocation and deallocation, reducing the risk of memory leaks.\n",
    "\n",
    "These features make Python a popular choice for a variety of applications, including web development, data analysis, artificial intelligence, scientific computing, and more."
   ]
  },
  {
   "cell_type": "markdown",
   "id": "8d3dd137",
   "metadata": {},
   "source": [
    "#### Q2. What are the Data Types in Python?\n",
    "\n",
    "Python has several built-in data types that can be categorized as follows:\n",
    "\n",
    "1. **Numeric Types**:\n",
    "   - **int**: Integer values (e.g., `5`, `-3`)\n",
    "   - **float**: Floating-point numbers (e.g., `3.14`, `-0.001`)\n",
    "   - **complex**: Complex numbers (e.g., `2 + 3j`)\n",
    "\n",
    "2. **Sequence Types**:\n",
    "   - **str**: Strings (e.g., `\"Hello, World!\"`)\n",
    "   - **list**: Ordered, mutable collections (e.g., `[1, 2, 3]`)\n",
    "   - **tuple**: Ordered, immutable collections (e.g., `(1, 2, 3)`)\n",
    "\n",
    "3. **Mapping Type**:\n",
    "   - **dict**: Unordered collections of key-value pairs (e.g., `{\"name\": \"Alice\", \"age\": 25}`)\n",
    "\n",
    "4. **Set Types**:\n",
    "   - **set**: Unordered collections of unique elements (e.g., `{1, 2, 3}`)\n",
    "   - **frozenset**: Immutable version of a set (e.g., `frozenset([1, 2, 3])`)\n",
    "\n",
    "5. **Boolean Type**:\n",
    "   - **bool**: Represents `True` or `False`\n",
    "\n",
    "6. **None Type**:\n",
    "   - **NoneType**: Represents the absence of a value (e.g., `None`)\n",
    "\n",
    "These data types allow for a wide range of operations and data manipulation in Python."
   ]
  },
  {
   "cell_type": "markdown",
   "id": "768bf0f5",
   "metadata": {},
   "source": [
    "#### Q3. How do you write comments in python? And Why Comments are important? "
   ]
  },
  {
   "cell_type": "code",
   "execution_count": 8,
   "id": "e113fc6f",
   "metadata": {},
   "outputs": [
    {
     "data": {
      "text/plain": [
       "'\\nmultiline \\ncomment\\n'"
      ]
     },
     "execution_count": 8,
     "metadata": {},
     "output_type": "execute_result"
    }
   ],
   "source": [
    "#single line comment\n",
    "\n",
    "'''\n",
    "multiline \n",
    "comment\n",
    "'''"
   ]
  },
  {
   "cell_type": "markdown",
   "id": "76c23ad5",
   "metadata": {},
   "source": [
    "#### Q4. Write a program to find the length of the string without using len() function?"
   ]
  },
  {
   "cell_type": "code",
   "execution_count": 9,
   "id": "b3daa11b-4fee-40dc-a004-dff3ad64bd5b",
   "metadata": {},
   "outputs": [
    {
     "name": "stdout",
     "output_type": "stream",
     "text": [
      "17\n"
     ]
    }
   ],
   "source": [
    "#### Q4. Write a program to find the length of the string without using len() function?\n",
    "\n",
    "str = \"hello from nitish\"\n",
    "length = 0\n",
    "for ch in str:\n",
    "    length += 1\n",
    "print(length)"
   ]
  },
  {
   "cell_type": "markdown",
   "id": "d60aae0d",
   "metadata": {},
   "source": [
    "#### Q5. Write a program to check if the word 'orange' is present in the \"This is orange juice\"?"
   ]
  },
  {
   "cell_type": "code",
   "execution_count": 10,
   "id": "372e9f16-f897-4bbf-8200-de1672210bb7",
   "metadata": {},
   "outputs": [
    {
     "name": "stdout",
     "output_type": "stream",
     "text": [
      "item: 'orange' exists in string: 'This is orange juice'\n"
     ]
    }
   ],
   "source": [
    "#### Q5. Write a program to check if the word 'orange' is present in the \"This is orange juice\"?\n",
    "\n",
    "str = \"This is orange juice\"\n",
    "item = 'orange'\n",
    "if(str.find(item)!=-1):\n",
    "    print(f\"item: '{item}' exists in string: '{str}'\")\n",
    "else:\n",
    "    print(f\"item: '{item}' does NOT exists in string: '{str}'\")"
   ]
  },
  {
   "cell_type": "markdown",
   "id": "6856824d",
   "metadata": {},
   "source": [
    "#### Q6. Write a program to find the number of vowels, consonants, digits, and white space characters in a string?"
   ]
  },
  {
   "cell_type": "code",
   "execution_count": 11,
   "id": "c2848796-f035-4916-b738-3622b1171cdf",
   "metadata": {},
   "outputs": [
    {
     "name": "stdout",
     "output_type": "stream",
     "text": [
      "vowels:8\n",
      "consonants:9\n",
      "whitespaces:3\n",
      "digits:0\n"
     ]
    }
   ],
   "source": [
    "#### Q6. Write a program to find the number of vowels, consonants, digits, and white space characters in a string?\n",
    "\n",
    "str = \"This is orange juice\"\n",
    "\n",
    "vowels = 0\n",
    "consonants = 0\n",
    "whitespaces = 0\n",
    "digits = 0\n",
    "\n",
    "for ch in str:\n",
    "    if ch.isalpha():\n",
    "        is_vowel = False\n",
    "        if ch.casefold() in ['a','e','i','o','u']:\n",
    "            vowels+=1\n",
    "        else:\n",
    "            consonants+=1\n",
    "    elif ch.isspace():\n",
    "        whitespaces+=1\n",
    "    elif ch.isdigit():\n",
    "        digits+=1    \n",
    "\n",
    "print(f\"vowels:{vowels}\")\n",
    "print(f\"consonants:{consonants}\")\n",
    "print(f\"whitespaces:{whitespaces}\")\n",
    "print(f\"digits:{digits}\")\n",
    "    "
   ]
  },
  {
   "cell_type": "markdown",
   "id": "6403d238",
   "metadata": {},
   "source": [
    "#### Q7. Write a Python program to count Uppercase, Lowercase, special character,and numeric values in a given string?"
   ]
  },
  {
   "cell_type": "code",
   "execution_count": 12,
   "id": "33b3aa7c-5d28-4f2d-8d72-32a96819b3d6",
   "metadata": {},
   "outputs": [
    {
     "name": "stdout",
     "output_type": "stream",
     "text": [
      "uppercase:1\n",
      "lowercase:16\n",
      "digits:0\n",
      "special:0\n"
     ]
    }
   ],
   "source": [
    "#### Q7. Write a Python program to count Uppercase, Lowercase, special character,and numeric values in a given string?\n",
    "str = \"This is orange juice\"\n",
    "\n",
    "uppercase = 0\n",
    "lowercase = 0\n",
    "special = 0\n",
    "digits = 0\n",
    "\n",
    "for ch in str:\n",
    "    if ch.isalpha():\n",
    "        if ch.isupper():\n",
    "            uppercase+=1\n",
    "        else:\n",
    "            lowercase+=1\n",
    "    elif ch.isdigit():\n",
    "        digits+=1  \n",
    "    elif ch.isspace():\n",
    "        # skip\n",
    "        pass\n",
    "    else:\n",
    "        special+=1\n",
    "\n",
    "print(f\"uppercase:{uppercase}\")\n",
    "print(f\"lowercase:{lowercase}\")\n",
    "print(f\"digits:{digits}\")\n",
    "print(f\"special:{special}\")"
   ]
  },
  {
   "cell_type": "markdown",
   "id": "0270627a",
   "metadata": {},
   "source": [
    "#### 8. Write a program to make a new string with all the consonants deleted from the string \"Hello, have a good day\"?"
   ]
  },
  {
   "cell_type": "code",
   "execution_count": 13,
   "id": "81bdc59b-d9c1-4719-9855-fd403cadd1d6",
   "metadata": {},
   "outputs": [
    {
     "name": "stdout",
     "output_type": "stream",
     "text": [
      "string after removing consonants: 'eo, ae a oo a'\n"
     ]
    }
   ],
   "source": [
    "#### 8. Write a program to make a new string with all the consonants deleted from the string \"Hello, have a good day\"?\n",
    "\n",
    "str = \"Hello, have a good day\"\n",
    "for ch in str:\n",
    "    if ch.isalpha():\n",
    "        if ch.casefold() in ['a','e','i','o','u']:\n",
    "            pass\n",
    "        else:\n",
    "            str = str.replace(ch,'')\n",
    "print(f\"string after removing consonants: '{str}'\")"
   ]
  },
  {
   "cell_type": "markdown",
   "id": "d6997983",
   "metadata": {},
   "source": [
    "#### Q9. Write a Python program to remove the nth index character from a non-empty string?"
   ]
  },
  {
   "cell_type": "code",
   "execution_count": 14,
   "id": "1c092a94-2266-404b-a637-eceb72e50559",
   "metadata": {},
   "outputs": [
    {
     "name": "stdout",
     "output_type": "stream",
     "text": [
      "Hell, have a good day\n"
     ]
    }
   ],
   "source": [
    "#### Q9. Write a Python program to remove the nth index character from a non-empty string?\n",
    "str = \"Hello, have a good day\"\n",
    "n = 4\n",
    "str = str[:n] + str[n+1:]\n",
    "print(str)"
   ]
  },
  {
   "cell_type": "markdown",
   "id": "d4d42e71",
   "metadata": {},
   "source": [
    "#### Q10. Write a Python program to change a given string to a new string where the first and last characters have been exchanged?"
   ]
  },
  {
   "cell_type": "code",
   "execution_count": 15,
   "id": "d6cce68c-7f0f-427c-905c-dadfad4c4948",
   "metadata": {},
   "outputs": [
    {
     "name": "stdout",
     "output_type": "stream",
     "text": [
      "yello, have a good daH\n"
     ]
    }
   ],
   "source": [
    "#### Q10. Write a Python program to change a given string to a new string where the first and last characters have been exchanged?\n",
    "str = \"Hello, have a good day\"\n",
    "temp = str[0]\n",
    "str = str[-1] + str[1:-1] + str[0]\n",
    "print(str)"
   ]
  },
  {
   "cell_type": "markdown",
   "id": "793a05f9",
   "metadata": {},
   "source": [
    "#### Q11. Write a Python program to count the occurrences of each word in a given sentence?"
   ]
  },
  {
   "cell_type": "code",
   "execution_count": 16,
   "id": "86e5b3cd-e76b-4686-9733-9e602ffefff0",
   "metadata": {},
   "outputs": [
    {
     "name": "stdout",
     "output_type": "stream",
     "text": [
      "['Hello,', 'have', 'a', 'good', 'day!', 'Bye,', 'bye!']\n",
      "{'Hello,': 1, 'have': 1, 'a': 1, 'good': 1, 'day!': 1, 'Bye,': 1, 'bye!': 1}\n"
     ]
    }
   ],
   "source": [
    "#### Q11. Write a Python program to count the occurrences of each word in a given sentence?\n",
    "s = \"Hello, have a good day! Bye, bye!\"\n",
    "\n",
    "words = s.split()\n",
    "occurrences = dict.fromkeys(words, 0)\n",
    "print(words)\n",
    "for word in words:\n",
    "    occurrences[word] += 1\n",
    "print(occurrences)\n",
    "# ocurrences = s.count(word)"
   ]
  },
  {
   "cell_type": "code",
   "execution_count": 17,
   "id": "294d29ef",
   "metadata": {},
   "outputs": [
    {
     "name": "stdout",
     "output_type": "stream",
     "text": [
      "['hello', 'have', 'a', 'good', 'day!', 'bye', 'bye!']\n",
      "{'hello': 1, 'have': 1, 'a': 1, 'good': 1, 'day!': 1, 'bye': 1, 'bye!': 1}\n"
     ]
    }
   ],
   "source": [
    "#### Q11. Write a Python program to count the occurrences of each word in a given sentence?\n",
    "s = \"Hello, have a good day! Bye, bye!\"\n",
    "\n",
    "punctuations = {\n",
    "    \",\": \"\",\n",
    "    \";\": \"\",\n",
    "    \".\": \"\",\n",
    "    \":\": \"\",\n",
    "}\n",
    "\n",
    "# removing punctuatuions, to get words properly\n",
    "words = list(\n",
    "    map(\n",
    "        lambda x: x.casefold(),\n",
    "        s.translate(\n",
    "            str.maketrans(punctuations)\n",
    "        ).split()\n",
    "    ))\n",
    "occurrences = dict.fromkeys(words, 0)\n",
    "print(words)\n",
    "for word in words:\n",
    "    occurrences[word] += 1\n",
    "print(occurrences)\n",
    "# ocurrences = str.count(word)"
   ]
  },
  {
   "cell_type": "code",
   "execution_count": 18,
   "id": "82b67cf8",
   "metadata": {},
   "outputs": [
    {
     "name": "stdout",
     "output_type": "stream",
     "text": [
      "['hello', 'have', 'a', 'good', 'day!', 'bye', 'bye!']\n",
      "{'hello': 1, 'have': 1, 'a': 1, 'good': 1, 'day!': 1, 'bye': 1, 'bye!': 1}\n"
     ]
    }
   ],
   "source": [
    "#### Q11. Write a Python program to count the occurrences of each word in a given sentence?\n",
    "s = \"Hello, have a good day! Bye, bye!\"\n",
    "\n",
    "punctuations = [\",\", \";\", \".\", \":\",]\n",
    "\n",
    "# removing punctuatuions, to get words properly\n",
    "words = list(\n",
    "    map(\n",
    "        lambda x: x.casefold(),\n",
    "        s.translate(\n",
    "            str.maketrans(dict.fromkeys(punctuations,\"\"))\n",
    "        ).split()\n",
    "    ))\n",
    "occurrences = dict.fromkeys(words, 0)\n",
    "print(words)\n",
    "for word in words:\n",
    "    occurrences[word] += 1\n",
    "print(occurrences)\n",
    "# ocurrences = str.count(word)"
   ]
  },
  {
   "cell_type": "markdown",
   "id": "b6611602",
   "metadata": {},
   "source": [
    "#### Q12. How do you count the occurrence of a given character in a string?"
   ]
  },
  {
   "cell_type": "code",
   "execution_count": 19,
   "id": "bc384faf",
   "metadata": {},
   "outputs": [
    {
     "name": "stdout",
     "output_type": "stream",
     "text": [
      "2\n"
     ]
    }
   ],
   "source": [
    "#### Q12. How do you count the occurrence of a given character in a string?\n",
    "str = \"Hello, have a good good day\"\n",
    "print(str.count(\"good\"))"
   ]
  },
  {
   "cell_type": "markdown",
   "id": "5cd3b975",
   "metadata": {},
   "source": [
    "#### Q13. Write a program to find last 10 characters of a string?"
   ]
  },
  {
   "cell_type": "code",
   "execution_count": 20,
   "id": "9dcb1006-7e32-4e28-9f52-f142cff38870",
   "metadata": {},
   "outputs": [
    {
     "name": "stdout",
     "output_type": "stream",
     "text": [
      "a good day\n"
     ]
    }
   ],
   "source": [
    "#### Q13. Write a program to find last 10 characters of a string?\n",
    "str = \"Hello, have a good day\"\n",
    "str = str[-10:]\n",
    "print(str)"
   ]
  },
  {
   "cell_type": "markdown",
   "id": "0569712c",
   "metadata": {},
   "source": [
    "#### Q14. Write a program to convert a given string to all uppercase if it contains at least 2 uppercase characters in the first 4 characters?"
   ]
  },
  {
   "cell_type": "code",
   "execution_count": 21,
   "id": "8cbc1f1b-d35a-4637-9fc8-ebfa963f769d",
   "metadata": {},
   "outputs": [
    {
     "name": "stdout",
     "output_type": "stream",
     "text": [
      "HELLO, HAVE A GOOD DAY\n"
     ]
    }
   ],
   "source": [
    "#### Q14. Write a program to convert a given string to all uppercase if it contains at least 2 uppercase characters in the first 4 characters?\n",
    "str = \"HeLlo, have a good day\"\n",
    "upper_count = 0\n",
    "for i in range(0, 4):\n",
    "    if str[i].isupper():\n",
    "        upper_count+=1\n",
    "if(upper_count > 1):\n",
    "    str = str.upper()\n",
    "print(str)"
   ]
  },
  {
   "cell_type": "markdown",
   "id": "8674f739",
   "metadata": {},
   "source": [
    "#### Q15. Write a Python program to remove a newline in Python?"
   ]
  },
  {
   "cell_type": "code",
   "execution_count": 22,
   "id": "472056db-5a02-4cb2-ad86-d25985732f6d",
   "metadata": {},
   "outputs": [
    {
     "name": "stdout",
     "output_type": "stream",
     "text": [
      "\n",
      "Hello, \n",
      "have a \n",
      "good day\n",
      "\n",
      "Hello, have a good day\n"
     ]
    }
   ],
   "source": [
    "#### Q15. Write a Python program to remove a newline in Python?\n",
    "str = \"\"\"\n",
    "Hello, \n",
    "have a \n",
    "good day\n",
    "\"\"\"\n",
    "print(str)\n",
    "str = str.replace(\"\\n\", \"\")\n",
    "print(str)"
   ]
  },
  {
   "cell_type": "markdown",
   "id": "ff58779d",
   "metadata": {},
   "source": [
    "#### Q16. Write a Python program to swap commas and dots in a string o Sample string: \"32.054,23\" Expected Output: \"32,054.23\"?"
   ]
  },
  {
   "cell_type": "code",
   "execution_count": 23,
   "id": "b322dc8b-9a33-41a1-9944-fb19c609ee27",
   "metadata": {},
   "outputs": [
    {
     "name": "stdout",
     "output_type": "stream",
     "text": [
      "32,054.23\n"
     ]
    }
   ],
   "source": [
    "#### Q16. Write a Python program to swap commas and dots in a string o Sample string: \"32.054,23\" Expected Output: \"32,054.23\"?\n",
    "str = \"32.054,23\"\n",
    "dots = str.split(sep=\",\")\n",
    "dots_ = []\n",
    "for dot in dots:\n",
    "    dot_ = dot.replace(\".\",\",\")\n",
    "    dots_.append(dot_)\n",
    "str = (\".\").join(dots_)\n",
    "print(str)"
   ]
  },
  {
   "cell_type": "markdown",
   "id": "14279ced",
   "metadata": {},
   "source": [
    "#### Q17. Write a Python program to find the first repeated character in a given string?"
   ]
  },
  {
   "cell_type": "code",
   "execution_count": 24,
   "id": "beab105e-8ebf-4bcb-9cb1-08a38252c346",
   "metadata": {},
   "outputs": [
    {
     "name": "stdout",
     "output_type": "stream",
     "text": [
      "l\n"
     ]
    }
   ],
   "source": [
    "#### Q17. Write a Python program to find the first repeated character in a given string?\n",
    "str = \"Hello, have a good day\"\n",
    "first_repeated_index = len(str)\n",
    "\n",
    "i = 0\n",
    "j = len(str)-1\n",
    "while i < j:\n",
    "    local_minima = str.find(str[i], i+1, j+1)\n",
    "    if local_minima>0 and local_minima < first_repeated_index:\n",
    "        first_repeated_index = local_minima\n",
    "        j = local_minima\n",
    "    i+=1\n",
    "if(first_repeated_index == len(str)):\n",
    "    print(\"no repetition\")\n",
    "else:\n",
    "    print(str[first_repeated_index])\n",
    "    "
   ]
  },
  {
   "cell_type": "markdown",
   "id": "60771589",
   "metadata": {},
   "source": [
    "#### Q18. Write a Python program to find the second most repeated word in a given string?"
   ]
  },
  {
   "cell_type": "code",
   "execution_count": 25,
   "id": "408ee7bd-24b3-4dff-80bb-f1744811365b",
   "metadata": {},
   "outputs": [
    {
     "name": "stdout",
     "output_type": "stream",
     "text": [
      "['Hello,', 'have', 'a', 'good', 'day']\n",
      "dict_values([1, 1, 1, 1, 1])\n"
     ]
    }
   ],
   "source": [
    "#### Q18. Write a Python program to find the second most repeated word in a given string?\n",
    "str = \"Hello, have a good day\"\n",
    "words = str.split()\n",
    "occurrences = dict.fromkeys(words, 0)\n",
    "print(words)\n",
    "for word in words:\n",
    "    occurrences[word] += 1\n",
    "print(occurrences.values())\n",
    "# ocurrences = str.count(word)"
   ]
  },
  {
   "cell_type": "markdown",
   "id": "1d69135a",
   "metadata": {},
   "source": [
    "#### Q20. How do you remove a given character/word from String?"
   ]
  },
  {
   "cell_type": "code",
   "execution_count": 26,
   "id": "008ebb26-f2a1-4671-bb6a-2c08ac3d4b78",
   "metadata": {},
   "outputs": [
    {
     "name": "stdout",
     "output_type": "stream",
     "text": [
      "Hello,  a good day\n"
     ]
    }
   ],
   "source": [
    "#### Q20. How do you remove a given character/word from String?\n",
    "str = \"Hello, have a good day\"\n",
    "to_remove = \"have\"\n",
    "str = str.replace(to_remove, \"\")\n",
    "print(str)"
   ]
  },
  {
   "cell_type": "markdown",
   "id": "80899b84",
   "metadata": {},
   "source": [
    "#### Q21. Write a Python program to print the characters which have odd index values of a given string? "
   ]
  },
  {
   "cell_type": "code",
   "execution_count": 27,
   "id": "aac094a2-1389-436e-968b-57326edb7c34",
   "metadata": {},
   "outputs": [
    {
     "name": "stdout",
     "output_type": "stream",
     "text": [
      "e\n",
      "l\n",
      ",\n",
      "h\n",
      "v\n",
      " \n",
      " \n",
      "o\n",
      "d\n",
      "d\n",
      "y\n"
     ]
    }
   ],
   "source": [
    "#### Q21. Write a Python program to print the characters which have odd index values of a given string? \n",
    "str = \"Hello, have a good day\"\n",
    "for i in range(1, len(str)):\n",
    "    if i%2:\n",
    "        print(str[i])\n",
    "    "
   ]
  },
  {
   "cell_type": "markdown",
   "id": "31dfc9a2",
   "metadata": {},
   "source": [
    "#### Q22. Write a Python function to reverse a string if its length is a multiple of 5?"
   ]
  },
  {
   "cell_type": "code",
   "execution_count": 28,
   "id": "593b316a-db7a-4f5e-ada0-b7107c8d3c40",
   "metadata": {},
   "outputs": [
    {
     "name": "stdout",
     "output_type": "stream",
     "text": [
      "olleH\n"
     ]
    }
   ],
   "source": [
    "#### Q22. Write a Python function to reverse a string if its length is a multiple of 5?\n",
    "str = \"Hello\"\n",
    "if len(str)%5 == 0:\n",
    "    str = str[::-1]\n",
    "print(str)"
   ]
  },
  {
   "cell_type": "markdown",
   "id": "2b7f008b",
   "metadata": {},
   "source": [
    "#### Q23. Python Program to find simple interest and compound interest?"
   ]
  },
  {
   "cell_type": "code",
   "execution_count": 29,
   "id": "07a1878e-5855-4577-8ddd-f2fd3a70a6c9",
   "metadata": {},
   "outputs": [
    {
     "name": "stdout",
     "output_type": "stream",
     "text": [
      "simple interest on principle: 1000, for time: 2, on interest rate: 0.05 is 100.0\n"
     ]
    }
   ],
   "source": [
    "#### Q23. Python Program to find simple interest and compound interest?\n",
    "p = 1000\n",
    "r = 0.05  # i.e., 5%\n",
    "t = 2\n",
    "simple_interest = p*r*t\n",
    "print(f\"simple interest on principle: {p}, for time: {t}, on interest rate: {r} is {simple_interest}\")"
   ]
  },
  {
   "cell_type": "markdown",
   "id": "e85e7144",
   "metadata": {},
   "source": [
    "#### Q24. Write a Python program to format a number with a percentage(0.05 >>5%)?"
   ]
  },
  {
   "cell_type": "code",
   "execution_count": 30,
   "id": "9ea75ceb-ab66-4c61-8017-eaf9f476ec03",
   "metadata": {},
   "outputs": [
    {
     "name": "stdout",
     "output_type": "stream",
     "text": [
      "5.000000%\n"
     ]
    }
   ],
   "source": [
    "#### Q24. Write a Python program to format a number with a percentage(0.05 >>5%)?\n",
    "num = 0.05\n",
    "percentage = format(num,\"%\")\n",
    "print(percentage)"
   ]
  },
  {
   "cell_type": "markdown",
   "id": "5accb6b1",
   "metadata": {},
   "source": [
    "#### Q25. Write a Python program to reverse words in a string?"
   ]
  },
  {
   "cell_type": "code",
   "execution_count": 31,
   "id": "c36eb2a6-ba9f-4639-a6a4-f7d3734b8198",
   "metadata": {},
   "outputs": [
    {
     "name": "stdout",
     "output_type": "stream",
     "text": [
      "day good a have Hello,\n"
     ]
    }
   ],
   "source": [
    "#### Q25. Write a Python program to reverse words in a string?\n",
    "str = \"Hello, have a good day\"\n",
    "words = str.split()\n",
    "words.reverse()\n",
    "str = \" \".join(words)\n",
    "print(str)"
   ]
  },
  {
   "cell_type": "markdown",
   "id": "73db28e3",
   "metadata": {},
   "source": [
    "#### Q26. Write a Python program to swap cases of a given string?"
   ]
  },
  {
   "cell_type": "code",
   "execution_count": 32,
   "id": "4cf11cb2-f94b-48cd-a5a4-3e605e05c539",
   "metadata": {},
   "outputs": [
    {
     "name": "stdout",
     "output_type": "stream",
     "text": [
      "hELLO, HAVE A GOOD DAY\n"
     ]
    }
   ],
   "source": [
    "#### Q26. Write a Python program to swap cases of a given string?\n",
    "str = \"Hello, have a good day\"\n",
    "str = map(lambda x: {False: x.lower(), True: x.upper()}[x.islower()], str )\n",
    "str = \"\".join(list(str))\n",
    "print(str)"
   ]
  },
  {
   "cell_type": "markdown",
   "id": "8416c70b",
   "metadata": {},
   "source": [
    "#### Q27. Write a Python program to remove spaces from a given string?"
   ]
  },
  {
   "cell_type": "code",
   "execution_count": 33,
   "id": "0064b7cb",
   "metadata": {},
   "outputs": [
    {
     "name": "stdout",
     "output_type": "stream",
     "text": [
      "Hello,haveagoodday\n"
     ]
    }
   ],
   "source": [
    "#### Q27. Write a Python program to remove spaces from a given string?\n",
    "str = \"Hello, have a good day\"\n",
    "str = map(lambda x: (x,\"\")[x.isspace()], str)\n",
    "str = \"\".join(list(str))\n",
    "print(str)"
   ]
  },
  {
   "cell_type": "markdown",
   "id": "7663c96b",
   "metadata": {},
   "source": [
    "#### Q28. Write a Python Program to find the area of a circle?"
   ]
  },
  {
   "cell_type": "code",
   "execution_count": 34,
   "id": "b491b214",
   "metadata": {},
   "outputs": [
    {
     "name": "stdout",
     "output_type": "stream",
     "text": [
      "3.141592653589793\n",
      "3.142857142857143\n",
      "area of a circle having radius: 29  is: 2642.079421669016\n"
     ]
    }
   ],
   "source": [
    "#### Q28. Write a Python Program to find the area of a circle?\n",
    "import math\n",
    "\n",
    "PI = tuple([22/7])\n",
    "r = 29\n",
    "print(math.pi)\n",
    "print(PI[0])\n",
    "area = math.pi*(r**2)\n",
    "# area = PI[0]*(r**2)\n",
    "print(f\"area of a circle having radius: {r}  is: {area}\")"
   ]
  }
 ],
 "metadata": {
  "kernelspec": {
   "display_name": "Python 3",
   "language": "python",
   "name": "python3"
  },
  "language_info": {
   "codemirror_mode": {
    "name": "ipython",
    "version": 3
   },
   "file_extension": ".py",
   "mimetype": "text/x-python",
   "name": "python",
   "nbconvert_exporter": "python",
   "pygments_lexer": "ipython3",
   "version": "3.9.20"
  }
 },
 "nbformat": 4,
 "nbformat_minor": 5
}
